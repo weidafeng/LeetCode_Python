{
 "cells": [
  {
   "cell_type": "code",
   "execution_count": null,
   "metadata": {},
   "outputs": [],
   "source": []
  },
  {
   "cell_type": "code",
   "execution_count": 25,
   "metadata": {},
   "outputs": [
    {
     "data": {
      "text/plain": [
       "'a'"
      ]
     },
     "execution_count": 25,
     "metadata": {},
     "output_type": "execute_result"
    }
   ],
   "source": [
    "# 方法一\n",
    "class Solution(object):\n",
    "    def longestCommonPrefix(self, strs):\n",
    "        \"\"\"\n",
    "        :type strs: List[str]\n",
    "        :rtype: str\n",
    "        \"\"\"\n",
    "        pre , temp = '',''  # temp 为中间变量，用于储存相等的字符\n",
    "        n = len(strs)\n",
    "        \n",
    "        # 注意：如果输入为空[]，或者只有一个字符串，则直接输出  \n",
    "        if n == 0:\n",
    "            return ''\n",
    "        elif n==1:\n",
    "            return strs[0]\n",
    "        \n",
    "        m = []              # min(len(strs[i])) \n",
    "        for i in range(n):\n",
    "            m.append(len(strs[i]))\n",
    "        m = min(m)          # 获取最短字符串的长度\n",
    "        \n",
    "        \n",
    "        for j in range(m):\n",
    "            for i in range(n-1):\n",
    "                if strs[i][j] != strs[i+1][j]:  #依次比较相邻两字符串，如果判别出不相等，直接返回；也可都与某个字符串比（如都与第一个比）\n",
    "                    return pre\n",
    "                else:\n",
    "                    temp = strs[i][j] \n",
    "            pre+=temp       # 如果相等，则字符串拼接到一起（+号就行）\n",
    "        return pre\n",
    "    \n",
    "x = Solution()\n",
    "x.longestCommonPrefix([\"abc\",\"ad\",'abc'])"
   ]
  },
  {
   "cell_type": "code",
   "execution_count": 37,
   "metadata": {},
   "outputs": [
    {
     "data": {
      "text/plain": [
       "'a'"
      ]
     },
     "execution_count": 37,
     "metadata": {},
     "output_type": "execute_result"
    }
   ],
   "source": [
    "#方法一精简代码\n",
    "\n",
    "class Solution:\n",
    "    def longestCommonPrefix(self, strs):\n",
    "        \"\"\"\n",
    "        :type strs: List[str]\n",
    "        :rtype: str\n",
    "        \"\"\"\n",
    "        #横向扫描，每个字符串与第0个字符串，从左到右比较，直到遇到一个不匹配，\n",
    "        #然后继续下一个字符串\n",
    "        #时间复杂度O(n1+n2+...)\n",
    "        if len(strs) == 0: \n",
    "            return \"\"\n",
    "        m = min([len(str_) for str_ in strs]) # m 是最短的字符串的长度\n",
    "        for j in range(m):\n",
    "            for i in range(1, len(strs)):\n",
    "                if strs[i][j] != strs[0][j]:\n",
    "                    return strs[0][:j]\n",
    "        return strs[0][:m]\n",
    "    \n",
    "x = Solution()\n",
    "x.longestCommonPrefix([\"abc\",\"ad\",'abc'])"
   ]
  },
  {
   "cell_type": "code",
   "execution_count": 23,
   "metadata": {},
   "outputs": [
    {
     "data": {
      "text/plain": [
       "'a'"
      ]
     },
     "execution_count": 23,
     "metadata": {},
     "output_type": "execute_result"
    }
   ],
   "source": [
    "# 方法三 先利用字符串数组的排序，然后只需比较第一个和最后一个字符串的公共前缀\n",
    "# 24ms\n",
    "\n",
    "def longestCommonPrefix(strs):\n",
    "        \"\"\"\n",
    "        :type strs: List[str]\n",
    "        :rtype: str\n",
    "        \"\"\"\n",
    "        pre = \"\"\n",
    "        if not strs: #空数组\n",
    "            return pre\n",
    "        strs.sort()  #从小到大排序，in-place ，另一种strs = sorted（strs）不是in-place\n",
    "#         print(strs)\n",
    "        #只需比较第一个与最后一个的公共前缀\n",
    "        #尽管第一个不一定是最短的，但一定包含公共前缀\n",
    "        for j in range(len(strs[0])):\n",
    "                if strs[-1][j] != strs[0][j]: \n",
    "                    return pre\n",
    "                else: \n",
    "                    pre += strs[0][j]\n",
    "        return pre\n",
    "\n",
    "longestCommonPrefix([\"abc\",\"ad\",'abc'])"
   ]
  },
  {
   "cell_type": "code",
   "execution_count": null,
   "metadata": {},
   "outputs": [],
   "source": []
  },
  {
   "cell_type": "code",
   "execution_count": 36,
   "metadata": {},
   "outputs": [
    {
     "data": {
      "text/plain": [
       "'d'"
      ]
     },
     "execution_count": 36,
     "metadata": {},
     "output_type": "execute_result"
    }
   ],
   "source": [
    "# 方法四 \n",
    "# 36 ms\n",
    "def longestCommonPrefix(strs):\n",
    "    if strs == []:\n",
    "        return ''\n",
    "    for i in range(len(strs[0])): \n",
    "        for str_ in strs:\n",
    "#             print(str_,str_[i],strs[0],strs[0][i])\n",
    "            if len(str_) <= i or str_[i] != strs[0][i]:  #如果后面的字符串没有第一个长，或者对应元素不相等\n",
    "                return strs[0][:i]  #第一个字符串的前i个元素即为公共前缀\n",
    "    return strs[0]\n",
    "\n",
    "longestCommonPrefix( [\"d\"])"
   ]
  },
  {
   "cell_type": "code",
   "execution_count": null,
   "metadata": {},
   "outputs": [],
   "source": []
  },
  {
   "cell_type": "code",
   "execution_count": null,
   "metadata": {},
   "outputs": [],
   "source": []
  },
  {
   "cell_type": "code",
   "execution_count": 56,
   "metadata": {},
   "outputs": [
    {
     "data": {
      "text/plain": [
       "''"
      ]
     },
     "execution_count": 56,
     "metadata": {},
     "output_type": "execute_result"
    }
   ],
   "source": [
    "#方法五 利用zip函数的性质（相关说明在下面介绍）\n",
    "# 40ms\n",
    "\n",
    "def longestCommonPrefix(strs):\n",
    "    if not strs:\n",
    "        return ''\n",
    "#     print(list(zip(*strs)))\n",
    "#     print(list(enumerate(zip(*strs))))\n",
    "    for i, chars in enumerate(zip(*strs)):\n",
    "#         print(i,chars)\n",
    "        if len(set(chars)) > 1:\n",
    "            return strs[0][:i]\n",
    "    return min(strs)\n",
    "\n",
    "longestCommonPrefix(  [\"dog\",\"racecar\",\"cara\"])"
   ]
  },
  {
   "cell_type": "code",
   "execution_count": 65,
   "metadata": {},
   "outputs": [
    {
     "name": "stdout",
     "output_type": "stream",
     "text": [
      "[(1, 'a'), (2, 'b'), (3, 'c')]\n",
      "[('d', 'c', 'r'), ('o', 'a', 'a'), ('g', 'r', 'c')]\n"
     ]
    }
   ],
   "source": [
    "# zip函数\n",
    "\n",
    "# zip() 函数用于将可迭代的对象作为参数，将对象中对应的元素打包成一个个元组，然后返回由这些元组组成的对象，这样做的好处是节约了不少的内存。\n",
    "# 如果各个迭代器的元素个数不一致，则返回列表长度与最短的对象相同\n",
    "\n",
    "a = [1,2,3]\n",
    "b = [\"a\",\"b\",\"c\",\"d\"]\n",
    "print(list(zip(a,b)))\n",
    "\n",
    "strs = [\"dog\",\"cara\",\"racecar\"]  #返回列表长度与最短的对象相同\n",
    "print(list(zip(*strs)))  # *相当于解压"
   ]
  },
  {
   "cell_type": "code",
   "execution_count": 66,
   "metadata": {},
   "outputs": [
    {
     "name": "stdout",
     "output_type": "stream",
     "text": [
      "[(0, 'Spring'), (1, 'Summer'), (2, 'Fall'), (3, 'Winter')]\n"
     ]
    }
   ],
   "source": [
    "# enumerate\n",
    "# enumerate() 函数用于将一个可遍历的数据对象(如列表、元组或字符串)组合为一个索引序列，同时列出数据和数据下标\n",
    "# 语法：enumerate(sequence, [start=0])\n",
    "\n",
    "seasons = ['Spring', 'Summer', 'Fall', 'Winter']\n",
    "print(list(enumerate(seasons)))\n"
   ]
  }
 ],
 "metadata": {
  "kernelspec": {
   "display_name": "Python 3",
   "language": "python",
   "name": "python3"
  },
  "language_info": {
   "codemirror_mode": {
    "name": "ipython",
    "version": 3
   },
   "file_extension": ".py",
   "mimetype": "text/x-python",
   "name": "python",
   "nbconvert_exporter": "python",
   "pygments_lexer": "ipython3",
   "version": "3.6.5"
  }
 },
 "nbformat": 4,
 "nbformat_minor": 2
}
