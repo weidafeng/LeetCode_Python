{
 "cells": [
  {
   "cell_type": "markdown",
   "metadata": {},
   "source": [
    "# 53. Maximum Subarray [Easy]\n",
    "\n",
    "https://leetcode.com/problems/maximum-subarray/"
   ]
  },
  {
   "cell_type": "code",
   "execution_count": null,
   "metadata": {},
   "outputs": [],
   "source": []
  },
  {
   "cell_type": "code",
   "execution_count": 12,
   "metadata": {},
   "outputs": [
    {
     "data": {
      "text/plain": [
       "6"
      ]
     },
     "execution_count": 12,
     "metadata": {},
     "output_type": "execute_result"
    }
   ],
   "source": [
    "# 方法一 动态规划，遍历数组，获取以当前位置元素为结尾的最大子串\n",
    "# Runtime: 24 ms, faster than 99.98% of Python online submissions for Maximum Subarray.\n",
    "# Memory Usage: 11.4 MB, less than 45.04% of Python online submissions for Maximum Subarray.\n",
    "\n",
    "class Solution(object):\n",
    "    def maxSubArray(self, nums):\n",
    "        \"\"\"\n",
    "        :type nums: List[int]\n",
    "        :rtype: int\n",
    "        \"\"\"\n",
    "        temp = -10000\n",
    "        temp_list = []\n",
    "        for n in nums:\n",
    "            temp = max(n,n+temp) #依次获取到该位为止，最大的子串和\n",
    "            temp_list.append(temp)\n",
    "        return max(temp_list)\n",
    "#         print(temp_list,max(temp_list))\n",
    "        \n",
    "nums= [-2,1,-3,4,-1,2,1,-5,4]       \n",
    "x = Solution()\n",
    "x.maxSubArray(nums)"
   ]
  },
  {
   "cell_type": "code",
   "execution_count": 13,
   "metadata": {},
   "outputs": [
    {
     "data": {
      "text/plain": [
       "6"
      ]
     },
     "execution_count": 13,
     "metadata": {},
     "output_type": "execute_result"
    }
   ],
   "source": [
    "# 方法一 优化\n",
    "# 动态规划，遍历数组，获取以当前位置元素为结尾的最大子串\n",
    "\n",
    "class Solution(object):\n",
    "    def maxSubArray(self, nums):\n",
    "        \"\"\"\n",
    "        :type nums: List[int]\n",
    "        :rtype: int\n",
    "        \"\"\"\n",
    "        temp = -10000\n",
    "#         temp_list = []  #数组存储所有数浪费内存，可以只存储最大数\n",
    "        temp_num = -10000\n",
    "        for n in nums:\n",
    "            temp = max(n,n+temp) #依次获取到该位为止，最大的子串和\n",
    "            temp_num = max(temp,temp_num)\n",
    "        return temp_num\n",
    "#         print(temp_list,max(temp_list))\n",
    "        \n",
    "nums= [-2,1,-3,4,-1,2,1,-5,4]       \n",
    "x = Solution()\n",
    "x.maxSubArray(nums)"
   ]
  },
  {
   "cell_type": "code",
   "execution_count": 14,
   "metadata": {},
   "outputs": [
    {
     "data": {
      "text/plain": [
       "6"
      ]
     },
     "execution_count": 14,
     "metadata": {},
     "output_type": "execute_result"
    }
   ],
   "source": [
    "# 方法二 如果前面子串和为负数，可以直接舍去（否则越加越小，不合要求\n",
    "# Runtime: 24 ms, faster than 99.98% of Python online submissions for Maximum Subarray.\n",
    "# Memory Usage: 11.2 MB, less than 83.24% of Python online submissions for Maximum Subarray.\n",
    "\n",
    "class Solution(object):\n",
    "    def maxSubArray(self, nums):\n",
    "        \"\"\"\n",
    "        :type nums: List[int]\n",
    "        :rtype: int\n",
    "        \"\"\"\n",
    "        max_sum,curr_sum = -10000,0\n",
    "        for n in nums:\n",
    "            if curr_sum < 0:\n",
    "                curr_sum = 0  # 如果前面子串和小于零，舍弃前面子串\n",
    "            curr_sum = curr_sum + n\n",
    "            max_sum = max(max_sum,curr_sum)\n",
    "        return max_sum\n",
    "#         print(temp_list,max(temp_list))\n",
    "        \n",
    "nums= [-2,1,-3,4,-1,2,1,-5,4]       \n",
    "x = Solution()\n",
    "x.maxSubArray(nums)"
   ]
  },
  {
   "cell_type": "code",
   "execution_count": 17,
   "metadata": {},
   "outputs": [
    {
     "name": "stdout",
     "output_type": "stream",
     "text": [
      "1 [-2, 1, -3, 4, -1, 2, 1, -5, 4]\n",
      "2 [-2, 1, -2, 4, -1, 2, 1, -5, 4]\n",
      "3 [-2, 1, -2, 4, -1, 2, 1, -5, 4]\n",
      "4 [-2, 1, -2, 4, 3, 2, 1, -5, 4]\n",
      "5 [-2, 1, -2, 4, 3, 5, 1, -5, 4]\n",
      "6 [-2, 1, -2, 4, 3, 5, 6, -5, 4]\n",
      "7 [-2, 1, -2, 4, 3, 5, 6, 1, 4]\n",
      "8 [-2, 1, -2, 4, 3, 5, 6, 1, 5]\n"
     ]
    },
    {
     "data": {
      "text/plain": [
       "6"
      ]
     },
     "execution_count": 17,
     "metadata": {},
     "output_type": "execute_result"
    }
   ],
   "source": [
    "# 方法三 \n",
    "# 遍历数组，依次相加，如果加上后面数字后，反而变小，则不加\n",
    "# Runtime: 36 ms, faster than 31.15% of Python online submissions for Maximum Subarray.\n",
    "# Memory Usage: 11.7 MB, less than 25.51% of Python online submissions for Maximum Subarray.\n",
    "\n",
    "class Solution(object):\n",
    "    def maxSubArray(self, nums):\n",
    "        \"\"\"\n",
    "        :type nums: List[int]\n",
    "        :rtype: int\n",
    "        \"\"\"\n",
    "        for i in range(1,len(nums)):\n",
    "            nums[i] = max(nums[i],nums[i]+nums[i-1]) # 记录最大子串和，如果加上后面数字后，反而变小，则不加\n",
    "            print(i,nums)\n",
    "        return max(nums)\n",
    "#         print(temp_list,max(temp_list))\n",
    "        \n",
    "nums= [-2,1,-3,4,-1,2,1,-5,4]       \n",
    "x = Solution()\n",
    "x.maxSubArray(nums)"
   ]
  },
  {
   "cell_type": "code",
   "execution_count": 21,
   "metadata": {},
   "outputs": [
    {
     "name": "stdout",
     "output_type": "stream",
     "text": [
      "6\n"
     ]
    }
   ],
   "source": [
    "# 方法四\n",
    "nums= [-2,1,-3,4,-1,2,1,-5,4]  \n",
    "for i in range(1, len(nums)):\n",
    "    if nums[i-1] > 0:\n",
    "        nums[i] += nums[i-1]\n",
    "print (max(nums))"
   ]
  },
  {
   "cell_type": "code",
   "execution_count": null,
   "metadata": {},
   "outputs": [],
   "source": []
  }
 ],
 "metadata": {
  "kernelspec": {
   "display_name": "Python 3",
   "language": "python",
   "name": "python3"
  },
  "language_info": {
   "codemirror_mode": {
    "name": "ipython",
    "version": 3
   },
   "file_extension": ".py",
   "mimetype": "text/x-python",
   "name": "python",
   "nbconvert_exporter": "python",
   "pygments_lexer": "ipython3",
   "version": "3.6.5"
  }
 },
 "nbformat": 4,
 "nbformat_minor": 2
}
