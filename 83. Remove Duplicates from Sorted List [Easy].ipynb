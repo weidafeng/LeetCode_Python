{
 "cells": [
  {
   "cell_type": "markdown",
   "metadata": {},
   "source": [
    "# 83. Remove Duplicates from Sorted List [Easy]\n",
    "\n",
    "https://leetcode.com/problems/remove-duplicates-from-sorted-list/"
   ]
  },
  {
   "cell_type": "code",
   "execution_count": null,
   "metadata": {},
   "outputs": [],
   "source": [
    "# 方法一 循环、跳过重复的值\n",
    "\n",
    "# Details \n",
    "# Runtime: 28 ms, faster than 100.00% of Python online submissions for Remove Duplicates from Sorted List.\n",
    "# Memory Usage: 11 MB, less than 19.19% of Python online submissions for Remove Duplicates from Sorted \n",
    "\n",
    "# Definition for singly-linked list.\n",
    "# class ListNode(object):\n",
    "#     def __init__(self, x):\n",
    "#         self.val = x\n",
    "#         self.next = None\n",
    "\n",
    "class Solution(object):\n",
    "    def deleteDuplicates(self, head):\n",
    "        \"\"\"\n",
    "        :type head: ListNode\n",
    "        :rtype: ListNode\n",
    "        \"\"\"\n",
    "        cur = head  # 保留头指针信息\n",
    "        while cur: # 不为空\n",
    "            while cur.next and cur.next.val == cur.val:\n",
    "                cur.next = cur.next.next     # 跳过重复的节点\n",
    "            cur = cur.next     # 不重复、移向下一个节点\n",
    "        return head\n",
    "    "
   ]
  },
  {
   "cell_type": "markdown",
   "metadata": {},
   "source": [
    "**Why do you set cur = head? Why can't you just operate directly off of head? Thanks :)**\n",
    "\n",
    "**为什么必须设置另一个指针 cur = head，不能直接操作原指针head吗？**\n",
    "\n",
    "Because in Python, every value is a reference, you can say a pointer, to an object. Objects cannot be values. Assignment always copies the value; two such pointers point to the same object. Hope that helps.\n",
    "\n",
    "if you operate with head directly, you will lost the pointer point at the head after running the while loop.  \n",
    "**如果直接操作原指针head，在循环中，会丢失列表的头指针信息** \n",
    "Therefore, we set another pointer cur = head and we can return the left linked list with pointer head, which hasn't been changed during the while loop. Hope that helps."
   ]
  },
  {
   "cell_type": "code",
   "execution_count": null,
   "metadata": {},
   "outputs": [],
   "source": []
  },
  {
   "cell_type": "code",
   "execution_count": 5,
   "metadata": {},
   "outputs": [],
   "source": [
    "# 方法二 递归法\n",
    "\n",
    "# Runtime: 32 ms, faster than 53.20% of Python online submissions for Remove Duplicates from Sorted List.\n",
    "# Memory Usage: 11.1 MB, less than 6.39% of Python online submissions for Remove Duplicates from Sorted List.\n",
    "# Definition for singly-linked list.\n",
    "class ListNode(object):\n",
    "    def __init__(self, x):\n",
    "        self.val = x\n",
    "        self.next = None\n",
    "\n",
    "class Solution(object):\n",
    "    def deleteDuplicates(self, head):\n",
    "        \"\"\"\n",
    "        :type head: ListNode\n",
    "        :rtype: ListNode\n",
    "        \"\"\"\n",
    "        if head and head.next:  # 不为空\n",
    "            head.next = self.deleteDuplicates(head.next)  # 递归\n",
    "            return head.next if head.next.val == head.val else head  # 如果两个相邻的值相等，则从第二个值开始返回，否则返回整个列表\n",
    "        return head\n",
    "    \n"
   ]
  }
 ],
 "metadata": {
  "kernelspec": {
   "display_name": "Python 3",
   "language": "python",
   "name": "python3"
  },
  "language_info": {
   "codemirror_mode": {
    "name": "ipython",
    "version": 3
   },
   "file_extension": ".py",
   "mimetype": "text/x-python",
   "name": "python",
   "nbconvert_exporter": "python",
   "pygments_lexer": "ipython3",
   "version": "3.6.5"
  }
 },
 "nbformat": 4,
 "nbformat_minor": 2
}
