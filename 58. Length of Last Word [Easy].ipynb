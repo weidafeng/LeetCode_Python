{
 "cells": [
  {
   "cell_type": "markdown",
   "metadata": {},
   "source": [
    "# 58. Length of Last Word\n",
    "\n",
    "https://leetcode.com/problems/length-of-last-word/\n",
    "\n"
   ]
  },
  {
   "cell_type": "code",
   "execution_count": 1,
   "metadata": {},
   "outputs": [
    {
     "data": {
      "text/plain": [
       "0"
      ]
     },
     "execution_count": 1,
     "metadata": {},
     "output_type": "execute_result"
    }
   ],
   "source": [
    "# 方法一 利用split（）函数\n",
    "# Runtime: 16 ms, faster than 100.00% of Python online submissions for Length of Last Word.\n",
    "# Memory Usage: 10.9 MB, less than 27.59% of Python online submissions for Length of Last Word.\n",
    "class Solution(object):\n",
    "    def lengthOfLastWord(self, s):\n",
    "        \"\"\"\n",
    "        :type s: str\n",
    "        :rtype: int\n",
    "        \"\"\"\n",
    "        s = s.split(\" \")\n",
    "        i = 1\n",
    "        while i < len(s) and s[-i]==\"\": # 首先保证不越界，然后判断最后是不是空\n",
    "            i+=1\n",
    "        return len(s[-i])  # 返回不是空值的字符串的长度\n",
    "        \n",
    "        \n",
    "x = Solution()\n",
    "x.lengthOfLastWord(\" \")"
   ]
  },
  {
   "cell_type": "code",
   "execution_count": 41,
   "metadata": {},
   "outputs": [
    {
     "data": {
      "text/plain": [
       "2"
      ]
     },
     "execution_count": 41,
     "metadata": {},
     "output_type": "execute_result"
    }
   ],
   "source": [
    "# 方法二 从后开始，依次遍历，从第一个字符开始计数，直到遇到空格\n",
    "# Runtime: 16 ms, faster than 100.00% of Python online submissions for Length of Last Word.\n",
    "# Memory Usage: 11 MB, less than 11.33% of Python online submissions for Length of Last Word.\n",
    "class Solution(object):\n",
    "    def lengthOfLastWord(self, s):\n",
    "        \"\"\"\n",
    "        :type s: str\n",
    "        :rtype: int\n",
    "        \"\"\"\n",
    "        length = 0\n",
    "        flag = True # 非末尾标志位\n",
    "        for i in s[::-1]: # 字符串逆序\n",
    "            if i == \" \" and flag:  # 空格，且是末尾的空格，则跳过\n",
    "                continue  #跳出本次循环，继续运行\n",
    "            if i != \" \":  \n",
    "                length += 1\n",
    "                flag = False  # 修改标志位\n",
    "            if i == \" \": #之后再遇到空格，则退出\n",
    "                break # 跳出整个循环\n",
    "        return length\n",
    "x = Solution()\n",
    "x.lengthOfLastWord(\"aS  \")"
   ]
  },
  {
   "cell_type": "code",
   "execution_count": 39,
   "metadata": {},
   "outputs": [
    {
     "data": {
      "text/plain": [
       "2"
      ]
     },
     "execution_count": 39,
     "metadata": {},
     "output_type": "execute_result"
    }
   ],
   "source": [
    "# 方法二 优化 利用length 去掉状态位\n",
    "# Runtime: 16 ms, faster than 100.00% of Python online submissions for Length of Last Word.\n",
    "# Memory Usage: 11 MB, less than 11.33% of Python online submissions for Length of Last Word.\n",
    "class Solution(object):\n",
    "    def lengthOfLastWord(self, s):\n",
    "        \"\"\"\n",
    "        :type s: str\n",
    "        :rtype: int\n",
    "        \"\"\"\n",
    "        length = 0\n",
    "        for i in s[::-1]: # 字符串逆序\n",
    "            if i == \" \" and length == 0:  # 空格，且是末尾的空格，则跳过\n",
    "                continue  #跳出本次循环，继续运行\n",
    "            if i != \" \":  \n",
    "                length += 1\n",
    "            if i == \" \": #之后再遇到空格，则退出\n",
    "                break # 跳出整个循环\n",
    "        return length\n",
    "x = Solution()\n",
    "x.lengthOfLastWord(\" as \")"
   ]
  },
  {
   "cell_type": "code",
   "execution_count": 40,
   "metadata": {},
   "outputs": [
    {
     "data": {
      "text/plain": [
       "4"
      ]
     },
     "execution_count": 40,
     "metadata": {},
     "output_type": "execute_result"
    }
   ],
   "source": [
    "# 方法三 利用strip（）去掉空格，再利用split（）\n",
    "s = \"sada  \"\n",
    "len(s.strip().split(' ')[-1])"
   ]
  },
  {
   "cell_type": "markdown",
   "metadata": {},
   "source": [
    "# 补 strip（）函数\n",
    "\n",
    "Python strip() 方法用于移除字符串头尾指定的字符（默认为空格或换行符）或字符序列。\n",
    "\n",
    "注意：该方法**只能删除开头或是结尾的字符**，不能删除中间部分的字符。\n",
    "\n",
    "语法\n",
    "\n",
    "strip(xxx)方法语法：\n",
    "\n",
    "str.strip(\"0\")  #删除str字符串收尾的“0”\n",
    "\n",
    "当xxx为空时，默认删除空白符（包括'\\n', '\\r',  '\\t',  ' '）"
   ]
  }
 ],
 "metadata": {
  "kernelspec": {
   "display_name": "Python 3",
   "language": "python",
   "name": "python3"
  },
  "language_info": {
   "codemirror_mode": {
    "name": "ipython",
    "version": 3
   },
   "file_extension": ".py",
   "mimetype": "text/x-python",
   "name": "python",
   "nbconvert_exporter": "python",
   "pygments_lexer": "ipython3",
   "version": "3.6.5"
  }
 },
 "nbformat": 4,
 "nbformat_minor": 2
}
