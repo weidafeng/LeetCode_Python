{
 "cells": [
  {
   "cell_type": "markdown",
   "metadata": {},
   "source": [
    "# 28. Implement strStr() [Easy]\n",
    "\n",
    "\n",
    "https://leetcode.com/problems/implement-strstr/\n",
    "\n",
    "关于本题（经典的模式匹配题），应该是为了考察KMP算法——O(1）时间复杂度：  \n",
    "Explanation of KMP algorithm that is linear in time for this problem:  \n",
    "\n",
    "https://www.youtube.com/watch?v=BXCEFAzhxGY  \n",
    "\n",
    "\n",
    "阮一峰老师博客：  \n",
    "http://www.ruanyifeng.com/blog/2013/05/Knuth%E2%80%93Morris%E2%80%93Pratt_algorithm.html\n",
    "\n",
    "![image](http://www.ruanyifeng.com/blogimg/asset/201305/bg2013050107.png)\n",
    "\n",
    "![image](http://www.ruanyifeng.com/blogimg/asset/201305/bg2013050109.png)\n",
    "\n",
    "\n",
    "对模式串p进行预处理,得到前后缀的部分匹配表,使得我们可以借助已知信息,算出可以右移多少位.  \n",
    "**即 kmp = 朴素匹配 + 移动多位.**"
   ]
  },
  {
   "cell_type": "code",
   "execution_count": null,
   "metadata": {},
   "outputs": [],
   "source": []
  },
  {
   "cell_type": "code",
   "execution_count": null,
   "metadata": {},
   "outputs": [],
   "source": []
  },
  {
   "cell_type": "code",
   "execution_count": null,
   "metadata": {},
   "outputs": [],
   "source": [
    "class Solution:\n",
    "    def removeElement(self, nums, val):\n",
    "        \"\"\"\n",
    "        :type nums: List[int]\n",
    "        :type val: int\n",
    "        :rtype: int\n",
    "        \"\"\"\n",
    "        index = []\n",
    "        for i,j in enumerate(nums):\n",
    "            if j == val:\n",
    "                index.append(i)\n",
    "                \n",
    "        for i in range(len(nums)):\n",
    "            if \n",
    "            \n",
    "            \n",
    "            \n",
    "            \n",
    "        # for i in range(len(nums)):\n",
    "        #     if nums[-i-1] != val  and nums[i]==val: #先比较最后一个和第一个是否要删除\n",
    "        #          nums[i]= nums[-i-1]\n",
    "        #     if nums[i]\n",
    "        \n",
    "#         tmp = None\n",
    "#         for i in range(len(nums)):\n",
    "#             if nums[i]==val:\n",
    "#                 tmp = nums[i+1]\n",
    "#                 nums[i+1] = nums[i]\n",
    "#                 nums[i] = tmp"
   ]
  },
  {
   "cell_type": "code",
   "execution_count": null,
   "metadata": {},
   "outputs": [],
   "source": []
  },
  {
   "cell_type": "code",
   "execution_count": 2,
   "metadata": {},
   "outputs": [
    {
     "name": "stdout",
     "output_type": "stream",
     "text": [
      "2\n"
     ]
    }
   ],
   "source": [
    "# 方法一 利用find（）\n",
    "# 30ms\n",
    "class Solution:\n",
    "    def strStr(self, haystack, needle):\n",
    "        \"\"\"\n",
    "        :type haystack: str\n",
    "        :type needle: str\n",
    "        :rtype: int\n",
    "        \"\"\"\n",
    "        return(haystack.find(needle))\n",
    "                    \n",
    "x = Solution()\n",
    "x.strStr(\"hello\",\"ll\")"
   ]
  },
  {
   "cell_type": "code",
   "execution_count": 5,
   "metadata": {},
   "outputs": [
    {
     "data": {
      "text/plain": [
       "-1"
      ]
     },
     "execution_count": 5,
     "metadata": {},
     "output_type": "execute_result"
    }
   ],
   "source": [
    "# 方法二 利用index（）\n",
    "# 32ms\n",
    "class Solution:\n",
    "    def strStr(self, haystack, needle):\n",
    "        \"\"\"\n",
    "        :type haystack: str\n",
    "        :type needle: str\n",
    "        :rtype: int\n",
    "        \"\"\"\n",
    "        if needle not in haystack:\n",
    "            return(-1)\n",
    "        return(haystack.index(needle))  #如果str不在 string中会报一个异常。所以需要提前判断\n",
    "                 \n",
    "x = Solution()\n",
    "x.strStr(\"hello\",\"lal\")"
   ]
  },
  {
   "cell_type": "code",
   "execution_count": null,
   "metadata": {},
   "outputs": [],
   "source": []
  },
  {
   "cell_type": "code",
   "execution_count": 22,
   "metadata": {},
   "outputs": [
    {
     "data": {
      "text/plain": [
       "2"
      ]
     },
     "execution_count": 22,
     "metadata": {},
     "output_type": "execute_result"
    }
   ],
   "source": [
    "# 方法三 很原始的方法，逐个比较haystack里是否包含needle\n",
    "# 52 ms\n",
    "\n",
    "class Solution:\n",
    "    def strStr(self, haystack, needle):\n",
    "        \"\"\"\n",
    "        :type haystack: str\n",
    "        :type needle: str\n",
    "        :rtype: int\n",
    "        \"\"\"\n",
    "        for i in range(len(haystack)- len(needle)+1):# - len(needle)+1 是因为如果needle比haystack长，就没必要比较了\n",
    "#             print(i,len(needle),haystack[i:len(needle)])\n",
    "            if haystack[i:i+len(needle)] == needle:\n",
    "                return i\n",
    "        return -1\n",
    "    \n"
   ]
  },
  {
   "cell_type": "code",
   "execution_count": null,
   "metadata": {},
   "outputs": [],
   "source": []
  },
  {
   "cell_type": "code",
   "execution_count": 31,
   "metadata": {},
   "outputs": [
    {
     "name": "stdout",
     "output_type": "stream",
     "text": [
      "[0, 1, 0, 0, 0, 1, 2, 0]\n",
      "[0, 1, 0, 0, 0, 1, 2, 0]\n"
     ]
    },
    {
     "data": {
      "text/plain": [
       "2"
      ]
     },
     "execution_count": 31,
     "metadata": {},
     "output_type": "execute_result"
    }
   ],
   "source": [
    "# 方法四 kmp\n",
    "# 104 ms\n",
    "# 参考讨论区\n",
    "\n",
    "# 也可配合GitHub理解：https://github.com/mutux/kmp/blob/master/kmp.py\n",
    "class Solution:\n",
    "    def strStr(self, haystack, needle):\n",
    "        \"\"\"\n",
    "        :type haystack: str\n",
    "        :type needle: str\n",
    "        :rtype: int\n",
    "        \"\"\"\n",
    "        def kmp(str_):  #生成部分匹配表（Partial Match Table）\n",
    "            b, prefix = 0, [0]\n",
    "            for i in range(1, len(str_)):\n",
    "                while b > 0 and str_[i] != str_[b]:\n",
    "                    b = prefix[b - 1]\n",
    "                if str_[b] == str_[i]:\n",
    "                    b += 1\n",
    "                else:\n",
    "                    b = 0\n",
    "                prefix.append(b)\n",
    "            return prefix\n",
    "\n",
    "        str_ = kmp(needle + '#' + haystack)\n",
    "        print(str_)\n",
    "        n = len(needle)\n",
    "        if n == 0:\n",
    "            return n\n",
    "        for i in range(n + 1, len(str_)):\n",
    "            if str_[i] == n:\n",
    "                return i - 2 * n\n",
    "        return -1\n",
    "    \n",
    "x = Solution()\n",
    "x.strStr(\"hello\",\"ll\")  "
   ]
  },
  {
   "cell_type": "code",
   "execution_count": null,
   "metadata": {},
   "outputs": [],
   "source": []
  },
  {
   "cell_type": "markdown",
   "metadata": {},
   "source": [
    "# Python find()方法\n",
    "\n",
    "## 描述  \n",
    "Python find() 方法检测字符串中是否包含子字符串 str ，如果指定 beg（开始） 和 end（结束） 范围，则检查是否包含在指定范围内，如果包含子字符串返回开始的索引值，否则返回-1。\n",
    "\n",
    "## 语法   \n",
    "str.find(str, beg=0, end=len(string))\n",
    "\n",
    "\n",
    "## 参数  \n",
    "- str -- 指定检索的字符串\n",
    "- beg -- 开始索引，默认为0。\n",
    "- end -- 结束索引，默认为字符串的长度。\n",
    "\n",
    "##  返回值  \n",
    "如果包含子字符串返回开始的索引值，否则返回-1。"
   ]
  },
  {
   "cell_type": "markdown",
   "metadata": {},
   "source": [
    "# Python3 index()方法\n",
    "\n",
    "## 描述  \n",
    "index() 方法检测字符串中是否包含子字符串 str ，如果指定 beg（开始） 和 end（结束） 范围，则检查是否包含在指定范围内，该方法与 python find()方法一样，**只不过如果str不在 string中会报一个异常。**\n",
    "\n",
    "## 语法  \n",
    "str.index(str, beg=0, end=len(string))"
   ]
  },
  {
   "cell_type": "code",
   "execution_count": null,
   "metadata": {},
   "outputs": [],
   "source": []
  }
 ],
 "metadata": {
  "kernelspec": {
   "display_name": "Python 3",
   "language": "python",
   "name": "python3"
  },
  "language_info": {
   "codemirror_mode": {
    "name": "ipython",
    "version": 3
   },
   "file_extension": ".py",
   "mimetype": "text/x-python",
   "name": "python",
   "nbconvert_exporter": "python",
   "pygments_lexer": "ipython3",
   "version": "3.6.5"
  }
 },
 "nbformat": 4,
 "nbformat_minor": 2
}
