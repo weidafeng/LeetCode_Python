{
 "cells": [
  {
   "cell_type": "markdown",
   "metadata": {},
   "source": [
    "# 28. Implement strStr() [Easy]\n",
    "\n",
    "\n",
    "https://leetcode.com/problems/implement-strstr/\n",
    "\n",
    "关于本题（经典的模式匹配题），应该是为了考察KMP算法——O(1）时间复杂度：  \n",
    "Explanation of KMP algorithm that is linear in time for this problem:  \n",
    "\n",
    "https://www.youtube.com/watch?v=BXCEFAzhxGY  \n",
    "\n",
    "\n",
    "阮一峰老师博客：  \n",
    "http://www.ruanyifeng.com/blog/2013/05/Knuth%E2%80%93Morris%E2%80%93Pratt_algorithm.html\n",
    "\n",
    "![image](http://www.ruanyifeng.com/blogimg/asset/201305/bg2013050107.png)\n",
    "\n",
    "![image](http://www.ruanyifeng.com/blogimg/asset/201305/bg2013050109.png)\n",
    "\n",
    "\n",
    "对模式串p进行预处理,得到前后缀的部分匹配表,使得我们可以借助已知信息,算出可以右移多少位.  \n",
    "**即 kmp = 朴素匹配 + 移动多位.**"
   ]
  },
  {
   "cell_type": "code",
   "execution_count": null,
   "metadata": {},
   "outputs": [],
   "source": []
  },
  {
   "cell_type": "code",
   "execution_count": null,
   "metadata": {},
   "outputs": [],
   "source": []
  },
  {
   "cell_type": "code",
   "execution_count": null,
   "metadata": {},
   "outputs": [],
   "source": [
    "class Solution:\n",
    "    def removeElement(self, nums, val):\n",
    "        \"\"\"\n",
    "        :type nums: List[int]\n",
    "        :type val: int\n",
    "        :rtype: int\n",
    "        \"\"\"\n",
    "        index = []\n",
    "        for i,j in enumerate(nums):\n",
    "            if j == val:\n",
    "                index.append(i)\n",
    "                \n",
    "        for i in range(len(nums)):\n",
    "            if \n",
    "            \n",
    "            \n",
    "            \n",
    "            \n",
    "        # for i in range(len(nums)):\n",
    "        #     if nums[-i-1] != val  and nums[i]==val: #先比较最后一个和第一个是否要删除\n",
    "        #          nums[i]= nums[-i-1]\n",
    "        #     if nums[i]\n",
    "        \n",
    "#         tmp = None\n",
    "#         for i in range(len(nums)):\n",
    "#             if nums[i]==val:\n",
    "#                 tmp = nums[i+1]\n",
    "#                 nums[i+1] = nums[i]\n",
    "#                 nums[i] = tmp"
   ]
  },
  {
   "cell_type": "code",
   "execution_count": null,
   "metadata": {},
   "outputs": [],
   "source": []
  },
  {
   "cell_type": "code",
   "execution_count": 2,
   "metadata": {},
   "outputs": [
    {
     "name": "stdout",
     "output_type": "stream",
     "text": [
      "2\n"
     ]
    }
   ],
   "source": [
    "# 方法一 利用find（）\n",
    "# 30ms\n",
    "class Solution:\n",
    "    def strStr(self, haystack, needle):\n",
    "        \"\"\"\n",
    "        :type haystack: str\n",
    "        :type needle: str\n",
    "        :rtype: int\n",
    "        \"\"\"\n",
    "        return(haystack.find(needle))\n",
    "                    \n",
    "x = Solution()\n",
    "x.strStr(\"hello\",\"ll\")"
   ]
  },
  {
   "cell_type": "code",
   "execution_count": 5,
   "metadata": {},
   "outputs": [
    {
     "data": {
      "text/plain": [
       "-1"
      ]
     },
     "execution_count": 5,
     "metadata": {},
     "output_type": "execute_result"
    }
   ],
   "source": [
    "# 方法二 利用index（）\n",
    "# 32ms\n",
    "class Solution:\n",
    "    def strStr(self, haystack, needle):\n",
    "        \"\"\"\n",
    "        :type haystack: str\n",
    "        :type needle: str\n",
    "        :rtype: int\n",
    "        \"\"\"\n",
    "        if needle not in haystack:\n",
    "            return(-1)\n",
    "        return(haystack.index(needle))  #如果str不在 string中会报一个异常。所以需要提前判断\n",
    "                 \n",
    "x = Solution()\n",
    "x.strStr(\"hello\",\"lal\")"
   ]
  },
  {
   "cell_type": "code",
   "execution_count": null,
   "metadata": {},
   "outputs": [],
   "source": []
  },
  {
   "cell_type": "code",
   "execution_count": 22,
   "metadata": {},
   "outputs": [
    {
     "data": {
      "text/plain": [
       "2"
      ]
     },
     "execution_count": 22,
     "metadata": {},
     "output_type": "execute_result"
    }
   ],
   "source": [
    "# 方法三 很原始的方法，逐个比较haystack里是否包含needle\n",
    "# 52 ms\n",
    "\n",
    "class Solution:\n",
    "    def strStr(self, haystack, needle):\n",
    "        \"\"\"\n",
    "        :type haystack: str\n",
    "        :type needle: str\n",
    "        :rtype: int\n",
    "        \"\"\"\n",
    "        for i in range(len(haystack)- len(needle)+1):# - len(needle)+1 是因为如果needle比haystack长，就没必要比较了\n",
    "#             print(i,len(needle),haystack[i:len(needle)])\n",
    "            if haystack[i:i+len(needle)] == needle:\n",
    "                return i\n",
    "        return -1\n",
    "    \n",
    "x = Solution()\n",
    "x.strStr(\"hello\",\"ll\")"
   ]
  },
  {
   "cell_type": "code",
   "execution_count": 27,
   "metadata": {},
   "outputs": [
    {
     "name": "stdout",
     "output_type": "stream",
     "text": [
      "[-1, 0, 1]\n",
      "2 3\n",
      "[-1, 0, 0, 1, 2]\n",
      "0 3\n",
      "5 8\n",
      "7 10\n"
     ]
    }
   ],
   "source": [
    "# 方法四 KMP算法\n",
    "\n",
    "# 选自GitHub：https://github.com/mutux/kmp/blob/master/kmp.py\n",
    "\n",
    "def kmp(P, T):\n",
    "    # Compute the start position (number of chars) of the longest suffix that matches a prefix,\n",
    "    # and store them into list K, the first element of K is set to be -1, the second\n",
    "    #\n",
    "    K = []  # K[t] store the value that when mismatch happens at t, should move Pattern P K[t] characters ahead\n",
    "    t = -1  # K's length is len(P) + 1, the first element is set to be -1, corresponding to no elements in P.\n",
    "    K.append(t)  # Add the first element, keep t = -1.\n",
    "    for k in range(1, len(P) + 1):\n",
    "        # traverse all the elemtn in P, calculate the corresponding value for each element.\n",
    "        while(t >= 0 and P[t] != P[k - 1]):  # if t=-1, then let t = 0, if t>=0 and current suffix doesn't match, then try a shorter suffix\n",
    "            t = K[t]\n",
    "        t = t + 1  # If it matches, then the matching position should be one character ahead.\n",
    "        K.append(t)  # record the matching postion for k\n",
    "    print(K)\n",
    "\n",
    "    # Match the String T with P\n",
    "    m = 0  # Record the current matching position in P when compared with T\n",
    "    for i in range(0, len(T)):  # traverse T one-by-one\n",
    "        while (m >= 0 and P[m] != T[i]):  # if mismatch happens at position m, move P forward with K[m] characters and restart comparison\n",
    "            m = K[m]\n",
    "        m = m + 1  # if position m matches, move P forward to next position\n",
    "        if m == len(P):  # if m is already the end of K (or P), the a fully match is found. Continue comparison by move P forward K[m] characters\n",
    "            print (i - m + 1, i)\n",
    "            m = K[m]\n",
    "\n",
    "\n",
    "if __name__ == \"__main__\":\n",
    "    kmp('ll', 'hello')\n",
    "    kmp('abab', 'ababcabababc')"
   ]
  },
  {
   "cell_type": "code",
   "execution_count": null,
   "metadata": {},
   "outputs": [],
   "source": []
  },
  {
   "cell_type": "code",
   "execution_count": null,
   "metadata": {},
   "outputs": [],
   "source": []
  },
  {
   "cell_type": "markdown",
   "metadata": {},
   "source": [
    "# Python find()方法\n",
    "\n",
    "## 描述  \n",
    "Python find() 方法检测字符串中是否包含子字符串 str ，如果指定 beg（开始） 和 end（结束） 范围，则检查是否包含在指定范围内，如果包含子字符串返回开始的索引值，否则返回-1。\n",
    "\n",
    "## 语法   \n",
    "str.find(str, beg=0, end=len(string))\n",
    "\n",
    "\n",
    "## 参数  \n",
    "- str -- 指定检索的字符串\n",
    "- beg -- 开始索引，默认为0。\n",
    "- end -- 结束索引，默认为字符串的长度。\n",
    "\n",
    "##  返回值  \n",
    "如果包含子字符串返回开始的索引值，否则返回-1。"
   ]
  },
  {
   "cell_type": "markdown",
   "metadata": {},
   "source": [
    "# Python3 index()方法\n",
    "\n",
    "## 描述  \n",
    "index() 方法检测字符串中是否包含子字符串 str ，如果指定 beg（开始） 和 end（结束） 范围，则检查是否包含在指定范围内，该方法与 python find()方法一样，**只不过如果str不在 string中会报一个异常。**\n",
    "\n",
    "## 语法  \n",
    "str.index(str, beg=0, end=len(string))"
   ]
  },
  {
   "cell_type": "code",
   "execution_count": null,
   "metadata": {},
   "outputs": [],
   "source": []
  }
 ],
 "metadata": {
  "kernelspec": {
   "display_name": "Python 3",
   "language": "python",
   "name": "python3"
  },
  "language_info": {
   "codemirror_mode": {
    "name": "ipython",
    "version": 3
   },
   "file_extension": ".py",
   "mimetype": "text/x-python",
   "name": "python",
   "nbconvert_exporter": "python",
   "pygments_lexer": "ipython3",
   "version": "3.6.5"
  }
 },
 "nbformat": 4,
 "nbformat_minor": 2
}
