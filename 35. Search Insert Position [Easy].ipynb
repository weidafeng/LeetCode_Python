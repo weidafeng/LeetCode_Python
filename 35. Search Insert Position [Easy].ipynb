{
 "cells": [
  {
   "cell_type": "markdown",
   "metadata": {},
   "source": [
    "# 35. Search Insert Position [Easy]\n",
    "\n",
    "Given a sorted array and a target value, return the index if the target is found. If not, return the index where it would be if it were inserted in order.\n",
    "\n",
    "You may assume no duplicates in the array.\n",
    "\n",
    "## Example 1:\n",
    "\n",
    "Input: [1,3,5,6], 5\n",
    "Output: 2  \n",
    "## Example 2:\n",
    "\n",
    "Input: [1,3,5,6], 2\n",
    "Output: 1  \n",
    "## Example 3:\n",
    "\n",
    "Input: [1,3,5,6], 7\n",
    "Output: 4  \n",
    "## Example 4:\n",
    "\n",
    "Input: [1,3,5,6], 0\n",
    "Output: 0\n",
    "    \n",
    "    \n",
    "https://leetcode.com/problems/search-insert-position/"
   ]
  },
  {
   "cell_type": "code",
   "execution_count": 67,
   "metadata": {},
   "outputs": [],
   "source": [
    "# 方法一 理解为查找问题——可以用二分查找，指定首尾两个指针，依次往中间搜\n",
    "# 24ms\n",
    "\n",
    "class Solution(object):\n",
    "    def searchInsert(self, nums, target):\n",
    "        \"\"\"\n",
    "        :type nums: List[int]\n",
    "        :type target: int\n",
    "        :rtype: int\n",
    "        \"\"\"\n",
    "        i, j = 0,len(nums)-1\n",
    "        while (i <= j):\n",
    "            mid = (i+j)//2\n",
    "            if nums[mid] == target:\n",
    "                return mid\n",
    "            elif nums[mid] < target:\n",
    "                i = mid+1\n",
    "            elif nums[mid] > target:\n",
    "                j = mid-1\n",
    "        return i \n",
    "    \n",
    "x = Solution()\n",
    "x.searchInsert([1,3,5,6],7)\n"
   ]
  },
  {
   "cell_type": "code",
   "execution_count": 69,
   "metadata": {},
   "outputs": [
    {
     "name": "stdout",
     "output_type": "stream",
     "text": [
      "('i,j,mid, nums[i],nums[j],nums[mid]', '\\n', 0, 3, 1, 1, 6, 3)\n",
      "('i,j,mid, nums[i],nums[j],nums[mid]', '\\n', 2, 3, 2, 5, 6, 5)\n",
      "('i,j,mid, nums[i],nums[j],nums[mid]', '\\n', 3, 3, 3, 6, 6, 6)\n"
     ]
    },
    {
     "data": {
      "text/plain": [
       "4"
      ]
     },
     "execution_count": 69,
     "metadata": {},
     "output_type": "execute_result"
    }
   ],
   "source": []
  },
  {
   "cell_type": "code",
   "execution_count": null,
   "metadata": {},
   "outputs": [],
   "source": [
    "# 方法二 因为nums[]是有序数组，所以不需要考虑的特别复杂\n",
    "# 20ms 超过100%\n",
    "\n",
    "class Solution(object):\n",
    "    def searchInsert(self, nums, target):\n",
    "        \"\"\"\n",
    "        :type nums: List[int]\n",
    "        :type target: int\n",
    "        :rtype: int\n",
    "        \"\"\"\n",
    "        for i in range(len(nums)): \n",
    "            if nums[i] >= target:   # 找到位置\n",
    "                return i\n",
    "        return len(nums)  # 否则（比所有值都大）——插到最后"
   ]
  },
  {
   "cell_type": "code",
   "execution_count": null,
   "metadata": {},
   "outputs": [],
   "source": [
    "# 方法二 修改代码\n",
    "class Solution(object):\n",
    "    def searchInsert(self, nums, target):\n",
    "        for i in nums:\n",
    "            if i >= target:\n",
    "                return nums.index(i)\n",
    "        return len(nums)"
   ]
  },
  {
   "cell_type": "code",
   "execution_count": null,
   "metadata": {},
   "outputs": [],
   "source": []
  },
  {
   "cell_type": "code",
   "execution_count": null,
   "metadata": {},
   "outputs": [],
   "source": [
    "# 方法三 利用python内置函数\n",
    "def searchInsert( nums, target):\n",
    "    return(sorted(nums + [target]).index(target))"
   ]
  },
  {
   "cell_type": "code",
   "execution_count": 6,
   "metadata": {},
   "outputs": [
    {
     "name": "stdout",
     "output_type": "stream",
     "text": [
      "4\n",
      "(7, [1, 3, 5, 7])\n"
     ]
    }
   ],
   "source": [
    "# 方法四 \n",
    "# 20ms 超过100%\n",
    "def searchInsert( nums, target):\n",
    "    return len([x for x in nums if x<target])\n",
    "    # 如果target < nums里任一个——x为空集——返回0\n",
    "    # 如果target > nums里任一个——x为所有nums——返回nums的长度"
   ]
  },
  {
   "cell_type": "code",
   "execution_count": null,
   "metadata": {},
   "outputs": [],
   "source": []
  }
 ],
 "metadata": {
  "kernelspec": {
   "display_name": "Python 2",
   "language": "python",
   "name": "python2"
  },
  "language_info": {
   "codemirror_mode": {
    "name": "ipython",
    "version": 2
   },
   "file_extension": ".py",
   "mimetype": "text/x-python",
   "name": "python",
   "nbconvert_exporter": "python",
   "pygments_lexer": "ipython2",
   "version": "2.7.15"
  }
 },
 "nbformat": 4,
 "nbformat_minor": 2
}
