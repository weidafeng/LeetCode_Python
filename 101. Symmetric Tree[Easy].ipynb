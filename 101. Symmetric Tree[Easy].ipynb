{
 "cells": [
  {
   "cell_type": "markdown",
   "metadata": {},
   "source": [
    "# 101. Symmetric Tree[Easy]\n",
    "\n",
    "https://leetcode.com/problems/symmetric-tree/"
   ]
  },
  {
   "cell_type": "code",
   "execution_count": null,
   "metadata": {},
   "outputs": [],
   "source": []
  },
  {
   "cell_type": "code",
   "execution_count": null,
   "metadata": {},
   "outputs": [],
   "source": []
  },
  {
   "cell_type": "code",
   "execution_count": 1,
   "metadata": {},
   "outputs": [],
   "source": [
    "# # 方法一  来自leetcode讨论区\n",
    "# Details \n",
    "# Runtime: 36 ms, faster than 21.69% of Python online submissions for Symmetric Tree.\n",
    "# Memory Usage: 11.1 MB, less than 20.05% of Python online submissions for Symmetric Tree.\n",
    "\n",
    "# Definition for a binary tree node.\n",
    "# class TreeNode(object):\n",
    "#     def __init__(self, x):\n",
    "#         self.val = x\n",
    "#         self.left = None\n",
    "#         self.right = None\n",
    "\n",
    "class Solution(object):\n",
    "    def isSymmetric(self, root):\n",
    "        \"\"\"\n",
    "        :type root: TreeNode\n",
    "        :rtype: bool\n",
    "        \"\"\"\n",
    "        def isSym(L,R):\n",
    "            if not L and not R:\n",
    "                return True  #只有根节点的情况\n",
    "            if L and R and L.val == R.val: #左右子树存在，且值相等的话，递归\n",
    "                return isSym(L.left, R.right) and isSym(L.right, R.left)\n",
    "            return False # 值不相等，不对称\n",
    "        \n",
    "        return isSym(root,root)"
   ]
  },
  {
   "cell_type": "code",
   "execution_count": 2,
   "metadata": {},
   "outputs": [],
   "source": [
    "# 方法二 利用队列，依次存储比较对象，然后逐对比较\n",
    "# Success\n",
    "# Details \n",
    "# Runtime: 40 ms, faster than 14.89% of Python online submissions for Symmetric Tree.\n",
    "# Memory Usage: 11 MB, less than 76.40% of Python online submissions for Symmetric Tree.\n",
    "\n",
    "# Definition for a binary tree node.\n",
    "# class TreeNode(object):\n",
    "#     def __init__(self, x):\n",
    "#         self.val = x\n",
    "#         self.left = None\n",
    "#         self.right = None\n",
    "\n",
    "class Solution(object):\n",
    "    def isSymmetric(self, root):\n",
    "        \"\"\"\n",
    "        :type root: TreeNode\n",
    "        :rtype: bool\n",
    "        \"\"\"\n",
    "        if not root:  # 空值\n",
    "            return True\n",
    "        queue = []\n",
    "        queue.append((root.left, root.right))  #以元组形式存储左右子树头结点\n",
    "#         print(queue)\n",
    "        while queue:    #左右子树非空\n",
    "            l, r = queue.pop(0)  # 弹出第一个元素（包含左右子树元组）\n",
    "#             print(l,r)\n",
    "#             print(\"___________\")\n",
    "            if not l and not r:  # 如果左右都为空，则退出该循环\n",
    "                continue\n",
    "            if not l or not r:   # 如果左右部分为空，则不对称\n",
    "                return False\n",
    "            if l.val != r.val:    # 如果左右都不为空，则比较是否相等\n",
    "                return False\n",
    "            queue.append((l.left, r.right))  #然后按照题目规则，存储下一对比较对象\n",
    "            queue.append((l.right, r.left))\n",
    "        return True"
   ]
  },
  {
   "cell_type": "code",
   "execution_count": 9,
   "metadata": {},
   "outputs": [
    {
     "data": {
      "text/plain": [
       "'\\n            queue = [child for i in queue if i for child in (i.left, i.right)]\\n            相当于两重嵌套循环\\n\\n                for i in queue:\\n                    if i:\\n                        for child in (i.left,i.right):\\n                            queue.append(child)\\n'"
      ]
     },
     "execution_count": 9,
     "metadata": {},
     "output_type": "execute_result"
    }
   ],
   "source": [
    "# 方法三 来自LeetCode讨论区\n",
    "# https://leetcode.com/problems/symmetric-tree/discuss/33068/6line-AC-python\n",
    "# Definition for a binary tree node.\n",
    "# class TreeNode(object):\n",
    "#     def __init__(self, x):\n",
    "#         self.val = x\n",
    "#         self.left = None\n",
    "#         self.right = None\n",
    "\n",
    "class Solution(object):\n",
    "    def isSymmetric(self, root):\n",
    "        \"\"\"\n",
    "        :type root: TreeNode\n",
    "        :rtype: bool\n",
    "        \"\"\"\n",
    "        queue = [root]\n",
    "     \n",
    "        while queue:\n",
    "            print(queue)\n",
    "            values = [i.val if i else None for i in queue]\n",
    "            print(values)\n",
    "            if values != values[::-1]: # 翻转数组（若相等则对称）\n",
    "                return False\n",
    "            queue = [child for i in queue if i for child in (i.left, i.right)]\n",
    "        return True\n",
    "    \n",
    "'''\n",
    "            queue = [child for i in queue if i for child in (i.left, i.right)]\n",
    "            相当于两重嵌套循环\n",
    "\n",
    "            for i in queue:\n",
    "                if i:\n",
    "                    for child in (i.left,i.right):\n",
    "                        queue.append(child)\n",
    "'''"
   ]
  },
  {
   "cell_type": "markdown",
   "metadata": {},
   "source": [
    "# 补：python用列表生成式写嵌套循环\n",
    "\n",
    "1. 基础语法格式  \n",
    "[exp for iter_var in iterable]  \n",
    "\n",
    "2. 带过滤功能语法格式  \n",
    "[exp for iter_var in iterable if_exp]\n",
    "\n",
    "    **工作过程：**\n",
    "\n",
    "    迭代iterable中的每个元素，每次迭代都先判断if_exp表达式结果为真，如果为真则进行下一步，如果为假则进行下一次迭代；  \n",
    "    把迭代结果赋值给iter_var，然后通过exp得到一个新的计算值；  \n",
    "    最后把所有通过exp得到的计算值以一个新列表的形式返回。  \n",
    "\n",
    "    **相当于这样的过程：**\n",
    "\n",
    "    L = []  \n",
    "    for iter_var in iterable:  \n",
    "        if_exp:  \n",
    "            L.append(exp)  \n",
    "3. 循环嵌套语法格式  \n",
    "[exp for iter_var_A in iterable_A for iter_var_B in iterable_B]  \n",
    "\n",
    "    **工作过程：**  \n",
    "    每迭代iterable_A中的一个元素，就把ierable_B中的所有元素都迭代一遍。\n",
    "\n",
    "    **相当于这样的过程：**\n",
    "\n",
    "    L = []  \n",
    "    for iter_var_A in iterable_A:  \n",
    "        for iter_var_B in iterable_B:  \n",
    "            L.append(exp)  "
   ]
  },
  {
   "cell_type": "code",
   "execution_count": 2,
   "metadata": {},
   "outputs": [
    {
     "name": "stdout",
     "output_type": "stream",
     "text": [
      "1\n",
      "2\n",
      "3\n",
      "4\n",
      "5\n",
      "6\n",
      "[1, 2, 3, 4, 5, 6]\n"
     ]
    }
   ],
   "source": [
    "# 将两个嵌套for循环写成一个列表生成式 \n",
    "# 如，有一个嵌套列表，a=[[1,2],[3,4],[5,6]]，要提取列表里的每一个元素\n",
    "\n",
    "# 用for循环处理：\n",
    "a=[[1,2],[3,4],[5,6]]\n",
    "for i in a:\n",
    "    for j in i:\n",
    "        print(j)\n",
    "\n",
    "# 用列表生成式：\n",
    "b=[j for i in a for j in i]  #注意两个for的顺序\n",
    "print(b)\n"
   ]
  },
  {
   "cell_type": "code",
   "execution_count": 3,
   "metadata": {},
   "outputs": [
    {
     "data": {
      "text/plain": [
       "[1, 4, 9, 16, 25, 36, 49, 64, 81, 100]"
      ]
     },
     "execution_count": 3,
     "metadata": {},
     "output_type": "execute_result"
    }
   ],
   "source": [
    "[x * x for x in range(1, 11)]\n",
    "# [1, 4, 9, 16, 25, 36, 49, 64, 81, 100]"
   ]
  },
  {
   "cell_type": "code",
   "execution_count": 5,
   "metadata": {},
   "outputs": [
    {
     "data": {
      "text/plain": [
       "[1, 9, 25, 49, 81]"
      ]
     },
     "execution_count": 5,
     "metadata": {},
     "output_type": "execute_result"
    }
   ],
   "source": [
    "[x * x for x in range(1, 11) if x%2] # if x%2 意思是取x是奇数"
   ]
  },
  {
   "cell_type": "code",
   "execution_count": 7,
   "metadata": {},
   "outputs": [
    {
     "data": {
      "text/plain": [
       "['AX', 'AY', 'AZ', 'BX', 'BY', 'BZ', 'CX', 'CY', 'CZ']"
      ]
     },
     "execution_count": 7,
     "metadata": {},
     "output_type": "execute_result"
    }
   ],
   "source": [
    "# 还可以使用两层循环，可以生成全排列：\n",
    "\n",
    "[m + n for m in 'ABC' for n in 'XYZ']"
   ]
  },
  {
   "cell_type": "code",
   "execution_count": 15,
   "metadata": {},
   "outputs": [
    {
     "data": {
      "text/plain": [
       "[0, 10, 20, 30, 40, 50, 6, 7, 8, 9]"
      ]
     },
     "execution_count": 15,
     "metadata": {},
     "output_type": "execute_result"
    }
   ],
   "source": [
    "#  使用 if …else … 函数 注意顺序和用法\n",
    "d = [i if i > 5 else i*10 for i in range(10)]\n",
    "d\n"
   ]
  },
  {
   "cell_type": "code",
   "execution_count": 18,
   "metadata": {},
   "outputs": [
    {
     "data": {
      "text/plain": [
       "[10, 20, 30, 40, 50, 7, 8, 9]"
      ]
     },
     "execution_count": 18,
     "metadata": {},
     "output_type": "execute_result"
    }
   ],
   "source": [
    "d = [i if i > 5 else i*10 for i in range(10) if i % 2 or i % 3]\n",
    "d\n"
   ]
  },
  {
   "cell_type": "code",
   "execution_count": null,
   "metadata": {},
   "outputs": [],
   "source": []
  }
 ],
 "metadata": {
  "kernelspec": {
   "display_name": "Python 3",
   "language": "python",
   "name": "python3"
  },
  "language_info": {
   "codemirror_mode": {
    "name": "ipython",
    "version": 3
   },
   "file_extension": ".py",
   "mimetype": "text/x-python",
   "name": "python",
   "nbconvert_exporter": "python",
   "pygments_lexer": "ipython3",
   "version": "3.6.5"
  }
 },
 "nbformat": 4,
 "nbformat_minor": 2
}
