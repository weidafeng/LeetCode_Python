{
 "cells": [
  {
   "cell_type": "markdown",
   "metadata": {},
   "source": [
    "#  66. Plus One\n",
    "\n",
    "Easy  \n",
    "https://leetcode.com/problems/plus-one/"
   ]
  },
  {
   "cell_type": "code",
   "execution_count": 19,
   "metadata": {},
   "outputs": [
    {
     "data": {
      "text/plain": [
       "[1, 0]"
      ]
     },
     "execution_count": 19,
     "metadata": {},
     "output_type": "execute_result"
    }
   ],
   "source": [
    "# 方法一 从后开始，依次比较：\n",
    "# 如果是9（需要进位），赋值为0，考虑进位\n",
    "# 如果不是9（不需要进位），直接加一返回\n",
    "# Runtime: 20 ms, faster than 100.00% of Python online submissions for Plus One.\n",
    "# Memory Usage: 10.8 MB, less than 44.58% of Python online submissions for Plus One.\n",
    "\n",
    "class Solution(object):\n",
    "    def plusOne(self, digits):\n",
    "        \"\"\"\n",
    "        :type digits: List[int]\n",
    "        :rtype: List[int]\n",
    "        \"\"\"             \n",
    "        for i in range(1,len(digits)+1):\n",
    "            if digits[-i] == 9:\n",
    "                digits[-i] = 0\n",
    "            else:\n",
    "                digits[-i] += 1\n",
    "                break    \n",
    "        if digits[0] == 0:   # 考虑特殊情况：全是9，比如【9,9】\n",
    "            digits.insert(0,1) # 在第0个位置插入1\n",
    "        return digits\n",
    "x = Solution()\n",
    "x.plusOne([9])"
   ]
  },
  {
   "cell_type": "code",
   "execution_count": 5,
   "metadata": {},
   "outputs": [
    {
     "name": "stdout",
     "output_type": "stream",
     "text": [
      "999\n",
      "1000\n"
     ]
    },
    {
     "data": {
      "text/plain": [
       "[1, 0, 0, 0]"
      ]
     },
     "execution_count": 5,
     "metadata": {},
     "output_type": "execute_result"
    }
   ],
   "source": [
    "# 方法二 借助字符串格式，先把列表转化成数字，加一，然后把结果转化为列表\n",
    "# Runtime: 20 ms, faster than 100.00% of Python online submissions for Plus One.\n",
    "# Memory Usage: 10.8 MB, less than 32.53% of Python online submissions for Plus One.\n",
    "class Solution(object):\n",
    "    def plusOne(self, digits):\n",
    "        \"\"\"\n",
    "        :type digits: List[int]\n",
    "        :rtype: List[int]\n",
    "        \"\"\"\n",
    "        s = \"\"\n",
    "        for i in digits:\n",
    "            s += str(i)\n",
    "        s = int(s)+1\n",
    "        return [int(_) for _ in str(s)] # int ——str ——list[int]\n",
    "#         return list(map(int, str(int(''.join(map(str, digits)))+1)))\n",
    "\n",
    "x = Solution()\n",
    "x.plusOne([9,9,9])"
   ]
  },
  {
   "cell_type": "code",
   "execution_count": 6,
   "metadata": {},
   "outputs": [],
   "source": [
    "# 方法二 精简代码 一行搞定\n",
    "\n",
    "class Solution(object):\n",
    "    def plusOne(self, digits):\n",
    "        \"\"\"\n",
    "        :type digits: List[int]\n",
    "        :rtype: List[int]\n",
    "        \"\"\"\n",
    "        return list(map(int, str(int(''.join(map(str, digits)))+1)))\n",
    "    \n",
    "# 1、Turn digits into a string using map(), then turn the string into interal via int().\n",
    "# 2、Then calculate new_int+1\n",
    "# 3、Finally, turning the interal into string again, then using map(int) and list() to get a list of interals."
   ]
  },
  {
   "cell_type": "code",
   "execution_count": null,
   "metadata": {},
   "outputs": [],
   "source": []
  },
  {
   "cell_type": "markdown",
   "metadata": {},
   "source": [
    "# 补 在列表的指定位置插入元素\n",
    "\n",
    "1、list的insert方法  \n",
    "  list.insert（位置，元素）\n",
    "  \n",
    "2、list的索引方法\n",
    "   list[0:0] = 1 "
   ]
  },
  {
   "cell_type": "markdown",
   "metadata": {},
   "source": [
    "# 补 map（）函数\n",
    "map()函数\n",
    "\n",
    "map()是 python 内置的高阶函数，它接收一个函数 f 和一个 list，并通过**把函数 f 依次作用在 list 的每个元素上，得到一个新的object并返回**。（python2返回列表，Python3返回迭代对象）\n",
    "\n",
    "\n",
    "map（）的使用方法形如**map(f(x),Itera)**，它有两个参数，第一个参数为某个函数，第二个为可迭代对象。\n",
    "\n"
   ]
  },
  {
   "cell_type": "code",
   "execution_count": null,
   "metadata": {},
   "outputs": [],
   "source": []
  }
 ],
 "metadata": {
  "kernelspec": {
   "display_name": "Python 3",
   "language": "python",
   "name": "python3"
  },
  "language_info": {
   "codemirror_mode": {
    "name": "ipython",
    "version": 3
   },
   "file_extension": ".py",
   "mimetype": "text/x-python",
   "name": "python",
   "nbconvert_exporter": "python",
   "pygments_lexer": "ipython3",
   "version": "3.6.5"
  }
 },
 "nbformat": 4,
 "nbformat_minor": 2
}
