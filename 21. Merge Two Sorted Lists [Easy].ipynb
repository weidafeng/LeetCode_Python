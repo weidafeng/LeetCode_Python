{
 "cells": [
  {
   "cell_type": "markdown",
   "metadata": {},
   "source": [
    "# 21. Merge Two Sorted Lists\n",
    "Easy\n",
    "\n",
    "Merge two sorted linked lists and return it as a new list. The new list should be made by splicing together the nodes of the first two lists.\n",
    "\n",
    "## Example:\n",
    "\n",
    "Input: 1->2->4, 1->3->4  \n",
    "Output: 1->1->2->3->4->4  \n",
    "\n",
    "https://leetcode.com/problems/merge-two-sorted-lists/"
   ]
  },
  {
   "cell_type": "code",
   "execution_count": 1,
   "metadata": {},
   "outputs": [
    {
     "data": {
      "text/plain": [
       "[1, 1, 2, 3, 3, 4]"
      ]
     },
     "execution_count": 1,
     "metadata": {},
     "output_type": "execute_result"
    }
   ],
   "source": [
    "# 如果没有指定ListNode链表形式，而是采用列表形式\n",
    "# 就很简单……\n",
    "def mergeTwoList(l1,l2):\n",
    "    for i in l1:\n",
    "        l2.append(i)\n",
    "    return sorted(l2)\n",
    "\n",
    "mergeTwoList([1,2,3],[1,3,4])"
   ]
  },
  {
   "cell_type": "code",
   "execution_count": null,
   "metadata": {},
   "outputs": [],
   "source": [
    "# 方法一 \n",
    "# 40 ms\n",
    "#新建一个链表，用两个链表当前位置去比较，谁的小就放谁。\n",
    "#当一个链表放完之后，说明另外一个链表剩下的元素都比较大，直接放进去就好。\n",
    "\n",
    "# Definition for singly-linked list.\n",
    "# class ListNode(object):\n",
    "#     def __init__(self, x):\n",
    "#         self.val = x\n",
    "#         self.next = None\n",
    "class Solution(object):\n",
    "    def mergeTwoLists(self, l1, l2):\n",
    "        \"\"\"\n",
    "        :type l1: ListNode\n",
    "        :type l2: ListNode\n",
    "        :rtype: ListNode\n",
    "        \"\"\"\n",
    "        \n",
    "        # 特殊情况 l1为空 或 12为空\n",
    "        if not l1 :\n",
    "            return l2   \n",
    "        if not l2:\n",
    "            return l1\n",
    "        \n",
    "        result = ListNode(None) #注意 下面不能直接用result，否则result.next会丢失前面的数据，最后得到的result只有最后一个元素\n",
    "        dummy = result   # result保留其初始位置，dummy.next逐个赋值\n",
    "        while l1 and l2:\n",
    "            if l1.val<l2.val: \n",
    "                dummy.next = l1\n",
    "                l1 = l1.next\n",
    "            else:\n",
    "                dummy.next = l2\n",
    "                l2 = l2.next    \n",
    "            dummy = dummy.next\n",
    "        dummy.next = l1 or l2   #把剩下的拼上去\n",
    "        return result.next  # result的第一个元素为我们赋的初值None\n",
    "        "
   ]
  },
  {
   "cell_type": "code",
   "execution_count": null,
   "metadata": {},
   "outputs": [],
   "source": [
    "# 方法二 递归  关键是找好终止条件，避免死循环\n",
    "#  40 ms\n",
    "\n",
    "def mergeTwoLists(self, l1, l2):\n",
    "    # 终止条件 \n",
    "    # l1为空 \n",
    "    if not l1 :\n",
    "        return l2   \n",
    "    # 12为空\n",
    "    if not l2:\n",
    "        return l1\n",
    "\n",
    "    if l1.val <= l2.val:\n",
    "        l1.next = self.mergeTwoLists(l1.next,l2)  #如果满足条件，那么规模减一\n",
    "        return l1\n",
    "    else:\n",
    "        l2.next = self.mergeTwoLists(l1,l2.next)\n",
    "        return l2\n",
    "\n"
   ]
  },
  {
   "cell_type": "code",
   "execution_count": null,
   "metadata": {},
   "outputs": [],
   "source": [
    "# 方法二 递归 修改（更易理解）\n",
    "# 52ms\n",
    "\n",
    "def mergeTwoLists(self, l1, l2):\n",
    "    \"\"\"\n",
    "    :type l1: ListNode\n",
    "    :type l2: ListNode\n",
    "    :rtype: ListNode\n",
    "    \"\"\"\n",
    "    # 终止条件 \n",
    "    # l1为空 \n",
    "    if not l1 :\n",
    "        return l2   \n",
    "    # 12为空\n",
    "    if not l2:\n",
    "        return l1\n",
    "    \n",
    "    if l1.val < l2.val:\n",
    "        l1.next = self.mergeTwoLists(l1.next,l2)  #如果满足条件，那么规模减一，如果l1和l2不为空，就继续下去\n",
    "    else:\n",
    "        l2.next = self.mergeTwoLists(l1,l2.next)\n",
    "\n",
    "    return l1 if l1.val<l2.val else l2  # 最后再return，好捋递归过程\n"
   ]
  },
  {
   "cell_type": "code",
   "execution_count": null,
   "metadata": {},
   "outputs": [],
   "source": [
    "# 方法三 \n",
    "# 来自讨论区 StefanPochmann\n",
    "# 58ms\n",
    "\n",
    "# 如果两个列表都是非空的，首先确保l1最小，使用它的头作为结果，并合并其后面的数。\n",
    "# 如果其中一个或两个都是空的，直接返回非空的那个/空。\n",
    "def mergeTwoLists(self, l1, l2):\n",
    "    if l1 and l2: \n",
    "        if l1.val > l2.val:\n",
    "            l1, l2 = l2, l1\n",
    "        l1.next = self.mergeTwoLists(l1.next, l2)\n",
    "    return l1 or l2"
   ]
  },
  {
   "cell_type": "code",
   "execution_count": null,
   "metadata": {},
   "outputs": [],
   "source": [
    "# 方法四\n",
    "# 来自讨论区 StefanPochmann\n",
    "# First make sure that a is the \"better\" one (meaning b is None or has larger/equal value). Then merge the remainders behind a.\n",
    "\n",
    "def mergeTwoLists(self, a, b):\n",
    "    if not a or b and a.val > b.val:\n",
    "        a, b = b, a\n",
    "    if a:\n",
    "        a.next = self.mergeTwoLists(a.next, b)\n",
    "    return a"
   ]
  }
 ],
 "metadata": {
  "kernelspec": {
   "display_name": "Python 2",
   "language": "python",
   "name": "python2"
  },
  "language_info": {
   "codemirror_mode": {
    "name": "ipython",
    "version": 2
   },
   "file_extension": ".py",
   "mimetype": "text/x-python",
   "name": "python",
   "nbconvert_exporter": "python",
   "pygments_lexer": "ipython2",
   "version": "2.7.15"
  }
 },
 "nbformat": 4,
 "nbformat_minor": 2
}
