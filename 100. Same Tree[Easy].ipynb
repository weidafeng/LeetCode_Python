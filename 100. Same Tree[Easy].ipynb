{
 "cells": [
  {
   "cell_type": "markdown",
   "metadata": {},
   "source": [
    "# 100. Same Tree[Easy]\n",
    "\n",
    "https://leetcode.com/problems/same-tree/"
   ]
  },
  {
   "cell_type": "code",
   "execution_count": null,
   "metadata": {},
   "outputs": [],
   "source": []
  },
  {
   "cell_type": "code",
   "execution_count": 2,
   "metadata": {},
   "outputs": [],
   "source": [
    "# 方法一 递归\n",
    "\n",
    "# Success Details \n",
    "# Runtime: 16 ms, faster than 100.00% of Python online submissions for Same Tree.\n",
    "# Memory Usage: 10.8 MB, less than 47.06% of Python online submissions for Same Tree.\n",
    "\n",
    "\n",
    "\n",
    "# Definition for a binary tree node.\n",
    "class TreeNode(object):\n",
    "    def __init__(self, x):\n",
    "        self.val = x\n",
    "        self.left = None\n",
    "        self.right = None\n",
    "\n",
    "class Solution(object):\n",
    "    def isSameTree(self, p, q):\n",
    "        \"\"\"\n",
    "        :type p: TreeNode\n",
    "        :type q: TreeNode\n",
    "        :rtype: bool\n",
    "        \"\"\"\n",
    "        if p == None and q == None:  \n",
    "            return True\n",
    "        elif p == None:    #一边为空，另一边非空\n",
    "            return False\n",
    "        elif q == None:\n",
    "            return False\n",
    "        else:             #下面三个条件全为1，才为true，否则为false\n",
    "            return p.val==q.val and self.isSameTree(p.right, q.right) and self.isSameTree(p.left, q.left)"
   ]
  },
  {
   "cell_type": "code",
   "execution_count": 4,
   "metadata": {},
   "outputs": [
    {
     "name": "stdout",
     "output_type": "stream",
     "text": [
      "True\n"
     ]
    }
   ],
   "source": [
    "root1, root1.left, root1.right = TreeNode(1), TreeNode(2), TreeNode(3)\n",
    "root2, root2.left, root2.right = TreeNode(1), TreeNode(2), TreeNode(3)\n",
    "print (Solution().isSameTree(root1, root2))"
   ]
  },
  {
   "cell_type": "code",
   "execution_count": null,
   "metadata": {},
   "outputs": [],
   "source": [
    "# 方法一 精简代码\n",
    "# 如果p和q都不为空，那就递归的判断对应的值是否相等\n",
    "# 如果至少有一个为空，那就判断两个是否相等（两个都为空的时候相等）\n",
    "\n",
    "\n",
    "    def isSameTree( p, q):\n",
    "        if p and q:\n",
    "            return p.val == q.val and self.isSameTree(p.left, q.left) and self.isSameTree(p.right, q.right)\n",
    "        return p is q"
   ]
  },
  {
   "cell_type": "code",
   "execution_count": null,
   "metadata": {},
   "outputs": [],
   "source": []
  }
 ],
 "metadata": {
  "kernelspec": {
   "display_name": "Python 3",
   "language": "python",
   "name": "python3"
  },
  "language_info": {
   "codemirror_mode": {
    "name": "ipython",
    "version": 3
   },
   "file_extension": ".py",
   "mimetype": "text/x-python",
   "name": "python",
   "nbconvert_exporter": "python",
   "pygments_lexer": "ipython3",
   "version": "3.6.5"
  }
 },
 "nbformat": 4,
 "nbformat_minor": 2
}
