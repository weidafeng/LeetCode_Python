{
 "cells": [
  {
   "cell_type": "markdown",
   "metadata": {},
   "source": [
    "# 9. Palindrome Number[Easy]\n",
    "\n",
    "https://leetcode.com/problems/palindrome-number/\n",
    "\n",
    "Determine whether an integer is a palindrome. An integer is a palindrome when it reads the same backward as forward.  \n",
    "\n",
    "## Example 1:\n",
    "\n",
    "Input: 121  \n",
    "Output: true   \n",
    "## Example 2:\n",
    "\n",
    "Input: -121  \n",
    "Output: false  \n",
    "Explanation: From left to right, it reads -121. From right to left, it becomes 121-. Therefore it is not a palindrome.  \n",
    "## Example 3:\n",
    "\n",
    "Input: 10  \n",
    "Output: false  \n",
    "Explanation: Reads 01 from right to left. Therefore it is not a palindrome.  \n",
    "## Follow up:  ——追问！\n",
    "\n",
    "<span  style=\"color: #FF5252; \">Coud you solve it without converting the integer to a string?</span>"
   ]
  },
  {
   "cell_type": "code",
   "execution_count": null,
   "metadata": {},
   "outputs": [],
   "source": [
    "# 方法一  整数转化为字符串、利用字符串切片翻转，然后比较\n",
    "#  308 ms\n",
    "class Solution:\n",
    "    def isPalindrome(self, x):\n",
    "        \"\"\"\n",
    "        :type x: int\n",
    "        :rtype: bool\n",
    "        \"\"\"\n",
    "        if x>=0 and str(x) == str(x)[::-1]:\n",
    "                return True\n",
    "        else:   #根据题意，负数肯定不是回文\n",
    "            return False\n",
    "          "
   ]
  },
  {
   "cell_type": "code",
   "execution_count": 32,
   "metadata": {},
   "outputs": [
    {
     "data": {
      "text/plain": [
       "False"
      ]
     },
     "execution_count": 32,
     "metadata": {},
     "output_type": "execute_result"
    }
   ],
   "source": [
    "# 方法一 精简代码 \n",
    "def isPalindrome(x):\n",
    "    #一行代码搞定\n",
    "    return (x>=0 and str(x)==str(x)[::-1])\n",
    "\n",
    "\n",
    "x = -121\n",
    "isPalindrome(x)"
   ]
  },
  {
   "cell_type": "code",
   "execution_count": 5,
   "metadata": {},
   "outputs": [],
   "source": [
    "# 方法二  整数转化为字符串、依次比较首尾数字是否相同\n",
    "#  308 ms\n",
    "class Solution:\n",
    "    def isPalindrome(self, x):\n",
    "        \"\"\"\n",
    "        :type x: int\n",
    "        :rtype: bool\n",
    "        \"\"\"\n",
    "#         不需要先判断是否为负值了 （若判断，测试时间为464ms）\n",
    "#         if x<0:\n",
    "#             return False\n",
    "        x = str(x)\n",
    "        for i in range(len(x)):\n",
    "            if x[i] != x[-i-1]:\n",
    "                return False \n",
    "        # 如果不返回false，就说明是回文，所以直接返回true\n",
    "        return True"
   ]
  },
  {
   "cell_type": "code",
   "execution_count": 8,
   "metadata": {},
   "outputs": [
    {
     "data": {
      "text/plain": [
       "False"
      ]
     },
     "execution_count": 8,
     "metadata": {},
     "output_type": "execute_result"
    }
   ],
   "source": [
    "new_class = Solution()\n",
    "new_class.isPalindrome(-121)"
   ]
  },
  {
   "cell_type": "code",
   "execution_count": 3,
   "metadata": {},
   "outputs": [
    {
     "data": {
      "text/plain": [
       "True"
      ]
     },
     "execution_count": 3,
     "metadata": {},
     "output_type": "execute_result"
    }
   ],
   "source": [
    "# 方法三 不用字符串（Follow up: Coud you solve it without converting the integer to a string?)\n",
    "# 给定一个整数x , 计算出它的回文x_pal,比较两数是否相等\n",
    "# 444ms\n",
    "def isPalindrome(x):\n",
    "    if x<0:\n",
    "        return False\n",
    "    \n",
    "    x_pal , x_raw = 0 , x  # 分别是生成的回文,中间变量(余数),x的原始值\n",
    "    while x:\n",
    "        x_pal = x_pal*10 + x % 10\n",
    "        x /= 10      #如果用python3，整除是//，所以需要改为： x //= 10\n",
    "#         print(residual,x,x_pal)\n",
    "#     print(x_pal)\n",
    "    return(x_raw == x_pal)\n",
    "    \n",
    "x = 121\n",
    "isPalindrome(x)"
   ]
  },
  {
   "cell_type": "code",
   "execution_count": null,
   "metadata": {},
   "outputs": [],
   "source": [
    "# 方法三 \n",
    "# 与方法一思想一致，但没用str，直接比较首位数字\n",
    "# 来自leetcode discuss最高赞\n",
    "\n",
    "def isPalindrome(x):\n",
    "    if x<0:\n",
    "        return False\n",
    "\n",
    "    ranger = 1 # 获得x的最高进制？（突然想不出该咋描述，举个例子，1221是1000，12是10）\n",
    "    while x/ranger >= 10:\n",
    "        ranger*=10\n",
    "\n",
    "    while x:\n",
    "        left = x/ranger\n",
    "        right = x%10\n",
    "        if left!=right:\n",
    "            return False\n",
    "        else:\n",
    "            x = (x%ranger)/10\n",
    "            ranger/=100\n",
    "    else:\n",
    "        return True\n",
    "        \n"
   ]
  },
  {
   "cell_type": "code",
   "execution_count": null,
   "metadata": {},
   "outputs": [],
   "source": []
  },
  {
   "cell_type": "code",
   "execution_count": 23,
   "metadata": {},
   "outputs": [],
   "source": [
    "# 方法四  与方法二思想差不多，但只需反转x的一半（如后一半），与另一半比较\n",
    "# 比如 12344321，反转后一半（4321），与前一半（1234比较）\n",
    "# 由官方题解（java版本）改写\n",
    "# 772 ms \n",
    "\n",
    "def IsPalindrome(x) :\n",
    "#         // Special cases:\n",
    "#         // As discussed above, when x < 0, x is not a palindrome.\n",
    "#         // Also if the last digit of the number is 0, in order to be a palindrome,\n",
    "#         // the first digit of the number also needs to be 0.\n",
    "#         // Only 0 satisfy this property.\n",
    "    if(x < 0  or (x % 10 == 0  and  x != 0)):\n",
    "        return False\n",
    "\n",
    "    revertedNumber = 0\n",
    "    while(x > revertedNumber):\n",
    "        revertedNumber = revertedNumber * 10 + x % 10\n",
    "        x /= 10\n",
    "        print(revertedNumber,x)\n",
    "#         // When the length is an odd number, we can get rid of the middle digit by revertedNumber/10\n",
    "#         // For example when the input is 12321, at the end of the while loop we get x = 12, revertedNumber = 123,\n",
    "#         // since the middle digit doesn't matter in palidrome(it will always equal to itself), we can simply get rid of it.\n",
    "    return x == revertedNumber or x == revertedNumber/10"
   ]
  },
  {
   "cell_type": "code",
   "execution_count": 25,
   "metadata": {
    "scrolled": true
   },
   "outputs": [
    {
     "name": "stdout",
     "output_type": "stream",
     "text": [
      "(1, 1232)\n",
      "(12, 123)\n",
      "(123, 12)\n"
     ]
    },
    {
     "data": {
      "text/plain": [
       "True"
      ]
     },
     "execution_count": 25,
     "metadata": {},
     "output_type": "execute_result"
    }
   ],
   "source": [
    "x = 12321\n",
    "IsPalindrome(x)"
   ]
  },
  {
   "cell_type": "code",
   "execution_count": null,
   "metadata": {},
   "outputs": [],
   "source": []
  }
 ],
 "metadata": {
  "kernelspec": {
   "display_name": "Python 2",
   "language": "python",
   "name": "python2"
  },
  "language_info": {
   "codemirror_mode": {
    "name": "ipython",
    "version": 2
   },
   "file_extension": ".py",
   "mimetype": "text/x-python",
   "name": "python",
   "nbconvert_exporter": "python",
   "pygments_lexer": "ipython2",
   "version": "2.7.15"
  }
 },
 "nbformat": 4,
 "nbformat_minor": 2
}
