{
 "cells": [
  {
   "cell_type": "markdown",
   "metadata": {},
   "source": [
    "# 70. Climbing Stairs[Easy]\n",
    "\n",
    "https://leetcode.com/problems/climbing-stairs/"
   ]
  },
  {
   "cell_type": "markdown",
   "metadata": {},
   "source": [
    "如果n = 1层，可以有[1] ,   f(1) = 1种方法\n",
    "\n",
    "如果n = 2层，可以有[1,1] ,[2],  f(2) =  2种方法\n",
    "\n",
    "如果n = 3层，可以有[1,1,1],[1,2],[2,1], f(3) = f(1) + f(2) = 3种方法。\n",
    "\n",
    "如果n = 4层，可以有[1,1,1,1],[1,2,1],[1,1,2],[2,1,1],[2,2] , f(5)  = f(4) + f(3) = 5种方法。\n",
    "\n",
    "可以发现 f(n) = f(n-1) + f(n-2)——是**斐波那契数列**\n",
    "\n",
    "理解：  \n",
    "要爬第n层，前面一步必须为n-1，或者n-2  \n",
    "所以**爬n层 = 爬n-1层 + 爬n-2层**\n"
   ]
  },
  {
   "cell_type": "code",
   "execution_count": 2,
   "metadata": {},
   "outputs": [
    {
     "data": {
      "text/plain": [
       "5"
      ]
     },
     "execution_count": 2,
     "metadata": {},
     "output_type": "execute_result"
    }
   ],
   "source": [
    "# 方法一 斐波那契数列\n",
    "# Details \n",
    "# Runtime: 16 ms, faster than 100.00% of Python online submissions for Climbing Stairs.\n",
    "# Memory Usage: 10.6 MB, less than 90.10% of Python online submissions for Climbing Stairs.\n",
    "\n",
    "class Solution(object):\n",
    "    def climbStairs(self, n):\n",
    "        \"\"\"\n",
    "        :type n: int\n",
    "        :rtype: int\n",
    "        \"\"\"\n",
    "        # 想要达到n，前面一步必须为n-1，或n-2 ——动态规划\\斐波那契数列\n",
    "        pre,cur = 1,1\n",
    "        for i in range(1,n):\n",
    "            pre, cur = cur,pre+cur\n",
    "        return cur\n",
    "x = Solution()\n",
    "x.climbStairs(4)"
   ]
  },
  {
   "cell_type": "code",
   "execution_count": 7,
   "metadata": {},
   "outputs": [
    {
     "data": {
      "text/plain": [
       "3"
      ]
     },
     "execution_count": 7,
     "metadata": {},
     "output_type": "execute_result"
    }
   ],
   "source": [
    "# 方法二\n",
    "# 当有n个台阶时，可供选择的走法可以分两类：\n",
    "# 1，先跨一阶再跨完剩下n-1阶；\n",
    "# 2，先跨2阶再跨完剩下n-2阶。\n",
    "\n",
    "# 所以n阶的不同走法的数目是n-1阶和n-2阶的走法数的和。 \n",
    "# Success\n",
    "# Details \n",
    "# Runtime: 16 ms, faster than 100.00% of Python online submissions for Climbing Stairs.\n",
    "# Memory Usage: 10.6 MB, less than 95.65% of Python online submissions for Climbing Stairs.\n",
    "class Solution(object):\n",
    "    def climbStairs(self, n):\n",
    "        \"\"\"\n",
    "        :type n: int\n",
    "        :rtype: int\n",
    "        \"\"\"\n",
    "        if n <=2:  # 特殊情况，0、1、2\n",
    "            return n\n",
    "        res = [1,1]\n",
    "        for i in range(1,n):\n",
    "            res.append(res[-1] + res[-2])\n",
    "        return res[-1]\n",
    "    \n",
    "    \n",
    "x = Solution()\n",
    "x.climbStairs(3)"
   ]
  },
  {
   "cell_type": "code",
   "execution_count": null,
   "metadata": {},
   "outputs": [],
   "source": [
    "# 方法二 递归实现——浪费资源，n= 38时就TLE\n",
    "# Time Limit Exceeded\n",
    "\n",
    "class Solution(object):\n",
    "    def climbStairs(self, n):\n",
    "        \"\"\"\n",
    "        :type n: int\n",
    "        :rtype: int\n",
    "        \"\"\"\n",
    "        if n <= 2:\n",
    "            return n\n",
    "        return self.climbStairs(n - 1) + self.climbStairs(n - 2)"
   ]
  }
 ],
 "metadata": {
  "kernelspec": {
   "display_name": "Python 3",
   "language": "python",
   "name": "python3"
  },
  "language_info": {
   "codemirror_mode": {
    "name": "ipython",
    "version": 3
   },
   "file_extension": ".py",
   "mimetype": "text/x-python",
   "name": "python",
   "nbconvert_exporter": "python",
   "pygments_lexer": "ipython3",
   "version": "3.6.5"
  }
 },
 "nbformat": 4,
 "nbformat_minor": 2
}
