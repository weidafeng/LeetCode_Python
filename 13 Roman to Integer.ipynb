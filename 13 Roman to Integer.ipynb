{
 "cells": [
  {
   "cell_type": "code",
   "execution_count": 31,
   "metadata": {},
   "outputs": [],
   "source": [
    "# s = str(input())\n",
    "s = 'MCMXCIV'\n",
    "I,V,X,L,C,D,M = 1,5,10,50,100,500,1000"
   ]
  },
  {
   "cell_type": "code",
   "execution_count": 30,
   "metadata": {},
   "outputs": [
    {
     "name": "stdout",
     "output_type": "stream",
     "text": [
      "[1000, 100, 1000, 10, 100, 1, 5]\n",
      "0 1000\n",
      "1 900\n",
      "2 1900\n",
      "3 1890\n",
      "4 1990\n",
      "5 1989\n",
      "1994\n"
     ]
    }
   ],
   "source": [
    "# 方法一 \n",
    "# 对于输入的罗马数字字符串，从前向后扫描，转化为“对应数字列表”\n",
    "# 如 ‘III’——[1,1,1];'IV'——[1,5]\n",
    "n = len(s)\n",
    "num = []\n",
    "for i in range(n):\n",
    "    if s[i] == 'I':\n",
    "        num.append(1)\n",
    "    elif s[i] == 'V':\n",
    "        num.append(5)    \n",
    "    elif s[i] == 'X':\n",
    "        num.append(10)\n",
    "    elif s[i] == 'L':\n",
    "        num.append(50)        \n",
    "    elif s[i] == 'C':\n",
    "        num.append(100)        \n",
    "    elif s[i] == 'D':\n",
    "        num.append(500)       \n",
    "    else :\n",
    "        num.append(1000)\n",
    "# print(num)\n",
    "\n",
    "# 比较相邻数字大小\n",
    "# 1）若前面数小于后面数，相减\n",
    "# 2）否则，相加\n",
    "integer = 0\n",
    "for i in range(n-1):\n",
    "    if num[i] < num[i+1]:\n",
    "        integer -= num[i]\n",
    "    else:\n",
    "        integer += num[i]\n",
    "    print(i,integer)\n",
    "    \n",
    "print(integer + num[n-1]) # 最后一个数无需判断，肯定相加"
   ]
  },
  {
   "cell_type": "code",
   "execution_count": 39,
   "metadata": {},
   "outputs": [
    {
     "name": "stdout",
     "output_type": "stream",
     "text": [
      "1994\n"
     ]
    }
   ],
   "source": [
    "s = 'MCMXCIV'\n",
    "n = len(s)\n",
    "\n",
    "# 代码精简\n",
    "integer = 0\n",
    "digits = {\"I\":1, \"V\":5, \"X\":10, \"L\":50, \"C\":100, \"D\":500, \"M\":1000}  #利用字典形式\n",
    "for i in range(n-1):\n",
    "    if digits[s[i]] < digits[s[i+1]]:\n",
    "        integer -= digits[s[i]]\n",
    "    else:\n",
    "        integer += digits[s[i]]\n",
    "        \n",
    "print(integer + digits[s[n-1]])"
   ]
  },
  {
   "cell_type": "code",
   "execution_count": null,
   "metadata": {},
   "outputs": [],
   "source": []
  }
 ],
 "metadata": {
  "kernelspec": {
   "display_name": "Python 3",
   "language": "python",
   "name": "python3"
  },
  "language_info": {
   "codemirror_mode": {
    "name": "ipython",
    "version": 3
   },
   "file_extension": ".py",
   "mimetype": "text/x-python",
   "name": "python",
   "nbconvert_exporter": "python",
   "pygments_lexer": "ipython3",
   "version": "3.6.5"
  }
 },
 "nbformat": 4,
 "nbformat_minor": 2
}
