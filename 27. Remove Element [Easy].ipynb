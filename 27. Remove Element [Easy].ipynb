{
 "cells": [
  {
   "cell_type": "markdown",
   "metadata": {},
   "source": [
    "# 27. Remove Element  \n",
    "Easy  \n",
    "https://leetcode.com/problems/remove-element/\n",
    "\n",
    "Given an array nums and a value val, remove all instances of that value in-place and return the new length.\n",
    "\n",
    "Do not allocate extra space for another array, you must do this by modifying the input array in-place with O(1) extra memory.\n",
    "\n",
    "The order of elements can be changed. It doesn't matter what you leave beyond the new length.\n",
    "\n",
    "## Example 1:\n",
    "\n",
    "Given nums = [3,2,2,3], val = 3,\n",
    "\n",
    "Your function should return length = 2, with the first two elements of nums being 2.\n",
    "\n",
    "It doesn't matter what you leave beyond the returned length.\n",
    "\n",
    "## Example 2:\n",
    "\n",
    "Given nums = [0,1,2,2,3,0,4,2], val = 2,\n",
    "\n",
    "Your function should return length = 5, with the first five elements of nums containing 0, 1, 3, 0, and 4.\n",
    "\n",
    "Note that the order of those five elements can be arbitrary.\n",
    "\n",
    "It doesn't matter what values are set beyond the returned length.\n"
   ]
  },
  {
   "cell_type": "markdown",
   "metadata": {},
   "source": []
  },
  {
   "cell_type": "code",
   "execution_count": null,
   "metadata": {},
   "outputs": [],
   "source": []
  },
  {
   "cell_type": "code",
   "execution_count": null,
   "metadata": {},
   "outputs": [],
   "source": [
    "# 方法一  设置首尾两个指针，依次比较\n",
    "# 20ms  faster than 100.00% of Python online submissions for Remove Element.\n",
    "\n",
    "class Solution(object):\n",
    "    def removeElement(self, nums, val):\n",
    "        \"\"\"\n",
    "        :type nums: List[int]\n",
    "        :type val: int\n",
    "        :rtype: int\n",
    "        \"\"\"\n",
    "        i , j = 0,len(nums) -1   # 设定头尾两个指针\n",
    "        while i <= j: \n",
    "            if nums[i] != val:   # 从头开始比较，如果前面不需要删除，则头指针后移一位\n",
    "                i+=1\n",
    "            elif nums[i] == val and nums[j] != val:  # 如果前面需要删除，且末尾需要保留\n",
    "                nums[i] = nums[j]                    #则只需将其保留到前面（题目不要求交换）\n",
    "                j -= 1                              # 修改指针（向中间移动）\n",
    "                i += 1\n",
    "            elif nums[i] == val and nums[j] == val:  #如果首位都需要删除，则尾指向前移动，头指针保留（以便下一步替换）\n",
    "                j -= 1\n",
    "        return j+1  #尾指针j 即为不需要删除的位数"
   ]
  },
  {
   "cell_type": "code",
   "execution_count": 1,
   "metadata": {},
   "outputs": [
    {
     "name": "stdout",
     "output_type": "stream",
     "text": [
      "[2, 2, 2, 3]\n"
     ]
    },
    {
     "data": {
      "text/plain": [
       "2"
      ]
     },
     "execution_count": 1,
     "metadata": {},
     "output_type": "execute_result"
    }
   ],
   "source": [
    "# 方法二\n",
    "# 24ms\n",
    "class Solution(object):\n",
    "    def removeElement(self, nums, val):\n",
    "        \"\"\"\n",
    "        :type nums: List[int]\n",
    "        :type val: int\n",
    "        :rtype: int\n",
    "        \"\"\"\n",
    "        index = 0 # 记录保留下的元素个数\n",
    "        for i in range(len(nums)):\n",
    "            if nums[i] != val:  \n",
    "                nums[index] = nums[i]   # 从第一个元素开始，nums[index]为保留下的元素\n",
    "                index += 1\n",
    "#         print(nums)\n",
    "        return index\n",
    "x = Solution()\n",
    "x.removeElement([3,2,2,3],3)\n",
    "    "
   ]
  },
  {
   "cell_type": "code",
   "execution_count": 2,
   "metadata": {},
   "outputs": [
    {
     "name": "stdout",
     "output_type": "stream",
     "text": [
      "[2, 2, 3]\n",
      "[2, 2]\n"
     ]
    },
    {
     "data": {
      "text/plain": [
       "2"
      ]
     },
     "execution_count": 2,
     "metadata": {},
     "output_type": "execute_result"
    }
   ],
   "source": [
    "# 方法三 利用python数组的remove方法\n",
    "# 24 ms\n",
    "# 该方法没有返回值,但是会移除列表中的第一个匹配项\n",
    "class Solution(object):\n",
    "    def removeElement(self, nums, val):\n",
    "        try:\n",
    "            while True:\n",
    "                nums.remove(val)\n",
    "#                 print(nums)\n",
    "        except:\n",
    "            return len(nums)\n",
    "x = Solution()\n",
    "x.removeElement([3,2,2,3],3)\n",
    "  "
   ]
  },
  {
   "cell_type": "code",
   "execution_count": null,
   "metadata": {},
   "outputs": [],
   "source": [
    "# 方法三 精简代码\n",
    "def removeElement(nums, val):\n",
    "    while val in nums:\n",
    "        nums.remove(val)\n",
    "    return len(nums)"
   ]
  },
  {
   "cell_type": "code",
   "execution_count": null,
   "metadata": {},
   "outputs": [],
   "source": []
  },
  {
   "cell_type": "markdown",
   "metadata": {},
   "source": [
    "# python里交换两个元素（不需要中间变量）\n",
    "\n",
    "> A[i], A[j] = A[j], A[i]"
   ]
  },
  {
   "cell_type": "code",
   "execution_count": null,
   "metadata": {},
   "outputs": [],
   "source": []
  }
 ],
 "metadata": {
  "kernelspec": {
   "display_name": "Python 2",
   "language": "python",
   "name": "python2"
  },
  "language_info": {
   "codemirror_mode": {
    "name": "ipython",
    "version": 2
   },
   "file_extension": ".py",
   "mimetype": "text/x-python",
   "name": "python",
   "nbconvert_exporter": "python",
   "pygments_lexer": "ipython2",
   "version": "2.7.15"
  }
 },
 "nbformat": 4,
 "nbformat_minor": 2
}
