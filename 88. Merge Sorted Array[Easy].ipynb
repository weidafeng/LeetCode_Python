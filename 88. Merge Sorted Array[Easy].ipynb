{
 "cells": [
  {
   "cell_type": "markdown",
   "metadata": {},
   "source": [
    "# 88. Merge Sorted Array[Easy]\n",
    "\n",
    "https://leetcode.com/problems/merge-sorted-array/"
   ]
  },
  {
   "cell_type": "code",
   "execution_count": null,
   "metadata": {},
   "outputs": [],
   "source": []
  },
  {
   "cell_type": "code",
   "execution_count": null,
   "metadata": {},
   "outputs": [],
   "source": []
  },
  {
   "cell_type": "code",
   "execution_count": null,
   "metadata": {},
   "outputs": [],
   "source": [
    "# 方法一 因为nums1、2均为有序数组，所以可以把nums1后面的n位替换为nums2，再调用列表的sort（）\n",
    "# Success\n",
    "# Details \n",
    "# Runtime: 28 ms, faster than 32.64% of Python online submissions for Merge Sorted Array.\n",
    "# Memory Usage: 10.7 MB, less than 54.18% of Python online submissions for Merge Sorted Array.\n",
    "class Solution(object):\n",
    "    def merge(self, nums1, m, nums2, n):\n",
    "        \"\"\"\n",
    "        :type nums1: List[int]\n",
    "        :type m: int\n",
    "        :type nums2: List[int]\n",
    "        :type n: int\n",
    "        :rtype: None Do not return anything, modify nums1 in-place instead.\n",
    "        \"\"\"\n",
    "        if not nums2:\n",
    "            return \n",
    "        nums1[-n:] = nums2\n",
    "        nums1.sort()\n",
    "        "
   ]
  },
  {
   "cell_type": "code",
   "execution_count": null,
   "metadata": {},
   "outputs": [],
   "source": []
  },
  {
   "cell_type": "code",
   "execution_count": 2,
   "metadata": {},
   "outputs": [
    {
     "name": "stdout",
     "output_type": "stream",
     "text": [
      "[1, 2, 3, 0, 0, 0] [2, 5, 6]\n",
      "[1, 2, 3, 0, 0, 6] [2, 5, 6]\n",
      "[1, 2, 3, 0, 5, 6] [2, 5, 6]\n",
      "[1, 2, 3, 3, 5, 6] [2, 5, 6]\n",
      "[1, 2, 2, 3, 5, 6] [2, 5, 6]\n"
     ]
    }
   ],
   "source": [
    "#方法二 从最后一个开始比较,在末尾放置最大的元素(因为数组有序)\n",
    "# Details \n",
    "# Runtime: 32 ms, faster than 23.07% of Python online submissions for Merge Sorted Array.\n",
    "# Memory Usage: 10.7 MB, less than 85.76% of Python online submissions for Merge Sorted Array.\n",
    "\n",
    "class Solution(object):\n",
    "    def merge(self, nums1, m, nums2, n):\n",
    "        \"\"\"\n",
    "        :type nums1: List[int]\n",
    "        :type m: int\n",
    "        :type nums2: List[int]\n",
    "        :type n: int\n",
    "        :rtype: None Do not return anything, modify nums1 in-place instead.\n",
    "        \"\"\"\n",
    "        while m > 0 and n > 0:\n",
    "#             print nums1,nums2\n",
    "            if nums1[m-1] >= nums2[n-1]: # 从最后一个开始比较,在末尾放置最大的元素(因为数组有序)\n",
    "                nums1[m+n-1] = nums1[m-1]\n",
    "                m -= 1                    # 指针向前移动\n",
    "            else:\n",
    "                nums1[m+n-1] = nums2[n-1] \n",
    "                n -= 1\n",
    "        if n > 0:                        \n",
    "            nums1[:n] = nums2[:n]\n",
    "        # 如果循环结束,nums2还有值(肯定是最小的值)\n",
    "        # 此时，nums1本身所有的元素都已经移动到了后面，只剩下num2的元素,需要移动到nums1的最前面\n",
    "        #                     [1,2,3,0]\n",
    "        #                     3\n",
    "        #                     [0]\n",
    "        #                     1\n",
    "\n",
    "            \n",
    "x = Solution()\n",
    "x.merge([1,2,3,0,0,0],3,[2,5,6],3)"
   ]
  },
  {
   "cell_type": "markdown",
   "metadata": {},
   "source": [
    "方法二图解\n",
    "\n",
    "![image](https://img-blog.csdn.net/20160808213448472)"
   ]
  }
 ],
 "metadata": {
  "kernelspec": {
   "display_name": "Python 2",
   "language": "python",
   "name": "python2"
  },
  "language_info": {
   "codemirror_mode": {
    "name": "ipython",
    "version": 2
   },
   "file_extension": ".py",
   "mimetype": "text/x-python",
   "name": "python",
   "nbconvert_exporter": "python",
   "pygments_lexer": "ipython2",
   "version": "2.7.15"
  }
 },
 "nbformat": 4,
 "nbformat_minor": 2
}
