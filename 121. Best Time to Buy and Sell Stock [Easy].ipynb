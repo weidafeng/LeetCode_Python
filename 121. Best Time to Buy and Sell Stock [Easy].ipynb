{
 "cells": [
  {
   "cell_type": "markdown",
   "metadata": {},
   "source": [
    "# 121. Best Time to Buy and Sell Stock [Easy]  \n",
    "https://leetcode.com/problems/best-time-to-buy-and-sell-stock/  \n",
    "只被允许完成最多一笔交易（即买入并卖出一股股票），请设计一个算法以找到最大利润。"
   ]
  },
  {
   "cell_type": "code",
   "execution_count": 6,
   "metadata": {},
   "outputs": [
    {
     "data": {
      "text/plain": [
       "5"
      ]
     },
     "execution_count": 6,
     "metadata": {},
     "output_type": "execute_result"
    }
   ],
   "source": [
    "# 方法一  两个指针，依次记录i天买、j天卖所得的利润\n",
    "\n",
    "# Runtime: 96 ms, faster than 18.92% of Python online submissions for Best Time to Buy and Sell Stock.\n",
    "# Memory Usage: 19.4 MB, less than 5.13% of Python online submissions for Best Time to Buy and Sell Stock.\n",
    "\n",
    "class Solution(object):\n",
    "    def maxProfit(self, prices):\n",
    "        \"\"\"\n",
    "        :type prices: List[int]\n",
    "        :rtype: int\n",
    "        \"\"\"\n",
    "        profit = [0]\n",
    "        for i in range(len(prices)-1):\n",
    "            if prices[i] < prices[i+1] : # 如果今天价格比明天更低，那么今天买入，否则从第二天开始考虑\n",
    "                for j in range(len(prices)-1,i,-1):  # 从最后开始计算当天卖出所得的利润，存储到profit数组里\n",
    "                    # 也可以再加一个判断（是否盈利），盈利了才存储，我没有加（）\n",
    "                    profit.append(prices[j]-prices[i])\n",
    "        return max(profit)\n",
    "    \n",
    "x = Solution()\n",
    "x.maxProfit([7,1,5,3,6,4])"
   ]
  },
  {
   "cell_type": "code",
   "execution_count": 7,
   "metadata": {},
   "outputs": [
    {
     "data": {
      "text/plain": [
       "5"
      ]
     },
     "execution_count": 7,
     "metadata": {},
     "output_type": "execute_result"
    }
   ],
   "source": [
    "# 方法二 找到最小买入价、最大卖出价\n",
    "# Runtime: 52 ms, faster than 44.43% of Python online submissions for Best Time to Buy and Sell Stock.\n",
    "# Memory Usage: 12.6 MB, less than 5.89% of Python online submissions for Best Time to Buy and Sell Stock.\n",
    "# 记录到今天为止最小的元素（价格最低）\n",
    "# 记录今天卖出得到的利润（今天的价格减去前面最低的价格）\n",
    "# 记录最大的利润\n",
    "\n",
    "class Solution(object):\n",
    "    def maxProfit(self, prices):\n",
    "        \"\"\"\n",
    "        :type prices: List[int]\n",
    "        :rtype: int\n",
    "        \"\"\"\n",
    "        min_p,max_p = float(\"inf\"),0  # 初始化，一个赋值最大值，一个赋最小值\n",
    "        for price in prices:\n",
    "            min_p = min(price,min_p) # 到今天为止，最小的买入价格\n",
    "            profit = price - min_p # 今天卖出得到的利润\n",
    "            max_p = max(max_p, profit) # 记录最大的利润\n",
    "        return max_p\n",
    "        \n",
    "            \n",
    "x = Solution()\n",
    "x.maxProfit([7,1,5,3,6,4])\n"
   ]
  },
  {
   "cell_type": "code",
   "execution_count": null,
   "metadata": {},
   "outputs": [],
   "source": []
  },
  {
   "cell_type": "code",
   "execution_count": null,
   "metadata": {},
   "outputs": [],
   "source": []
  }
 ],
 "metadata": {
  "kernelspec": {
   "display_name": "Python 3",
   "language": "python",
   "name": "python3"
  },
  "language_info": {
   "codemirror_mode": {
    "name": "ipython",
    "version": 3
   },
   "file_extension": ".py",
   "mimetype": "text/x-python",
   "name": "python",
   "nbconvert_exporter": "python",
   "pygments_lexer": "ipython3",
   "version": "3.6.5"
  }
 },
 "nbformat": 4,
 "nbformat_minor": 2
}
