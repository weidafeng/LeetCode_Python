{
 "cells": [
  {
   "cell_type": "markdown",
   "metadata": {},
   "source": [
    "# 69. Sqrt(x) [Easy]\n",
    "\n",
    "https://leetcode.com/problems/sqrtx/"
   ]
  },
  {
   "cell_type": "code",
   "execution_count": null,
   "metadata": {},
   "outputs": [],
   "source": []
  },
  {
   "cell_type": "code",
   "execution_count": 1,
   "metadata": {},
   "outputs": [
    {
     "data": {
      "text/plain": [
       "46339"
      ]
     },
     "execution_count": 1,
     "metadata": {},
     "output_type": "execute_result"
    }
   ],
   "source": [
    "# 方法一 很简单，但提交时报错——内存错误（超了）\n",
    "class Solution(object):\n",
    "    def mySqrt(self, x):\n",
    "        \"\"\"\n",
    "        :type x: int\n",
    "        :rtype: int\n",
    "        \"\"\"\n",
    "        for i in range(x):\n",
    "            if i*i > x:\n",
    "                return i-1\n",
    "\n",
    "x = Solution()\n",
    "x.mySqrt(2147395599)"
   ]
  },
  {
   "cell_type": "code",
   "execution_count": 2,
   "metadata": {},
   "outputs": [
    {
     "data": {
      "text/plain": [
       "2147302921"
      ]
     },
     "execution_count": 2,
     "metadata": {},
     "output_type": "execute_result"
    }
   ],
   "source": [
    "46339*46339"
   ]
  },
  {
   "cell_type": "code",
   "execution_count": null,
   "metadata": {},
   "outputs": [],
   "source": [
    "# 方法一 牛顿法优化\n",
    "class Solution(object):\n",
    "    def mySqrt(self, x):\n",
    "        \"\"\"\n",
    "        :type x: int\n",
    "        :rtype: int\n",
    "        \"\"\"\n",
    "        r = x\n",
    "        while r*r > x:\n",
    "            r = (r + x/r) / 2  \n",
    "        return r"
   ]
  },
  {
   "cell_type": "markdown",
   "metadata": {},
   "source": [
    "**上述算法为牛顿法，来自wiki pedia**   \n",
    "计算方法、最优化理论里面可以学到\n",
    "\n",
    "![image](https://s3-lc-upload.s3.amazonaws.com/users/xiderowg/image_1535699152.png)\n",
    "\n",
    "https://en.wikipedia.org/wiki/Integer_square_root#Using_only_integer_division\n",
    "\n",
    "\n",
    "For computing {\\displaystyle \\lfloor {\\sqrt {n}}\\rfloor } \\lfloor {\\sqrt  n}\\rfloor  for very large integers n, one can use the quotient of Euclidean division for both of the division operations. This has the advantage of only using integers for each intermediate value, thus making the use of floating point representations of large numbers unnecessary. It is equivalent to using the iterative formula\n",
    "\n",
    "![image](https://wikimedia.org/api/rest_v1/media/math/render/svg/00251397f5deacd7b2e77e9d82d70c316483b660)"
   ]
  },
  {
   "cell_type": "code",
   "execution_count": null,
   "metadata": {},
   "outputs": [],
   "source": [
    "# 方法二 调用python math库\n",
    "# Success\n",
    "# Details \n",
    "# Runtime: 40 ms, faster than 36.41% of Python online submissions for Sqrt(x).\n",
    "# Memory Usage: 10.7 MB, less than 68.96% of Python online submissions for Sqrt(x).\n",
    "\n",
    "class Solution(object):\n",
    "    def mySqrt(self, x):\n",
    "        \"\"\"\n",
    "        :type x: int\n",
    "        :rtype: int\n",
    "        \"\"\"\n",
    "        import math\n",
    "        \n",
    "        x = math.sqrt(x) #开方\n",
    "        return int(x) #仅保留整数部分 取整"
   ]
  },
  {
   "cell_type": "code",
   "execution_count": null,
   "metadata": {},
   "outputs": [],
   "source": [
    "# 方法二 精简\n",
    "\n",
    "        return int(x**0.5)"
   ]
  },
  {
   "cell_type": "code",
   "execution_count": 4,
   "metadata": {},
   "outputs": [
    {
     "data": {
      "text/plain": [
       "2"
      ]
     },
     "execution_count": 4,
     "metadata": {},
     "output_type": "execute_result"
    }
   ],
   "source": [
    "# 方法三 二分法\n",
    "\n",
    "\n",
    "class Solution(object):\n",
    "    def mySqrt(self, x):\n",
    "        \"\"\"\n",
    "        :type x: int\n",
    "        :rtype: int\n",
    "        \"\"\"\n",
    "        left ,right = 0 ,x \n",
    "        while left < right:\n",
    "            mid = (left+right)//2\n",
    "\n",
    "            if mid*mid < x <= (mid+1)*(mid+1):\n",
    "                return mid\n",
    "            elif mid*mid > x:\n",
    "                right = mid\n",
    "            else:\n",
    "                left = mid\n",
    "x = Solution()\n",
    "x.mySqrt(8)"
   ]
  },
  {
   "cell_type": "code",
   "execution_count": null,
   "metadata": {},
   "outputs": [],
   "source": []
  },
  {
   "cell_type": "code",
   "execution_count": null,
   "metadata": {},
   "outputs": [],
   "source": []
  },
  {
   "cell_type": "markdown",
   "metadata": {},
   "source": [
    "# 补 python 取整操作\n",
    "\n",
    "Python取整及保留小数小结\n",
    "1. int() 向下取整 内置函数 \n",
    "\n",
    "2. round() 四舍五入 内置函数\n",
    "\n",
    "3. math.floor() 向下取整 math模块函数 \n",
    "\n",
    "4. math.ceil()向上取整 math模块函数\n",
    "\n",
    "5. math.modf() 分别取整数部分和小数部分 math模块函数\n",
    "\n",
    "\n",
    "1 import math  \n",
    "2 n = 3.75  \n",
    "3 print(math.modf(n))  \n",
    "__ (0.75, 3.0)  \n",
    "\n",
    "以上内容源自：https://www.jb51.net/article/102248.htm\n",
    "\n",
    "6. 保留一位小数\n",
    "\n",
    "三种方法：\n",
    "\n",
    "1 print(round(10/3,1))  \n",
    "2 print('%.1f'%(10/3))  \n",
    "3 print(format((10/3),'.1f'))  \n",
    "__ 3.3\n",
    " "
   ]
  },
  {
   "cell_type": "code",
   "execution_count": null,
   "metadata": {},
   "outputs": [],
   "source": []
  }
 ],
 "metadata": {
  "kernelspec": {
   "display_name": "Python 3",
   "language": "python",
   "name": "python3"
  },
  "language_info": {
   "codemirror_mode": {
    "name": "ipython",
    "version": 3
   },
   "file_extension": ".py",
   "mimetype": "text/x-python",
   "name": "python",
   "nbconvert_exporter": "python",
   "pygments_lexer": "ipython3",
   "version": "3.6.5"
  }
 },
 "nbformat": 4,
 "nbformat_minor": 2
}
