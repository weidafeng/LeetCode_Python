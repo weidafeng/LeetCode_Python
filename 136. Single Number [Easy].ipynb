{
 "cells": [
  {
   "cell_type": "markdown",
   "metadata": {},
   "source": [
    "# 136. Single Number [Easy]\n",
    "\n",
    "https://leetcode.com/problems/single-number/"
   ]
  },
  {
   "cell_type": "markdown",
   "metadata": {},
   "source": [
    "## Note:\n",
    "\n",
    "Your algorithm should have a linear runtime complexity. Could you implement it without using extra memory?"
   ]
  },
  {
   "cell_type": "code",
   "execution_count": 6,
   "metadata": {},
   "outputs": [
    {
     "name": "stdout",
     "output_type": "stream",
     "text": [
      "2\n",
      "1\n",
      "4\n"
     ]
    },
    {
     "data": {
      "text/plain": [
       "4"
      ]
     },
     "execution_count": 6,
     "metadata": {},
     "output_type": "execute_result"
    }
   ],
   "source": [
    "# Solution 1: in-place method, remove element one by one, if the deleted one has a pair num in nums, then remove it, until gets an unique\n",
    "\n",
    "# Success\n",
    "# Details \n",
    "# Runtime: 1732 ms, faster than 5.01% of Python online submissions for Single Number.\n",
    "# Memory Usage: 12.8 MB, less than 100.00% of Python online submissions for Single Number.\n",
    "\n",
    "class Solution(object):\n",
    "    def singleNumber(self, nums):\n",
    "        \"\"\"\n",
    "        :type nums: List[int]\n",
    "        :rtype: int\n",
    "        \"\"\"\n",
    "        x = nums.pop()  # get one element(last one)\n",
    "        while x is not None: \n",
    "            print (x) \n",
    "            if x not in nums:\n",
    "                break \n",
    "            else:\n",
    "                nums.remove(x) # remove the pair num\n",
    "            x = nums.pop()\n",
    "        return x\n",
    "        \n",
    "nums = [4,1,2,1,2]       \n",
    "x = Solution()\n",
    "\n",
    "x.singleNumber(nums)"
   ]
  },
  {
   "cell_type": "markdown",
   "metadata": {},
   "source": [
    "# Solution 2:  XOR! AMAZING!\n",
    "> https://leetcode.com/problems/single-number/discuss/43201/Easy-Java-solution-(tell-you-why-using-bitwise-XOR)  \n",
    "\n",
    "we use bitwise XOR to solve this problem :  \n",
    "  \n",
    "first , we have to know the bitwise XOR in python (also jave, c++)  \n",
    "\n",
    "- 0 ^ N = N  \n",
    "- N ^ N = 0  \n",
    "So..... if N is the single number    \n",
    "\n",
    "> N1 ^ N1 ^ N2 ^ N2 ^..............^ Nx ^ Nx ^ N  \n",
    "> = (N1^N1) ^ (N2^N2) ^..............^ (Nx^Nx) ^ N  \n",
    "> = 0 ^ 0 ^ ..........^ 0 ^ N  \n",
    "> = N  \n",
    "\n",
    "Does this solution still work **if the repeated numbers don't occur immediately after one another?** \n",
    "\n",
    "**It will still work because xor is commutative and associative!**"
   ]
  },
  {
   "cell_type": "markdown",
   "metadata": {},
   "source": []
  },
  {
   "cell_type": "code",
   "execution_count": null,
   "metadata": {},
   "outputs": [],
   "source": []
  },
  {
   "cell_type": "code",
   "execution_count": 17,
   "metadata": {},
   "outputs": [
    {
     "name": "stdout",
     "output_type": "stream",
     "text": [
      "0\n"
     ]
    }
   ],
   "source": [
    "# Details \n",
    "# Runtime: 64 ms, faster than 60.36% of Python online submissions for Single Number.\n",
    "# Memory Usage: 13.7 MB, less than 54.53% of Python online submissions for Single Number.\n",
    "\n",
    "class Solution(object):\n",
    "    def singleNumber(self, nums):\n",
    "        \"\"\"\n",
    "        :type nums: List[int]\n",
    "        :rtype: int\n",
    "        \"\"\"\n",
    "        a = 0 # initiation\n",
    "        for num in nums:\n",
    "            a ^= num\n",
    "        return a\n",
    "        \n",
    "nums = [4,1,2,1,2,4,0]       \n",
    "x = Solution()\n",
    "\n",
    "print(x.singleNumber(nums)           )"
   ]
  },
  {
   "cell_type": "markdown",
   "metadata": {},
   "source": [
    "## Solution 2, one-line "
   ]
  },
  {
   "cell_type": "markdown",
   "metadata": {},
   "source": [
    "## python reduce()  \n",
    "reduce() 函数会对参数序列中元素进行累积。  \n",
    "\n",
    "函数将一个数据集合（链表，元组等）中的所有数据进行下列操作：用传给 reduce 中的函数 function（有两个参数）先对集合中的第 1、2 个元素进行操作，得到的结果再与第三个数据用 function 函数运算，最后得到一个结果。  \n",
    "eg:\n",
    "\n",
    "```python  \n",
    ">>>def add(x, y) :            # 两数相加\n",
    "...     return x + y\n",
    "... \n",
    ">>> reduce(add, [1,2,3,4,5])   # 计算列表和：1+2+3+4+5\n",
    "15\n",
    ">>> reduce(lambda x, y: x+y, [1,2,3,4,5])  # 使用 lambda 匿名函数\n",
    "15\n",
    "```"
   ]
  },
  {
   "cell_type": "code",
   "execution_count": null,
   "metadata": {},
   "outputs": [],
   "source": [
    "\n",
    "# python2 version\n",
    "return reduce(lambda x, y: x ^ y, nums) \n",
    "\n",
    "# python3 version\n",
    "from itertools import reduce\n",
    "return reduce(lambda x, y: x ^ y, nums) \n"
   ]
  },
  {
   "cell_type": "markdown",
   "metadata": {},
   "source": [
    "# Solution 3 :  \n",
    "Say you have an input nums = [1,2,2,1,3], set(nums) = [1,2,3],   \n",
    "so if you can get the pair-element array [1,2,2,1],so set([1,2,2,1]) = [1,2]  \n",
    "[1,2,3] - [1,2]  = [3], bingo!  \n",
    " \n",
    "But the [1,2,2,1] is difficult to get.   \n",
    "So maybe we can get the **all-pair-element array**, [1,2,2,1,3,3],then get rid of raw array [1,2,2,1,3],  \n",
    "We can get the single elemnet!\n"
   ]
  },
  {
   "cell_type": "code",
   "execution_count": 23,
   "metadata": {},
   "outputs": [
    {
     "data": {
      "text/plain": [
       "0"
      ]
     },
     "execution_count": 23,
     "metadata": {},
     "output_type": "execute_result"
    }
   ],
   "source": [
    "# Runtime: 68 ms, faster than 59.37% of Python online submissions for Single Number.\n",
    "# Memory Usage: 14 MB, less than 27.99% of Python online submissions for Single Number.\n",
    "\n",
    "class Solution(object):\n",
    "    def singleNumber(self, nums):\n",
    "        \"\"\"\n",
    "        :type nums: List[int]\n",
    "        :rtype: int\n",
    "        \"\"\"\n",
    "        return sum(list(set(nums))*2) - sum(nums)\n",
    "nums = [4,1,2,1,2,4,0]       \n",
    "x = Solution()\n",
    "x.singleNumber(nums)"
   ]
  },
  {
   "cell_type": "code",
   "execution_count": 22,
   "metadata": {},
   "outputs": [
    {
     "data": {
      "text/plain": [
       "3"
      ]
     },
     "execution_count": 22,
     "metadata": {},
     "output_type": "execute_result"
    }
   ],
   "source": [
    "sum([1,2,3]*2) - sum([1,2,2,1,3])"
   ]
  },
  {
   "cell_type": "code",
   "execution_count": null,
   "metadata": {},
   "outputs": [],
   "source": []
  }
 ],
 "metadata": {
  "kernelspec": {
   "display_name": "Python 3",
   "language": "python",
   "name": "python3"
  },
  "language_info": {
   "codemirror_mode": {
    "name": "ipython",
    "version": 3
   },
   "file_extension": ".py",
   "mimetype": "text/x-python",
   "name": "python",
   "nbconvert_exporter": "python",
   "pygments_lexer": "ipython3",
   "version": "3.6.5"
  }
 },
 "nbformat": 4,
 "nbformat_minor": 2
}
