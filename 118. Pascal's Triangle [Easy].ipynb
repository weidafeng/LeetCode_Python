{
 "cells": [
  {
   "cell_type": "markdown",
   "metadata": {},
   "source": [
    "# 118. Pascal's Triangle Easy  \n",
    "杨辉三角形-Pascal三角形  \n",
    "![image](https://upload.wikimedia.org/wikipedia/commons/0/0d/PascalTriangleAnimated2.gif)\n",
    "\n",
    "https://leetcode.com/problems/pascals-triangle/"
   ]
  },
  {
   "cell_type": "code",
   "execution_count": 27,
   "metadata": {},
   "outputs": [
    {
     "data": {
      "text/plain": [
       "[[1], [1, 1], [1, 2, 1], [1, 3, 3, 1], [1, 4, 6, 4, 1]]"
      ]
     },
     "execution_count": 27,
     "metadata": {},
     "output_type": "execute_result"
    }
   ],
   "source": [
    "# 方法一 \n",
    "\n",
    "# Runtime: 32 ms, faster than 10.96% of Python online submissions for Pascal's Triangle.\n",
    "# Memory Usage: 11.8 MB, less than 5.26% of Python online submissions for Pascal's Triangle.\n",
    "\n",
    "def generate(numRows):\n",
    "    if numRows ==0:\n",
    "        return []\n",
    "    result = [[1]]\n",
    "    for i in range(1,numRows): # 第 i 行\n",
    "        result.append([1]* (i+1))   # 每行用1初始化\n",
    "        if i > 1: # 从第三行开始计算(前面两行不需要)\n",
    "            for j in range(1,i): # 第 j 列\n",
    "#                 print(i,j,result)\n",
    "                result[i][j] = result[i-1][j-1] +  result[i-1][j]  # 用上面的两个数相加，得到下面的数\n",
    "        \n",
    "    return result\n",
    "\n",
    "result = generate(5)\n",
    "result\n",
    "\n",
    "\n",
    "# 或：\n",
    "'''\n",
    "def generate(numRows):\n",
    "    result = [[1]]\n",
    "    for i in range(1,numRows): # 第 i 行\n",
    "        result.append([1]* (i+1))   # 每行用1初始化\n",
    "        if i > 1: # 从第三行开始计算(前面两行不需要)\n",
    "            for j in range(1,i): # 第 j 列\n",
    "#                 print(i,j,result)\n",
    "                result[i][j] = result[i-1][j-1] +  result[i-1][j]  # 用上面的两个数相加，得到下面的数\n",
    "        \n",
    "    return result if numRows else []  # 将numRows == 0的判断方法这里\n",
    "'''"
   ]
  },
  {
   "cell_type": "code",
   "execution_count": 31,
   "metadata": {},
   "outputs": [
    {
     "name": "stdout",
     "output_type": "stream",
     "text": [
      "[]\n"
     ]
    },
    {
     "data": {
      "text/plain": [
       "[]"
      ]
     },
     "execution_count": 31,
     "metadata": {},
     "output_type": "execute_result"
    }
   ],
   "source": [
    "# 方法一 代码精简\n",
    "def generate(numRows):\n",
    "\n",
    "    ans = [[1] * n for n in range(1, numRows + 1)]\n",
    "    for i in range(1, numRows + 1):\n",
    "      for j in range(0, i - 2):\n",
    "        ans[i - 1][1 + j] = ans[i - 2][j] + ans[i - 2][j + 1]\n",
    "    return ans\n",
    "\n",
    "generate(0)"
   ]
  },
  {
   "cell_type": "code",
   "execution_count": 34,
   "metadata": {},
   "outputs": [
    {
     "data": {
      "text/plain": [
       "[]"
      ]
     },
     "execution_count": 34,
     "metadata": {},
     "output_type": "execute_result"
    }
   ],
   "source": [
    "[1]*0"
   ]
  },
  {
   "cell_type": "code",
   "execution_count": 39,
   "metadata": {},
   "outputs": [
    {
     "data": {
      "text/plain": [
       "[]"
      ]
     },
     "execution_count": 39,
     "metadata": {},
     "output_type": "execute_result"
    }
   ],
   "source": [
    "# # 方法二 \n",
    "'''\n",
    "来自 LeetCode讨论区：\n",
    "https://leetcode.com/problems/pascals-triangle/discuss/38128/Python-4-lines-short-solution-using-map.\n",
    "\n",
    "explanation: Any row can be constructed using the offset sum of the previous row. Example:\n",
    "\n",
    "    1 3 3 1 0 \n",
    " +  0 1 3 3 1\n",
    " =  1 4 6 4 1\n",
    " \n",
    "'''\n",
    "# Runtime: 32 ms, faster than 10.96% of Python online submissions for Pascal's Triangle.\n",
    "# Memory Usage: 11.7 MB, less than 5.26% of Python online submissions for Pascal's Triangle.\n",
    "def generate(numRows):\n",
    "    ans = [[1]]\n",
    "    for i in range(1, numRows):\n",
    "        ans.append(list(map(lambda x, y: x+y, ans[-1] + [0], [0] + ans[-1])))  #  map（）创建一个迭代器，该迭代器使用每个可迭代元素的参数来计算函数值。 运算说明：【ans[-1] + [0] 】+ 【[0] + ans[-1] 】\n",
    "    return ans if numRows else []\n",
    "generate(0)"
   ]
  },
  {
   "cell_type": "code",
   "execution_count": null,
   "metadata": {},
   "outputs": [],
   "source": []
  }
 ],
 "metadata": {
  "kernelspec": {
   "display_name": "Python 3",
   "language": "python",
   "name": "python3"
  },
  "language_info": {
   "codemirror_mode": {
    "name": "ipython",
    "version": 3
   },
   "file_extension": ".py",
   "mimetype": "text/x-python",
   "name": "python",
   "nbconvert_exporter": "python",
   "pygments_lexer": "ipython3",
   "version": "3.6.5"
  }
 },
 "nbformat": 4,
 "nbformat_minor": 2
}
