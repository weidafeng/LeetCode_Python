{
 "cells": [
  {
   "cell_type": "markdown",
   "metadata": {},
   "source": [
    "# 7. Reverse Integer\n",
    "\n",
    "https://leetcode.com/problems/reverse-integer/\n",
    "\n",
    "Easy\n",
    "\n",
    "Given a 32-bit signed integer, reverse digits of an integer.\n",
    "\n",
    "Example 1:\n",
    "\n",
    "Input: 123\n",
    "Output: 321\n",
    "\n",
    "Example 2:\n",
    "\n",
    "Input: -123\n",
    "Output: -321\n",
    "\n",
    "Example 3:\n",
    "\n",
    "Input: 120\n",
    "Output: 21\n"
   ]
  },
  {
   "cell_type": "code",
   "execution_count": 54,
   "metadata": {},
   "outputs": [],
   "source": [
    "class Solution(object):\n",
    "    def reverse(self, x):\n",
    "        \"\"\"\n",
    "        :type x: int\n",
    "        :rtype: int\n",
    "        \"\"\"\n",
    "        flag = False\n",
    "        if x<0:\n",
    "            x = -x\n",
    "            flag = True\n",
    "        \n",
    "        reverse = 0\n",
    "        while(x!=0):\n",
    "            pop = x%10\n",
    "            x /= 10   #整除 注意：如果是python3，需改为x//=10\n",
    "            \n",
    "            reverse *= 10\n",
    "            reverse += pop\n",
    "        \n",
    "        # 判断是否溢出    \n",
    "        import math\n",
    "        inf = math.pow(2,31)\n",
    "        \n",
    "        if reverse>inf:\n",
    "             return 0     \n",
    "        elif flag :\n",
    "            return -reverse\n",
    "        else:\n",
    "            return reverse\n",
    "      "
   ]
  },
  {
   "cell_type": "code",
   "execution_count": 55,
   "metadata": {},
   "outputs": [
    {
     "name": "stdout",
     "output_type": "stream",
     "text": [
      "321\n"
     ]
    }
   ],
   "source": [
    "x = Solution()\n",
    "\n",
    "print(x.reverse(123))  "
   ]
  },
  {
   "cell_type": "code",
   "execution_count": 62,
   "metadata": {},
   "outputs": [
    {
     "name": "stdout",
     "output_type": "stream",
     "text": [
      "-123\n",
      "-321\n"
     ]
    }
   ],
   "source": [
    "# 整理上述代码\n",
    "x = int(input())\n",
    "# 技巧1\n",
    "flag = -1 if x<0 else 1\n",
    "\n",
    "reverse , x = 0, abs(x)\n",
    "while x:\n",
    "    #技巧2\n",
    "    reverse = x%10 + reverse*10\n",
    "    x /= 10\n",
    "# import math\n",
    "#技巧3\n",
    "reverse = flag * reverse if reverse <pow(2,31) else 0\n",
    "print(reverse)\n",
    "    \n",
    "    \n",
    "#1534236469 溢出\n"
   ]
  },
  {
   "cell_type": "code",
   "execution_count": 4,
   "metadata": {},
   "outputs": [
    {
     "name": "stdout",
     "output_type": "stream",
     "text": [
      "-123\n",
      "-321\n"
     ]
    }
   ],
   "source": [
    "# 方法2\n",
    "# 利用Python的字符串反转操作来实现对整数的反转，反转后的字符串要重新转换为整数。\n",
    "x = int(input())\n",
    "flag = -1 if x<0 else 1\n",
    "reverse,x = 0,abs(x)\n",
    "\n",
    "reverse = int(str(x)[::-1]) #先转化为字符串，然后利用字符串切片的逆序，最后转化为int型\n",
    "# print(x[::-1])#[begin:end:step] -1表示逆序\n",
    "reverse = flag * reverse if reverse <pow(2,31) else 0\n",
    "\n",
    "print(reverse)\n"
   ]
  },
  {
   "cell_type": "code",
   "execution_count": 7,
   "metadata": {},
   "outputs": [
    {
     "name": "stdout",
     "output_type": "stream",
     "text": [
      "1534236469\n",
      "0\n"
     ]
    }
   ],
   "source": [
    "# 整理上面代码\n",
    "x = int(input())\n",
    "reverse = int(str(x)[::-1]) if x>0 else -int(str(-x)[::-1])\n",
    "print(reverse if reverse<pow(2,31) and reverse>=-pow(2,31) else 0)"
   ]
  },
  {
   "cell_type": "code",
   "execution_count": null,
   "metadata": {},
   "outputs": [],
   "source": []
  }
 ],
 "metadata": {
  "kernelspec": {
   "display_name": "Python 2",
   "language": "python",
   "name": "python2"
  },
  "language_info": {
   "codemirror_mode": {
    "name": "ipython",
    "version": 2
   },
   "file_extension": ".py",
   "mimetype": "text/x-python",
   "name": "python",
   "nbconvert_exporter": "python",
   "pygments_lexer": "ipython2",
   "version": "2.7.15"
  }
 },
 "nbformat": 4,
 "nbformat_minor": 2
}
