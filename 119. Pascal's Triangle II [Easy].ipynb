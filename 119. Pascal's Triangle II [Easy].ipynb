{
 "cells": [
  {
   "cell_type": "markdown",
   "metadata": {},
   "source": [
    "# 119. Pascal's Triangle II [Easy]  \n",
    "\n",
    "https://leetcode.com/problems/pascals-triangle-ii/"
   ]
  },
  {
   "cell_type": "code",
   "execution_count": 21,
   "metadata": {},
   "outputs": [
    {
     "data": {
      "text/plain": [
       "[1, 4, 6, 4, 1]"
      ]
     },
     "execution_count": 21,
     "metadata": {},
     "output_type": "execute_result"
    }
   ],
   "source": [
    "# 方法一 与118题一致，最后只输出最后一行即可\n",
    "# Runtime: 20 ms, faster than 80.56% of Python online submissions for Pascal's Triangle II.\n",
    "# Memory Usage: 11.7 MB, less than 5.95% of Python online submissions for Pascal's Triangle II.\n",
    "class Solution(object):\n",
    "    def getRow(self, rowIndex):\n",
    "        \"\"\"\n",
    "        :type rowIndex: int\n",
    "        :rtype: List[int]\n",
    "        \"\"\"\n",
    "        rowIndex += 1  # 注意与上一题的区别，本题给的是“行索引，从0开始”，上一题给的是“行数，表示一共输出几行” \n",
    "        ans = [[1] * n for n in range(1, rowIndex + 1)]  \n",
    "        for i in range(1, rowIndex + 1):\n",
    "            for j in range(0, i - 2):\n",
    "                ans[i - 1][1 + j] = ans[i - 2][j] + ans[i - 2][j + 1]\n",
    "        return ans[-1]\n",
    "        \n",
    "x = Solution()\n",
    "x.getRow(4)"
   ]
  },
  {
   "cell_type": "markdown",
   "metadata": {},
   "source": [
    "# Follow up:\n",
    "\n",
    "Could you optimize your algorithm to use only O(k) extra space?\n",
    "\n",
    "因为方法一是存储了所有行，占用空间很大，所以题目要求采用一个`空间复杂度为O(n)`的方法  \n",
    "\n",
    "\n",
    "## 思路  \n",
    "运算还是要运算，但只存储最后一行\n"
   ]
  },
  {
   "cell_type": "code",
   "execution_count": 63,
   "metadata": {},
   "outputs": [
    {
     "name": "stdout",
     "output_type": "stream",
     "text": [
      "0 [1, 1]\n",
      "1 [1, 2, 1]\n",
      "2 [1, 3, 3, 1]\n",
      "3 [1, 4, 6, 4, 1]\n"
     ]
    },
    {
     "data": {
      "text/plain": [
       "[1, 4, 6, 4, 1]"
      ]
     },
     "execution_count": 63,
     "metadata": {},
     "output_type": "execute_result"
    }
   ],
   "source": [
    "class Solution(object):\n",
    "    def getRow(self, rowIndex):\n",
    "        \"\"\"\n",
    "        :type rowIndex: int\n",
    "        :rtype: List[int]\n",
    "        \"\"\"\n",
    "        ans = [1]\n",
    "        for i in range(rowIndex):\n",
    "            ans = [1] +  [ans[j] + ans[j+1]  for j in range(len(ans) - 1)]  + [1]\n",
    "            print(i,ans)\n",
    "            # 首尾两个[1] 表示最后一行首尾都是【1】, # 中间的元素，由前一行的两个元素相加\n",
    "        return ans\n",
    "x = Solution()\n",
    "x.getRow(4)"
   ]
  },
  {
   "cell_type": "code",
   "execution_count": 46,
   "metadata": {},
   "outputs": [
    {
     "data": {
      "text/plain": [
       "[1, 3, 3, 1]"
      ]
     },
     "execution_count": 46,
     "metadata": {},
     "output_type": "execute_result"
    }
   ],
   "source": [
    "# 方法三 trick\n",
    "# Runtime: 20 ms, faster than 80.56% of Python online submissions for Pascal's Triangle II.\n",
    "# Memory Usage: 12 MB, less than 5.95% of Python online submissions for Pascal's Triangle II.\n",
    "# 用到一个小小的trick，即：每一行的结果可以由上一行和上一行的偏移相加得到。例如求第4行：\n",
    "\n",
    "#     1 3 3 1 0 \n",
    "#  +  0 1 3 3 1\n",
    "#  =  1 4 6 4 1 \n",
    "class Solution(object):\n",
    "    def getRow(self, rowIndex):\n",
    "        \"\"\"\n",
    "        :type rowIndex: int\n",
    "        :rtype: List[int]\n",
    "        \"\"\"\n",
    "        ans = [1]\n",
    "        if rowIndex == 0:\n",
    "            return ans\n",
    "        for _ in range(rowIndex):\n",
    "            ans =  [x+y for x,y in zip([0] + ans, ans + [0])]  # 不能直接把[0] + ans 和 ans + [0]相加，因为那样是数组拼接，而非逐元素求和\n",
    "            print(ans)\n",
    "        return ans\n",
    "x = Solution()\n",
    "x.getRow(5)\n",
    "\n",
    "\n",
    "'''\n",
    "[1, 1]\n",
    "[1, 2, 1]\n",
    "[1, 3, 3, 1]\n",
    "[1, 4, 6, 4, 1]\n",
    "[1, 5, 10, 10, 5, 1]\n",
    "'''"
   ]
  },
  {
   "cell_type": "markdown",
   "metadata": {},
   "source": [
    "方法三解释：  \n",
    "来源： https://leetcode.com/problems/pascals-triangle-ii/discuss/38467/Very-simple-Python-solution\n",
    "\n",
    "say we get row = [1, 2, 1] from last iteration.  \n",
    "[0]+row gives us [0, 1, 2, 1] (appending 0 to the head); row+[0] gives us [1, 2, 1, 0].  \n",
    "Then we need to do the element-wise addition of the 2 lists.  \n",
    "zip() would give us element-wise zipped tuples: [(0, 1), (1, 2), (2, 1), (1, 0)], which is a iterator actually.  \n",
    "then we use the list comprehension to do the actual addition.  "
   ]
  },
  {
   "cell_type": "code",
   "execution_count": 72,
   "metadata": {},
   "outputs": [
    {
     "name": "stdout",
     "output_type": "stream",
     "text": [
      "raw [1, 0, 0, 0, 0, 0, 0]\n",
      "---------- round 0 ----------\n",
      "0 1 [1, 1, 0, 0, 0, 0, 0]\n",
      "---------- round 1 ----------\n",
      "1 2 [1, 1, 1, 0, 0, 0, 0]\n",
      "1 1 [1, 2, 1, 0, 0, 0, 0]\n",
      "---------- round 2 ----------\n",
      "2 3 [1, 2, 1, 1, 0, 0, 0]\n",
      "2 2 [1, 2, 3, 1, 0, 0, 0]\n",
      "2 1 [1, 3, 3, 1, 0, 0, 0]\n",
      "---------- round 3 ----------\n",
      "3 4 [1, 3, 3, 1, 1, 0, 0]\n",
      "3 3 [1, 3, 3, 4, 1, 0, 0]\n",
      "3 2 [1, 3, 6, 4, 1, 0, 0]\n",
      "3 1 [1, 4, 6, 4, 1, 0, 0]\n",
      "---------- round 4 ----------\n",
      "4 5 [1, 4, 6, 4, 1, 1, 0]\n",
      "4 4 [1, 4, 6, 4, 5, 1, 0]\n",
      "4 3 [1, 4, 6, 10, 5, 1, 0]\n",
      "4 2 [1, 4, 10, 10, 5, 1, 0]\n",
      "4 1 [1, 5, 10, 10, 5, 1, 0]\n",
      "---------- round 5 ----------\n",
      "5 6 [1, 5, 10, 10, 5, 1, 1]\n",
      "5 5 [1, 5, 10, 10, 5, 6, 1]\n",
      "5 4 [1, 5, 10, 10, 15, 6, 1]\n",
      "5 3 [1, 5, 10, 20, 15, 6, 1]\n",
      "5 2 [1, 5, 15, 20, 15, 6, 1]\n",
      "5 1 [1, 6, 15, 20, 15, 6, 1]\n"
     ]
    },
    {
     "data": {
      "text/plain": [
       "[1, 6, 15, 20, 15, 6, 1]"
      ]
     },
     "execution_count": 72,
     "metadata": {},
     "output_type": "execute_result"
    }
   ],
   "source": [
    "# 方法四 所有操作都在一行内完成\n",
    "# 很精彩\n",
    "\n",
    "class Solution(object):\n",
    "    def getRow(self, rowIndex):\n",
    "        \"\"\"\n",
    "        :type rowIndex: int\n",
    "        :rtype: List[int]\n",
    "        \"\"\"\n",
    "        ans = [1]+[0]*rowIndex\n",
    "        print(\"raw\",ans)\n",
    "        for i in range(rowIndex):\n",
    "            print(\"-\"*10,\"round %d\"%i,\"-\"*10)\n",
    "            for j in range(i+1, 0, -1): # 从后往前，最后的元素是由前面一个元素+他本身\n",
    "                ans[j] = ans[j] + ans[j-1]\n",
    "                print(i,j,ans)\n",
    "        return ans\n",
    "x = Solution()\n",
    "x.getRow(6)"
   ]
  },
  {
   "cell_type": "code",
   "execution_count": null,
   "metadata": {},
   "outputs": [],
   "source": []
  }
 ],
 "metadata": {
  "kernelspec": {
   "display_name": "Python 3",
   "language": "python",
   "name": "python3"
  },
  "language_info": {
   "codemirror_mode": {
    "name": "ipython",
    "version": 3
   },
   "file_extension": ".py",
   "mimetype": "text/x-python",
   "name": "python",
   "nbconvert_exporter": "python",
   "pygments_lexer": "ipython3",
   "version": "3.6.5"
  }
 },
 "nbformat": 4,
 "nbformat_minor": 2
}
