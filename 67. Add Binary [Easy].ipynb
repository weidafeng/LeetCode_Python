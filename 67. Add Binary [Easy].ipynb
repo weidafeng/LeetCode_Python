{
 "cells": [
  {
   "cell_type": "markdown",
   "metadata": {},
   "source": [
    "#  67. Add Binary\n",
    "\n",
    "Easy  \n",
    "https://leetcode.com/problems/add-binary/"
   ]
  },
  {
   "cell_type": "code",
   "execution_count": 7,
   "metadata": {},
   "outputs": [
    {
     "data": {
      "text/plain": [
       "'10101'"
      ]
     },
     "execution_count": 7,
     "metadata": {},
     "output_type": "execute_result"
    }
   ],
   "source": [
    "# 方法一 递归\n",
    "# 从后开始，依次相加：\n",
    "# 如果是1（需要进位），赋值为0，考虑进位\n",
    "# 如果不是1（不需要进位），直接加一返回\n",
    "# Runtime: 20 ms, faster than 100.00% of Python online submissions for Plus One.\n",
    "# Memory Usage: 10.8 MB, less than 44.58% of Python online submissions for Plus One.\n",
    "\n",
    "class Solution(object):\n",
    "    def addBinary(self, a, b):\n",
    "        \"\"\"\n",
    "        :type a: str\n",
    "        :type b: str\n",
    "        :rtype: str\n",
    "        \"\"\"\n",
    "        if len(a)==0: return b\n",
    "        if len(b)==0: return a\n",
    "        if a[-1] == '1' and b[-1] == '1': #需要进位\n",
    "            return self.addBinary(self.addBinary(a[0:-1], b[0:-1]), '1') + '0' #最后一位补个0，然后整个字符串相加\n",
    "        else:\n",
    "            return self.addBinary(a[0:-1], b[0:-1]) + str(int(a[-1]) + int(b[-1])) # 两个字符串相加\n",
    "        \n",
    "x = Solution()\n",
    "x.addBinary(\"1010\", \"1011\")"
   ]
  },
  {
   "cell_type": "code",
   "execution_count": 4,
   "metadata": {},
   "outputs": [
    {
     "data": {
      "text/plain": [
       "'10101'"
      ]
     },
     "execution_count": 4,
     "metadata": {},
     "output_type": "execute_result"
    }
   ],
   "source": [
    "# 方法二 先把字符串转化成数字，然后把二进制数字转化为十进制，相加，转化为二进制\n",
    "\n",
    "# Runtime: 20 ms, faster than 100.00% of Python online submissions for Add Binary.\n",
    "# Memory Usage: 10.9 MB, less than 12.96% of Python online submissions for Add Binary.\n",
    "\n",
    "\n",
    "class Solution(object):\n",
    "    def addBinary(self, a, b):\n",
    "        \"\"\"\n",
    "        :type a: str\n",
    "        :type b: str\n",
    "        :rtype: str\n",
    "        \"\"\"\n",
    "        a = int(a,base = 2)  #int(x, base=10) 指定进制\n",
    "        b = int(b,base = 2)\n",
    "        return str(bin(a+b))[2:]  # 内置二进制转换函数的结果为  0b101  ，需要去掉前面的 0b\n",
    "\n",
    "x = Solution()\n",
    "x.addBinary(\"1010\", \"1011\")"
   ]
  },
  {
   "cell_type": "code",
   "execution_count": null,
   "metadata": {},
   "outputs": [],
   "source": [
    "# 或者使用格式化输出format 将十进制转换为二进制\n",
    "format(a + b, \"b\") "
   ]
  },
  {
   "cell_type": "code",
   "execution_count": null,
   "metadata": {},
   "outputs": [],
   "source": [
    "# 方法二 精简代码 一行搞定\n",
    "\n",
    "return bin(int(a,2) + int(b,2))[2:]"
   ]
  },
  {
   "cell_type": "code",
   "execution_count": 6,
   "metadata": {},
   "outputs": [],
   "source": []
  },
  {
   "cell_type": "code",
   "execution_count": null,
   "metadata": {},
   "outputs": [],
   "source": []
  },
  {
   "cell_type": "markdown",
   "metadata": {},
   "source": [
    "# 补 python 内置函数 进制转换\n",
    "\n",
    "https://www.jb51.net/article/139206.htm\n"
   ]
  },
  {
   "cell_type": "markdown",
   "metadata": {},
   "source": [
    "# 补 map（）函数\n",
    "map()函数\n",
    "\n",
    "map()是 python 内置的高阶函数，它接收一个函数 f 和一个 list，并通过**把函数 f 依次作用在 list 的每个元素上，得到一个新的object并返回**。（python2返回列表，Python3返回迭代对象）\n",
    "\n",
    "\n",
    "map（）的使用方法形如**map(f(x),Itera)**，它有两个参数，第一个参数为某个函数，第二个为可迭代对象。\n",
    "\n"
   ]
  },
  {
   "cell_type": "code",
   "execution_count": null,
   "metadata": {},
   "outputs": [],
   "source": []
  }
 ],
 "metadata": {
  "kernelspec": {
   "display_name": "Python 3",
   "language": "python",
   "name": "python3"
  },
  "language_info": {
   "codemirror_mode": {
    "name": "ipython",
    "version": 3
   },
   "file_extension": ".py",
   "mimetype": "text/x-python",
   "name": "python",
   "nbconvert_exporter": "python",
   "pygments_lexer": "ipython3",
   "version": "3.6.5"
  }
 },
 "nbformat": 4,
 "nbformat_minor": 2
}
