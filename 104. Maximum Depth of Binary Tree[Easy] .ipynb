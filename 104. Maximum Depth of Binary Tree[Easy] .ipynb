{
 "cells": [
  {
   "cell_type": "markdown",
   "metadata": {},
   "source": [
    "# 104. Maximum Depth of Binary Tree[Easy]\n",
    "\n",
    "https://leetcode.com/problems/maximum-depth-of-binary-tree/"
   ]
  },
  {
   "cell_type": "code",
   "execution_count": null,
   "metadata": {},
   "outputs": [],
   "source": []
  },
  {
   "cell_type": "code",
   "execution_count": null,
   "metadata": {},
   "outputs": [],
   "source": []
  },
  {
   "cell_type": "code",
   "execution_count": null,
   "metadata": {},
   "outputs": [],
   "source": [
    "# 方法一 递归\n",
    "# 　　思路：分别遍历根节点的左右子树(p.s.根节点是相对而言的，不只是最初的根节点)，遍历一层，加一，比较左右结果大小，最后结果再加一。\n",
    "# Success\n",
    "# Details \n",
    "# Runtime: 32 ms, faster than 89.74% of Python online submissions for Maximum Depth of Binary Tree.\n",
    "# Memory Usage: 13.8 MB, less than 64.03% of Python online submissions for Maximum Depth of Binary Tree.\n",
    "\n",
    "\n",
    "# Definition for a binary tree node.\n",
    "# class TreeNode(object):\n",
    "#     def __init__(self, x):\n",
    "#         self.val = x\n",
    "#         self.left = None\n",
    "#         self.right = None\n",
    "\n",
    "class Solution(object):\n",
    "    def maxDepth(self, root):\n",
    "        \"\"\"\n",
    "        :type root: TreeNode\n",
    "        :rtype: int\n",
    "        \"\"\"\n",
    "        if root == None:\n",
    "            return 0\n",
    "        \n",
    "        return 1+ max(self.maxDepth(root.left),self.maxDepth(root.right))\n",
    " \n",
    "\n",
    "\n",
    "# 或者一行搞定\n",
    "class Solution(object):\n",
    "    def maxDepth(self, root):\n",
    "        return 1 + max(self.maxDepth(root.left), self.maxDepth(root.right)) if root else 0"
   ]
  },
  {
   "cell_type": "code",
   "execution_count": null,
   "metadata": {},
   "outputs": [],
   "source": [
    "# 方法二  利用队列——层数即深度\n",
    "# 队列只会记录下一级别的所有节点。一旦它不为空，深度将添加一个。\n",
    "# 如果队列为空，则表示下一级别没有节点。然后退出循环并返回深度。\n",
    "# Success\n",
    "# Details \n",
    "# Runtime: 28 ms, faster than 100.00% of Python online submissions for Maximum Depth of Binary Tree.\n",
    "# Memory Usage: 13.5 MB, less than 100.00% of Python online submissions for Maximum Depth of Binary Tree.\n",
    "class Solution(object):\n",
    "    def maxDepth(self, root):\n",
    "        \"\"\"\n",
    "        :type root: TreeNode\n",
    "        :rtype: int\n",
    "        \"\"\"\n",
    "        depth = 0\n",
    "        level = [root] if root else []\n",
    "        while level:\n",
    "            depth += 1\n",
    "            queue = []  # 每次清空，只存储本层的左右子树根节点（不包括空节点）\n",
    "            for elem in level:\n",
    "                if elem.left:\n",
    "                    queue.append(elem.left)\n",
    "                if elem.right:\n",
    "                    queue.append(elem.right)\n",
    "            level = queue \n",
    "            \n",
    "        return depth #层数即深度\n",
    "\n"
   ]
  },
  {
   "cell_type": "code",
   "execution_count": null,
   "metadata": {},
   "outputs": [],
   "source": [
    "# 方法三 与方法二思想一致——层数即深度\n",
    "# 本方法存储了本层所有节点（包括空节点）\n",
    "# Success\n",
    "# Details \n",
    "# Runtime: 32 ms, faster than 89.27% of Python online submissions for Maximum Depth of Binary Tree.\n",
    "# Memory Usage: 14.6 MB, less than 5.14% of Python online submissions for Maximum Depth of Binary Tree.\n",
    "\n",
    "# https://leetcode.com/problems/maximum-depth-of-binary-tree/discuss/34434/Python-solution-(BFS-%2B-dequequeue)\n",
    "\n",
    "class Solution:\n",
    "    def maxDepth(self, root: TreeNode) -> int:\n",
    "        \n",
    "        # intertive solution\n",
    "        ls = [root]\n",
    "        depth = 0\n",
    "        while set(ls) != {None}:\n",
    "            print(ls)\n",
    "            depth += 1\n",
    "            ls_ = []  # 存储本层所有节点（包括空节点）\n",
    "            for l in ls:\n",
    "                if l is not None:\n",
    "                    ls_.append(l.left)\n",
    "                    ls_.append(l.right)\n",
    "        return depth  # 层数即深度\n",
    "    \n",
    "        # recursive solution\n",
    "        # return 0 if root is None else 1 + max(self.maxDepth(root.left),self.maxDepth(root.right))"
   ]
  },
  {
   "cell_type": "code",
   "execution_count": null,
   "metadata": {},
   "outputs": [],
   "source": []
  },
  {
   "cell_type": "markdown",
   "metadata": {},
   "source": [
    "# 补 Python 二叉树的三种遍历方式\n",
    "\n",
    "https://www.cnblogs.com/freeman818/p/7252041.html"
   ]
  },
  {
   "cell_type": "code",
   "execution_count": null,
   "metadata": {},
   "outputs": [],
   "source": []
  },
  {
   "cell_type": "markdown",
   "metadata": {},
   "source": [
    "# 补  关于全局变量\n",
    "\n",
    "**全局变量在使用之前就要声明**，声明全局变量使用关键字 global，然后**在使用该全局变量时，需要再次声明**\n"
   ]
  },
  {
   "cell_type": "code",
   "execution_count": 2,
   "metadata": {},
   "outputs": [
    {
     "name": "stdout",
     "output_type": "stream",
     "text": [
      "现在是全局变量val,值为 10\n"
     ]
    }
   ],
   "source": [
    "\n",
    "global val  #在使用前初次声明\n",
    "val = 10    #给全局变量赋值\n",
    " \n",
    "def xy():\n",
    "    global val   #再次声明，表示在这里使用的是全局变量，而不是局部变量\n",
    "    print('现在是全局变量val,值为',val)\n",
    "xy()"
   ]
  },
  {
   "cell_type": "code",
   "execution_count": null,
   "metadata": {},
   "outputs": [],
   "source": []
  }
 ],
 "metadata": {
  "kernelspec": {
   "display_name": "Python 3",
   "language": "python",
   "name": "python3"
  },
  "language_info": {
   "codemirror_mode": {
    "name": "ipython",
    "version": 3
   },
   "file_extension": ".py",
   "mimetype": "text/x-python",
   "name": "python",
   "nbconvert_exporter": "python",
   "pygments_lexer": "ipython3",
   "version": "3.6.5"
  }
 },
 "nbformat": 4,
 "nbformat_minor": 2
}
