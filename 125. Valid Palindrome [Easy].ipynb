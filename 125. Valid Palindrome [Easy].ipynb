{
 "cells": [
  {
   "cell_type": "markdown",
   "metadata": {},
   "source": [
    "# 125. Valid Palindrome [Easy]\n",
    "\n",
    "https://leetcode.com/problems/valid-palindrome/"
   ]
  },
  {
   "cell_type": "markdown",
   "metadata": {},
   "source": [
    "## similar question:\n",
    "- 9. Palindrome Number https://leetcode.com/problems/palindrome-number/submissions/"
   ]
  },
  {
   "cell_type": "code",
   "execution_count": null,
   "metadata": {},
   "outputs": [],
   "source": []
  },
  {
   "cell_type": "code",
   "execution_count": 18,
   "metadata": {},
   "outputs": [
    {
     "name": "stdout",
     "output_type": "stream",
     "text": [
      "raceacar racaecar\n"
     ]
    },
    {
     "data": {
      "text/plain": [
       "False"
      ]
     },
     "execution_count": 18,
     "metadata": {},
     "output_type": "execute_result"
    }
   ],
   "source": [
    "# Solution 1: \n",
    "# 1、strip blank and punctuntions—— only alphanumeric characters \n",
    "# 2、lower case \n",
    "# 3、reverse\n",
    "# 4、compare the two strings\n",
    "\n",
    "# Success\n",
    "# Details \n",
    "# Runtime: 36 ms, faster than 91.22% of Python online submissions for Valid Palindrome.\n",
    "# Memory Usage: 13.7 MB, less than 11.64% of Python online submissions for Valid Palindrome.\n",
    "\n",
    "class Solution(object):\n",
    "    def isPalindrome(self, s):\n",
    "        \"\"\"\n",
    "        :type s: str\n",
    "        :rtype: bool\n",
    "        \"\"\"\n",
    "        s = \"\".join(i.lower() for i in s if i.isalnum()) #1 & 2\n",
    "        return s[:: -1] == s # 3 & 4\n",
    "        \n",
    "\n",
    "s = \"A man, a plan, a canal: Panama\"\n",
    "s1 = \"race a car\"\n",
    "x = Solution()\n",
    "x.isPalindrome(s1)"
   ]
  },
  {
   "cell_type": "code",
   "execution_count": null,
   "metadata": {},
   "outputs": [],
   "source": []
  },
  {
   "cell_type": "code",
   "execution_count": 9,
   "metadata": {},
   "outputs": [],
   "source": [
    "s = \"\".join(i.lower() for i in s if i.isalnum())"
   ]
  },
  {
   "cell_type": "code",
   "execution_count": 11,
   "metadata": {},
   "outputs": [
    {
     "data": {
      "text/plain": [
       "True"
      ]
     },
     "execution_count": 11,
     "metadata": {},
     "output_type": "execute_result"
    }
   ],
   "source": [
    "s[::-1] ==s"
   ]
  },
  {
   "cell_type": "code",
   "execution_count": 23,
   "metadata": {},
   "outputs": [
    {
     "name": "stdout",
     "output_type": "stream",
     "text": [
      "['a', 'm', 'a', 'n', 'a', 'p', 'l', 'a', 'n', 'a', 'c', 'a', 'n', 'a', 'l', 'p', 'a', 'n', 'a', 'm', 'a']\n"
     ]
    },
    {
     "data": {
      "text/plain": [
       "True"
      ]
     },
     "execution_count": 23,
     "metadata": {},
     "output_type": "execute_result"
    }
   ],
   "source": [
    "# Solution 2: similar to solution 1, but using filter function\n",
    "# Runtime: 32 ms, faster than 99.99% of Python3 online submissions for Valid Palindrome.\n",
    "# Memory Usage: 14.5 MB, less than 19.60% of Python3 online submissions for Valid Palindrome.\n",
    "class Solution(object):\n",
    "    def isPalindrome(self, s):\n",
    "        \"\"\"\n",
    "        :type s: str\n",
    "        :rtype: bool\n",
    "        \"\"\"\n",
    "#         s = filter(str.isalnum, s.lower())  # python2 version\n",
    "        s = list(filter(str.isalnum, s.lower()))  # python3 version\n",
    "        print(s)\n",
    "        return s == s[::-1]\n",
    "    \n",
    "s = \"A man, a plan, a canal: Panama\"\n",
    "x = Solution()\n",
    "x.isPalindrome(s)      "
   ]
  },
  {
   "cell_type": "markdown",
   "metadata": {},
   "source": [
    "# Appendix:  \n",
    "## filter() function   \n",
    "\n",
    ">Init signature: filter(self, /, *args, **kwargs)  \n",
    "**Docstring:**       \n",
    "filter(function or None, iterable) --> filter object\n",
    "\n",
    ">Return an iterator yielding those items of iterable for which function(item) is true.   \n",
    "If function is None, return the items that are true.  \n",
    "\n",
    "filter(function, iterable)    \n",
    "- function -- 判断函数。  \n",
    "- iterable -- 可迭代对象。  \n",
    "注意: Pyhton2.7 返回列表，Python3.x 返回迭代器对象  \n"
   ]
  },
  {
   "cell_type": "code",
   "execution_count": null,
   "metadata": {},
   "outputs": [],
   "source": []
  },
  {
   "cell_type": "code",
   "execution_count": 20,
   "metadata": {},
   "outputs": [
    {
     "data": {
      "text/plain": [
       "True"
      ]
     },
     "execution_count": 20,
     "metadata": {},
     "output_type": "execute_result"
    }
   ],
   "source": [
    "# Solution 3: similar method but write line by line without using string-reverse trick(s[::-1])\n",
    "\n",
    "# Success\n",
    "# Details \n",
    "# Runtime: 36 ms, faster than 91.22% of Python online submissions for Valid Palindrome.\n",
    "# Memory Usage: 13.8 MB, less than 9.74% of Python online submissions for Valid Palindrome.\n",
    "\n",
    "\n",
    "class Solution(object):\n",
    "    def isPalindrome(self, s):\n",
    "        \"\"\"\n",
    "        :type s: str\n",
    "        :rtype: bool\n",
    "        \"\"\"\n",
    "        s = \"\".join(i.lower() for i in s if i.isalnum())\n",
    "        i = 0  # front index\n",
    "        j = len(s)-1 # tail index\n",
    "        while i < j:  \n",
    "            if s[i] != s[j]:\n",
    "                return False\n",
    "            else:  # if equal, move index to middle\n",
    "                i += 1\n",
    "                j -= 1\n",
    "        return True\n",
    "    \n",
    "s = \"A man, a plan, a canal: Panama\"\n",
    "s1 = \"race a car\"\n",
    "x = Solution()\n",
    "x.isPalindrome(s)    "
   ]
  },
  {
   "cell_type": "code",
   "execution_count": null,
   "metadata": {},
   "outputs": [],
   "source": []
  }
 ],
 "metadata": {
  "kernelspec": {
   "display_name": "Python 3",
   "language": "python",
   "name": "python3"
  },
  "language_info": {
   "codemirror_mode": {
    "name": "ipython",
    "version": 3
   },
   "file_extension": ".py",
   "mimetype": "text/x-python",
   "name": "python",
   "nbconvert_exporter": "python",
   "pygments_lexer": "ipython3",
   "version": "3.6.5"
  }
 },
 "nbformat": 4,
 "nbformat_minor": 2
}
