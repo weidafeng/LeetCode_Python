{
 "cells": [
  {
   "cell_type": "markdown",
   "metadata": {},
   "source": [
    "# 14. Longest Common Prefix [Easy]\n",
    "\n",
    "**链接：** https://leetcode.com/problems/longest-common-prefix/\n",
    "\n",
    "Write a function to find the longest common prefix string amongst an array of strings.\n",
    "\n",
    "If there is no common prefix, return an empty string \"\".\n",
    "\n",
    "**Example 1:**  \n",
    "\n",
    "Input: [\"flower\",\"flow\",\"flight\"]  \n",
    "Output: \"fl\"  \n",
    "**Example 2:**  \n",
    "\n",
    "Input: [\"dog\",\"racecar\",\"car\"]  \n",
    "Output: \"\"  \n",
    "Explanation: There is no common prefix among the input strings.  \n",
    "**Note:**  \n",
    "\n",
    "All given inputs are in lowercase letters a-z."
   ]
  },
  {
   "cell_type": "code",
   "execution_count": 2,
   "metadata": {},
   "outputs": [
    {
     "data": {
      "text/plain": [
       "'asd'"
      ]
     },
     "execution_count": 2,
     "metadata": {},
     "output_type": "execute_result"
    }
   ],
   "source": [
    "# 方法一 从第一个前缀字符开始，逐个比较相邻两个字符串的前缀是否相同\n",
    "# 33ms\n",
    "class Solution(object):\n",
    "    def longestCommonPrefix(self, strs):\n",
    "        \"\"\"\n",
    "        :type strs: List[str]\n",
    "        :rtype: str\n",
    "        \"\"\"\n",
    "        pre , temp = '',''  # temp 为中间变量，用于储存相等的字符\n",
    "        n = len(strs)\n",
    "        \n",
    "        # 注意：如果输入为空[]\n",
    "        # 则下面执行min（m）时报错：min() arg is an empty sequence\n",
    "        # 所以加上判别：\n",
    "        if n == 0:\n",
    "            return ''\n",
    "        elif n==1:\n",
    "            return strs[0]\n",
    "        \n",
    "        m = []              # min(len(strs[i])) \n",
    "        for i in range(n):\n",
    "            m.append(len(strs[i]))\n",
    "        m = min(m)          # 获取最短字符串的长度\n",
    "        \n",
    "        \n",
    "        for j in range(m):\n",
    "            for i in range(n-1):\n",
    "                if strs[i][j] != strs[i+1][j]:  #如果判别出不相等，直接返回\n",
    "                    return pre\n",
    "                else:\n",
    "                    temp = strs[i][j]\n",
    "            pre+=temp       # 如果相等，则字符串拼接到一起（+号就行）\n",
    "        return pre\n",
    "    \n",
    "x = Solution()\n",
    "x.longestCommonPrefix(['asdf','asd'])"
   ]
  },
  {
   "cell_type": "markdown",
   "metadata": {},
   "source": [
    "方法二，参考官方解答一  \n",
    "40ms  \n",
    "prefix肯定不会超过第一个字符串的长度，\n",
    "所以以第一个字符串为模板，依次检测后面的字符串是否以该模板为开头（s.startswith()方法)\n",
    "\n",
    "![image](https://leetcode.com/media/original_images/14_basic.png)"
   ]
  },
  {
   "cell_type": "code",
   "execution_count": 1,
   "metadata": {},
   "outputs": [
    {
     "data": {
      "text/plain": [
       "'ab'"
      ]
     },
     "execution_count": 1,
     "metadata": {},
     "output_type": "execute_result"
    }
   ],
   "source": [
    "# 方法二，参考官方解答一，代码由java版本修改\n",
    "# 40ms\n",
    "\n",
    "class Solution(object):\n",
    "    def longestCommonPrefix(self, strs):\n",
    "        \"\"\"\n",
    "        :type strs: List[str]\n",
    "        :rtype: str\n",
    "        \"\"\"\n",
    "        n = len(strs)\n",
    "        if n==0:\n",
    "            return \"\"\n",
    "        pre = strs[0] #prefix肯定不会超过第一个字符串的长度，以第一个字符串为模板\n",
    "        for i in range(1,n): #依次检测后面的字符串是否以该模板为开头（s.startswith()方法)\n",
    "            while(not strs[i].startswith(pre)):\n",
    "#                 print(i,pre)\n",
    "                pre = pre[:-1] #如果不是（即该模板不是后面字符串的前缀），则把模板最后一个字符去掉\n",
    "                if len(pre)==0: \n",
    "                    return \"\"\n",
    "        return pre\n",
    "    \n",
    "x = Solution()\n",
    "x.longestCommonPrefix([\"abab\",\"abas\",\"abc\"])"
   ]
  },
  {
   "cell_type": "code",
   "execution_count": null,
   "metadata": {},
   "outputs": [],
   "source": [
    "# 官方java版代码\n",
    "\n",
    "public String longestCommonPrefix(String[] strs) {\n",
    "    if (strs.length == 0) return \"\";\n",
    "    String prefix = strs[0];\n",
    "    for (int i = 1; i < strs.length; i++)\n",
    "        while (strs[i].indexOf(prefix) != 0) {\n",
    "            prefix = prefix.substring(0, prefix.length() - 1);\n",
    "            if (prefix.isEmpty()) return \"\";\n",
    "        }        \n",
    "    return prefix;\n",
    "}"
   ]
  },
  {
   "cell_type": "code",
   "execution_count": 10,
   "metadata": {},
   "outputs": [
    {
     "name": "stdout",
     "output_type": "stream",
     "text": [
      "(0, ('a', 'a', 'a'))\n",
      "(set(['a']), '')\n",
      "(1, ('b', 'b', 'b'))\n",
      "(set(['b']), 'a')\n",
      "(2, ('a', 'a', 'c'))\n",
      "(set(['a', 'c']), 'ab')\n"
     ]
    },
    {
     "data": {
      "text/plain": [
       "'ab'"
      ]
     },
     "execution_count": 10,
     "metadata": {},
     "output_type": "execute_result"
    }
   ],
   "source": [
    "# 方法三\n",
    "# 利用zip函数，先将每个字符串的第i个字符转化为元组\n",
    "# 然后利用set（）函数将元组转化为集合，若集合长度为1——是公共前缀\n",
    "'''\n",
    "示例：\n",
    "输入字符串数组：\n",
    "[\"abab\",\n",
    "  \"abas\",\n",
    "  \"abc\"]\n",
    "\n",
    "利用zip（）函数转化为元组：\n",
    "1 ('a', 'a', 'a') ——只含有一个元素——是\n",
    "2 ('b', 'b', 'b') ——只含有一个元素——是\n",
    "3 ('a', 'a', 'c') ——含有两及以上个元素——不是公共前缀\n",
    "'''\n",
    "class Solution:\n",
    "    def longestCommonPrefix(self, strs):\n",
    "        \"\"\"\n",
    "        :type strs: List[str]\n",
    "        :rtype: str\n",
    "        \"\"\"\n",
    "        if not strs:\n",
    "            return ''\n",
    "        for i, chars in enumerate(zip(*strs)):\n",
    "#             print(i, chars)\n",
    "#             print(set(chars),strs[0][:i])\n",
    "            if len(set(chars)) > 1:\n",
    "                return strs[0][:i]\n",
    "        return min(strs)  # min（[\"aa\",\"a\"]） = \"a\"\n",
    "x = Solution()\n",
    "x.longestCommonPrefix([\"abab\",\n",
    "                       \"abas\",\n",
    "                       \"abc\"])"
   ]
  },
  {
   "cell_type": "code",
   "execution_count": 12,
   "metadata": {},
   "outputs": [
    {
     "data": {
      "text/plain": [
       "'a'"
      ]
     },
     "execution_count": 12,
     "metadata": {},
     "output_type": "execute_result"
    }
   ],
   "source": [
    "min([\"aa\",\"a\"])"
   ]
  },
  {
   "cell_type": "code",
   "execution_count": 16,
   "metadata": {},
   "outputs": [
    {
     "name": "stdout",
     "output_type": "stream",
     "text": [
      "('f', 'f', 'f')\n",
      "('l', 'l', 'l')\n",
      "('o', 'o', 'i')\n",
      "('w', 'w', 'g')\n",
      "[(1, 4), (2, 5), (3, 6)]\n"
     ]
    }
   ],
   "source": [
    "#补充 zip()函数 \n",
    "\n",
    "# zip(seq1 [, seq2 [...]]) -> [(seq1[0], seq2[0] ...), (...)]\n",
    "\n",
    "# Return a list of tuples, where each tuple contains the i-th element\n",
    "# from each of the argument sequences.  The returned list is truncated\n",
    "# # in length to the length of the shortest argument sequence.\n",
    "\n",
    "# zip() 函数用于将可迭代的对象作为参数，将对象中对应的元素打包成一个个元组，然后返回由这些元组组成的列表。\n",
    "# 如果各个迭代器的元素个数不一致，则返回列表长度与最短的对象相同，利用 * 号操作符，可以将元组解压为列表。\n",
    "nums = ['flower','flow','flight']\n",
    "for i in zip(*nums):\n",
    "    print(i)\n",
    "    \n",
    "    \n",
    "a = [1,2,3]\n",
    "b = [4,5,6]\n",
    "zipped = zip(a,b)     # 打包为元组的列表\n",
    "print(zipped)"
   ]
  },
  {
   "cell_type": "code",
   "execution_count": null,
   "metadata": {},
   "outputs": [],
   "source": []
  }
 ],
 "metadata": {
  "kernelspec": {
   "display_name": "Python 2",
   "language": "python",
   "name": "python2"
  },
  "language_info": {
   "codemirror_mode": {
    "name": "ipython",
    "version": 2
   },
   "file_extension": ".py",
   "mimetype": "text/x-python",
   "name": "python",
   "nbconvert_exporter": "python",
   "pygments_lexer": "ipython2",
   "version": "2.7.15"
  }
 },
 "nbformat": 4,
 "nbformat_minor": 2
}
