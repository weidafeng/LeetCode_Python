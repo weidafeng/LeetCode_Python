{
 "cells": [
  {
   "cell_type": "markdown",
   "metadata": {},
   "source": [
    "# 14. Longest Common Prefix [Easy]\n",
    "\n",
    "**链接：** https://leetcode.com/problems/longest-common-prefix/\n",
    "\n",
    "Write a function to find the longest common prefix string amongst an array of strings.\n",
    "\n",
    "If there is no common prefix, return an empty string \"\".\n",
    "\n",
    "**Example 1:**  \n",
    "\n",
    "Input: [\"flower\",\"flow\",\"flight\"]  \n",
    "Output: \"fl\"  \n",
    "**Example 2:**  \n",
    "\n",
    "Input: [\"dog\",\"racecar\",\"car\"]  \n",
    "Output: \"\"  \n",
    "Explanation: There is no common prefix among the input strings.  \n",
    "**Note:**  \n",
    "\n",
    "All given inputs are in lowercase letters a-z."
   ]
  },
  {
   "cell_type": "code",
   "execution_count": null,
   "metadata": {},
   "outputs": [],
   "source": []
  },
  {
   "cell_type": "code",
   "execution_count": null,
   "metadata": {},
   "outputs": [],
   "source": []
  },
  {
   "cell_type": "code",
   "execution_count": 5,
   "metadata": {},
   "outputs": [
    {
     "data": {
      "text/plain": [
       "'asd'"
      ]
     },
     "execution_count": 5,
     "metadata": {},
     "output_type": "execute_result"
    }
   ],
   "source": [
    "# 方法一 从第一个前缀字符开始，逐个比较相邻两个字符串的前缀是否相同\n",
    "# 33ms\n",
    "class Solution(object):\n",
    "    def longestCommonPrefix(self, strs):\n",
    "        \"\"\"\n",
    "        :type strs: List[str]\n",
    "        :rtype: str\n",
    "        \"\"\"\n",
    "        pre , temp = '',''  # temp 为中间变量，用于储存相等的字符\n",
    "        n = len(strs)\n",
    "        \n",
    "        # 注意：如果输入为空[]\n",
    "        # 则下面执行min（m）时报错：min() arg is an empty sequence\n",
    "        # 所以加上判别：\n",
    "        if n == 0:\n",
    "            return ''\n",
    "        elif n==1:\n",
    "            return strs[0]\n",
    "        \n",
    "        m = []              # min(len(strs[i])) \n",
    "        for i in range(n):\n",
    "            m.append(len(strs[i]))\n",
    "        m = min(m)          # 获取最短字符串的长度\n",
    "        \n",
    "        \n",
    "        for j in range(m):\n",
    "            for i in range(n-1):\n",
    "                if strs[i][j] != strs[i+1][j]:  #如果判别出不相等，直接返回\n",
    "                    return pre\n",
    "                else:\n",
    "                    temp = strs[i][j]\n",
    "            pre+=temp       # 如果相等，则字符串拼接到一起（+号就行）\n",
    "        return pre\n",
    "    \n",
    "x = Solution()\n",
    "x.longestCommonPrefix(['asdf','asd'])"
   ]
  },
  {
   "cell_type": "markdown",
   "metadata": {},
   "source": [
    "方法二，参考官方解答一  \n",
    "40ms  \n",
    "prefix肯定不会超过第一个字符串的长度，\n",
    "所以以第一个字符串为模板，依次检测后面的字符串是否以该模板为开头（s.startswith()方法)\n",
    "\n",
    "![image](https://leetcode.com/media/original_images/14_basic.png)"
   ]
  },
  {
   "cell_type": "code",
   "execution_count": 23,
   "metadata": {},
   "outputs": [
    {
     "name": "stdout",
     "output_type": "stream",
     "text": [
      "(1, 'abab')\n",
      "aba\n",
      "(2, 'aba')\n",
      "ab\n"
     ]
    },
    {
     "data": {
      "text/plain": [
       "'ab'"
      ]
     },
     "execution_count": 23,
     "metadata": {},
     "output_type": "execute_result"
    }
   ],
   "source": [
    "# 方法二，参考官方解答一，代码由java版本修改\n",
    "# 40ms\n",
    "\n",
    "class Solution(object):\n",
    "    def longestCommonPrefix(self, strs):\n",
    "        \"\"\"\n",
    "        :type strs: List[str]\n",
    "        :rtype: str\n",
    "        \"\"\"\n",
    "        n = len(strs)\n",
    "        if n==0:\n",
    "            return \"\"\n",
    "        pre = strs[0] #prefix肯定不会超过第一个字符串的长度，以第一个字符串为模板\n",
    "        for i in range(1,n): #依次检测后面的字符串是否以该模板为开头（s.startswith()方法)\n",
    "            while(not strs[i].startswith(pre)):\n",
    "#                 print(i,pre)\n",
    "                pre = pre[:-1] #如果不是（即该模板不是后面字符串的前缀），则把模板最后一个字符去掉\n",
    "                if len(pre)==0: \n",
    "                    return \"\"\n",
    "        return pre\n",
    "    \n",
    "x = Solution()\n",
    "x.longestCommonPrefix([\"abab\",\"abas\",\"abc\"])"
   ]
  },
  {
   "cell_type": "code",
   "execution_count": null,
   "metadata": {},
   "outputs": [],
   "source": []
  },
  {
   "cell_type": "code",
   "execution_count": null,
   "metadata": {},
   "outputs": [],
   "source": [
    " public String longestCommonPrefix(String[] strs) {\n",
    "    if (strs.length == 0) return \"\";\n",
    "    String prefix = strs[0];\n",
    "    for (int i = 1; i < strs.length; i++)\n",
    "        while (strs[i].indexOf(prefix) != 0) {\n",
    "            prefix = prefix.substring(0, prefix.length() - 1);\n",
    "            if (prefix.isEmpty()) return \"\";\n",
    "        }        \n",
    "    return prefix;\n",
    "}"
   ]
  },
  {
   "cell_type": "code",
   "execution_count": 20,
   "metadata": {},
   "outputs": [
    {
     "name": "stdout",
     "output_type": "stream",
     "text": [
      "asa\n"
     ]
    },
    {
     "data": {
      "text/plain": [
       "True"
      ]
     },
     "execution_count": 20,
     "metadata": {},
     "output_type": "execute_result"
    }
   ],
   "source": [
    "\n",
    "s = \"asad\"\n",
    "print s[:-1]\n",
    "s.startswith(s[:-4])"
   ]
  }
 ],
 "metadata": {
  "kernelspec": {
   "display_name": "Python 2",
   "language": "python",
   "name": "python2"
  },
  "language_info": {
   "codemirror_mode": {
    "name": "ipython",
    "version": 2
   },
   "file_extension": ".py",
   "mimetype": "text/x-python",
   "name": "python",
   "nbconvert_exporter": "python",
   "pygments_lexer": "ipython2",
   "version": "2.7.15"
  }
 },
 "nbformat": 4,
 "nbformat_minor": 2
}
