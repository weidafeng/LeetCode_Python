{
 "cells": [
  {
   "cell_type": "markdown",
   "metadata": {},
   "source": [
    "## 3. Roman to Integer\n",
    "Easy\n",
    "\n",
    "https://leetcode.com/problems/roman-to-integer/submissions/\n",
    "\n",
    "Roman numerals are represented by seven different symbols: I, V, X, L, C, D and M.\n",
    "\n",
    "| Symbol | Value |   \n",
    "|-------|------|   \n",
    "| I   |  1  | \n",
    "| V   |  5  | \n",
    "| X   |  10 |  \n",
    "| L   |  50  | \n",
    "| C   |  100  | \n",
    "| D   |  500  | \n",
    "| M   |  1000 |  \n",
    "\n",
    "For example, two is written as II in Roman numeral, just two one's added together. Twelve is written as, XII, which is simply X + II. The number twenty seven is written as XXVII, which is XX + V + II.\n",
    "\n",
    "Roman numerals are usually written largest to smallest from left to right. However, the numeral for four is not IIII. Instead, the number four is written as IV. Because the one is before the five we subtract it making four. The same principle applies to the number nine, which is written as IX. There are six instances where subtraction is used:\n",
    "\n",
    "I can be placed before V (5) and X (10) to make 4 and 9. \n",
    "X can be placed before L (50) and C (100) to make 40 and 90. \n",
    "C can be placed before D (500) and M (1000) to make 400 and 900.\n",
    "Given a roman numeral, convert it to an integer. Input is guaranteed to be within the range from 1 to 3999.\n",
    "\n",
    "## Example 1:\n",
    "\n",
    "Input: \"III\"  \n",
    "Output: 3  \n",
    "## Example 2:\n",
    "\n",
    "Input: \"IV\"  \n",
    "Output: 4  \n",
    "## Example 3:\n",
    "\n",
    "Input: \"IX\"  \n",
    "Output: 9  \n",
    "## Example 4:\n",
    "\n",
    "Input: \"LVIII\"  \n",
    "Output: 58   \n",
    "Explanation: L = 50, V= 5, III = 3.  \n",
    "## Example 5:\n",
    "\n",
    "Input: \"MCMXCIV\"  \n",
    "Output: 1994  \n",
    "Explanation: M = 1000, CM = 900, XC = 90 and IV = 4.  \n",
    "\n"
   ]
  },
  {
   "cell_type": "code",
   "execution_count": null,
   "metadata": {},
   "outputs": [],
   "source": []
  },
  {
   "cell_type": "code",
   "execution_count": 1,
   "metadata": {},
   "outputs": [
    {
     "data": {
      "text/plain": [
       "1994"
      ]
     },
     "execution_count": 1,
     "metadata": {},
     "output_type": "execute_result"
    }
   ],
   "source": [
    "# 方法一 \n",
    "# 208 ms\n",
    "# 对于输入的罗马数字字符串，从前向后扫描，转化为“对应数字列表”\n",
    "# 如 ‘III’——[1,1,1];'IV'——[1,5]\n",
    "class Solution:\n",
    "    def romanToInt(self, s):\n",
    "        \"\"\"\n",
    "        :type s: str\n",
    "        :rtype: int\n",
    "        \"\"\"\n",
    "        n = len(s)\n",
    "        num = []\n",
    "        for i in range(n):\n",
    "            if s[i] == 'I':\n",
    "                num.append(1)\n",
    "            elif s[i] == 'V':\n",
    "                num.append(5)    \n",
    "            elif s[i] == 'X':\n",
    "                num.append(10)\n",
    "            elif s[i] == 'L':\n",
    "                num.append(50)        \n",
    "            elif s[i] == 'C':\n",
    "                num.append(100)        \n",
    "            elif s[i] == 'D':\n",
    "                num.append(500)       \n",
    "            else :\n",
    "                num.append(1000)\n",
    "        # print(num)\n",
    "\n",
    "        # 比较相邻数字大小\n",
    "        # 1）若前面数小于后面数，相减\n",
    "        # 2）否则，相加\n",
    "        integer = 0\n",
    "        for i in range(n-1):\n",
    "            if num[i] < num[i+1]:\n",
    "                integer -= num[i]\n",
    "            else:\n",
    "                integer += num[i]\n",
    "#             print(i,integer)\n",
    "\n",
    "        return(integer + num[n-1]) # 最后一个数无需判断，肯定相加\n",
    "\n",
    "s = Solution()\n",
    "s.romanToInt('MCMXCIV')"
   ]
  },
  {
   "cell_type": "code",
   "execution_count": null,
   "metadata": {},
   "outputs": [],
   "source": [
    "# 方法一 代码精简\n",
    "# 128 ms\n",
    "class Solution:\n",
    "    def romanToInt(self, s):\n",
    "        \"\"\"\n",
    "        :type s: str\n",
    "        :rtype: int\n",
    "        \"\"\"\n",
    "        n = len(s)\n",
    "        integer = 0\n",
    "        digits = {\"I\":1, \"V\":5, \"X\":10, \"L\":50, \"C\":100, \"D\":500, \"M\":1000}  #利用字典形式\n",
    "        for i in range(n-1):\n",
    "            if digits[s[i]] < digits[s[i+1]]:\n",
    "                integer -= digits[s[i]]\n",
    "            else:\n",
    "                integer += digits[s[i]]\n",
    "        return(integer + digits[s[n-1]])"
   ]
  },
  {
   "cell_type": "code",
   "execution_count": null,
   "metadata": {},
   "outputs": [],
   "source": [
    "# 方法一 精简代码\n",
    "# 236 ms\n",
    "# 最后一个数直接相加\n",
    "# 如果前面的小于后面的，则记符号位为-1，否则为1\n",
    "\n",
    "def romanToInt(s):\n",
    "    roman={'I':1,'V':5,'X':10,'L':50,'C':100,'D':500,'M':1000}\n",
    "    return sum( [roman[s[i]]* (-1 if roman[s[i]]<roman[s[i+1]] else 1) for i in range(len(s)-1)])+roman[s[-1]]\n",
    "romanToInt('MCMXCIV')"
   ]
  },
  {
   "cell_type": "code",
   "execution_count": null,
   "metadata": {},
   "outputs": [],
   "source": []
  },
  {
   "cell_type": "code",
   "execution_count": 3,
   "metadata": {},
   "outputs": [
    {
     "data": {
      "text/plain": [
       "1994"
      ]
     },
     "execution_count": 3,
     "metadata": {},
     "output_type": "execute_result"
    }
   ],
   "source": [
    "# 方法二 \n",
    "# 184 ms\n",
    "# 从左到右，先逐个相加\n",
    "# 如果左边的数字<右边的数字，则减去2次（因为前一步已经加过一次了）\n",
    "\n",
    "def romanToInt(s):\n",
    "    integer = 0\n",
    "    digits = {\"I\":1, \"V\":5, \"X\":10, \"L\":50, \"C\":100, \"D\":500, \"M\":1000}  #利用字典形式\n",
    "    \n",
    "    for i in range(len(s)):\n",
    "        if i > 0 and digits[s[i]] > digits[s[i-1]]:\n",
    "            integer = integer -2*digits[s[i-1]] + digits[s[i]]  \n",
    "            # 如果左边的数字<右边的数字，则减去2次（ 因为前一步已经加过一次了）\n",
    "        else:\n",
    "            integer += digits[s[i]]\n",
    "    return integer\n",
    "\n",
    "romanToInt('MCMXCIV')"
   ]
  },
  {
   "cell_type": "code",
   "execution_count": 6,
   "metadata": {},
   "outputs": [
    {
     "data": {
      "text/plain": [
       "1994"
      ]
     },
     "execution_count": 6,
     "metadata": {},
     "output_type": "execute_result"
    }
   ],
   "source": [
    "# 方法三 枚举法\n",
    "# 事先考虑好所有情况\n",
    "\n",
    "def romanToInt(s):  \n",
    "    \n",
    "    s=s.replace('IV','Q').replace('IX','W').replace('XL','E').replace('XC','R').replace('CD','T').replace('CM','Y')\n",
    "    num = 0\n",
    "    dict = {'I': 1, 'V': 5, 'X': 10, 'L': 50, 'C': 100, 'D': 500, 'M': 1000, \n",
    "            'Q': 4, 'W': 9, 'E': 40, 'R': 90, 'T': 400, 'Y': 900} # 自定义好相减的情况\n",
    "    for i in s:\n",
    "        num += dict[i]\n",
    "    return num\n",
    "\n",
    "romanToInt('MCMXCIV')"
   ]
  }
 ],
 "metadata": {
  "kernelspec": {
   "display_name": "Python 2",
   "language": "python",
   "name": "python2"
  },
  "language_info": {
   "codemirror_mode": {
    "name": "ipython",
    "version": 2
   },
   "file_extension": ".py",
   "mimetype": "text/x-python",
   "name": "python",
   "nbconvert_exporter": "python",
   "pygments_lexer": "ipython2",
   "version": "2.7.15"
  }
 },
 "nbformat": 4,
 "nbformat_minor": 2
}
