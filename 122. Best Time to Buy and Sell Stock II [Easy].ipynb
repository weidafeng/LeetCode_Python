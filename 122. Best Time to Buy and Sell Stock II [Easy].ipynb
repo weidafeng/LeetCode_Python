{
 "cells": [
  {
   "cell_type": "markdown",
   "metadata": {},
   "source": [
    "# 122. Best Time to Buy and Sell Stock II [Easy]\n",
    "\n",
    "https://leetcode.com/problems/best-time-to-buy-and-sell-stock-ii/"
   ]
  },
  {
   "cell_type": "code",
   "execution_count": null,
   "metadata": {},
   "outputs": [],
   "source": []
  },
  {
   "cell_type": "code",
   "execution_count": 9,
   "metadata": {},
   "outputs": [
    {
     "name": "stdout",
     "output_type": "stream",
     "text": [
      "[2]\n",
      "[2, 1]\n",
      "[2, 1, 1]\n",
      "[2, 1, 1, 2]\n",
      "[2, 1, 1, 2, 4]\n"
     ]
    },
    {
     "data": {
      "text/plain": [
       "10"
      ]
     },
     "execution_count": 9,
     "metadata": {},
     "output_type": "execute_result"
    }
   ],
   "source": [
    "# Solution 1： buy in low price and sell in high price **every day**\n",
    "# Success\n",
    "# Details \n",
    "# Runtime: 44 ms, faster than 49.87% of Python online submissions for Best Time to Buy and Sell Stock II.\n",
    "# Memory Usage: 12.5 MB, less than 5.23% of Python online submissions for Best Time to Buy and Sell Stock II.\n",
    "\n",
    "class Solution(object):\n",
    "    def maxProfit(self, prices):\n",
    "        \"\"\"\n",
    "        :type prices: List[int]\n",
    "        :rtype: int\n",
    "        \"\"\"\n",
    "        n = len(prices)-1\n",
    "        i = 0  # index from the first day\n",
    "        profit = [] # store all profits every transactions \n",
    "        while i < n:  \n",
    "            if prices[i] >= prices[i+1]:  # don't transact, day + 1\n",
    "                i += 1\n",
    "            else:\n",
    "                profit.append(prices[i+1] - prices[i])  # buy and sell tommorrow, store the profit\n",
    "                i += 1\n",
    "            print(profit)\n",
    "        return sum(profit)\n",
    "        \n",
    "    \n",
    "prices = [1,3,4,5,7,11]\n",
    "x = Solution()\n",
    "x.maxProfit(prices)"
   ]
  },
  {
   "cell_type": "code",
   "execution_count": 13,
   "metadata": {},
   "outputs": [
    {
     "data": {
      "text/plain": [
       "10"
      ]
     },
     "execution_count": 13,
     "metadata": {},
     "output_type": "execute_result"
    }
   ],
   "source": [
    "# Rewriting of the first method： from while-loop to for-loop\n",
    "\n",
    "class Solution(object):\n",
    "    def maxProfit(self, prices):\n",
    "        \"\"\"\n",
    "        :type prices: List[int]\n",
    "        :rtype: int\n",
    "        \"\"\"\n",
    "        profit = [] # store all profits every transactions \n",
    "        for i in range(len(prices)-1):\n",
    "            if prices[i] < prices[i+1]:\n",
    "                profit.append(prices[i+1] - prices[i])   \n",
    "                \n",
    "        return sum(profit)\n",
    "    \n",
    "prices = [1,3,4,5,7,11]\n",
    "x = Solution()\n",
    "x.maxProfit(prices)\n"
   ]
  },
  {
   "cell_type": "code",
   "execution_count": 26,
   "metadata": {},
   "outputs": [
    {
     "data": {
      "text/plain": [
       "[2, 6, 0, 2, 4]"
      ]
     },
     "execution_count": 26,
     "metadata": {},
     "output_type": "execute_result"
    }
   ],
   "source": [
    "#  Rewriting of the first method： Clear 1-line Recursive Solution\n",
    "# Basically, if tomorrow's price is higher than today's, we buy it today and sell tomorrow. Otherwise, we don't. Here is the code:\n",
    "# from: https://leetcode.com/problems/best-time-to-buy-and-sell-stock-ii/discuss/39406/Clear-1-line-Python-Solution\n",
    "class Solution(object):\n",
    "    def maxProfit(self, prices):\n",
    "        \"\"\"\n",
    "        :type prices: List[int]\n",
    "        :rtype: int\n",
    "        \"\"\"\n",
    "        return sum([max(0,prices[i+1] - prices[i]) for i in range(len(prices)-1)])\n",
    "\n",
    "prices = [1,3,9,5,7,11]\n",
    "x = Solution()\n",
    "x.maxProfit(prices)"
   ]
  },
  {
   "cell_type": "code",
   "execution_count": 12,
   "metadata": {
    "scrolled": true
   },
   "outputs": [
    {
     "name": "stdout",
     "output_type": "stream",
     "text": [
      "0 2 [8]\n",
      "3 5 [8, 6]\n"
     ]
    },
    {
     "data": {
      "text/plain": [
       "14"
      ]
     },
     "execution_count": 12,
     "metadata": {},
     "output_type": "execute_result"
    }
   ],
   "source": [
    "# Solution 2：  buy in low price and sell in the **highest** price nearby\n",
    "# Success\n",
    "# Details \n",
    "# Runtime: 48 ms, faster than 48.72% of Python online submissions for Best Time to Buy and Sell Stock II.\n",
    "# Memory Usage: 12.4 MB, less than 5.23% of Python online submissions for Best Time to Buy and Sell Stock II.\n",
    "class Solution(object):\n",
    "    def maxProfit(self, prices):\n",
    "        \"\"\"\n",
    "        :type prices: List[int]\n",
    "        :rtype: int\n",
    "        \"\"\"\n",
    "        n = len(prices)-1\n",
    "        i = 0 # the lowest price day —— buy\n",
    "        j = 0 # the highest price day nearby —— sell\n",
    "        profits = [] # store the profits every transaction\n",
    "        \n",
    "        while i < n:  # \n",
    "            if prices[i] >= prices[i+1]:  # don't transact, day + 1\n",
    "                i += 1\n",
    "                j += 1\n",
    "            else:  # to get the highest price day\n",
    "                while j < n and prices[j+1] > prices[j]:\n",
    "                    j += 1\n",
    "                profits.append(prices[j] -  prices[i])\n",
    "#                 print(i,j,profits)\n",
    "                i = j\n",
    "        return sum(profits)\n",
    "                \n",
    "prices = [1,3,9,5,7,11]\n",
    "x = Solution()\n",
    "x.maxProfit(prices)"
   ]
  },
  {
   "cell_type": "code",
   "execution_count": null,
   "metadata": {},
   "outputs": [],
   "source": []
  },
  {
   "cell_type": "code",
   "execution_count": null,
   "metadata": {},
   "outputs": [],
   "source": []
  },
  {
   "cell_type": "code",
   "execution_count": null,
   "metadata": {},
   "outputs": [],
   "source": []
  }
 ],
 "metadata": {
  "kernelspec": {
   "display_name": "Python 3",
   "language": "python",
   "name": "python3"
  },
  "language_info": {
   "codemirror_mode": {
    "name": "ipython",
    "version": 3
   },
   "file_extension": ".py",
   "mimetype": "text/x-python",
   "name": "python",
   "nbconvert_exporter": "python",
   "pygments_lexer": "ipython3",
   "version": "3.6.5"
  }
 },
 "nbformat": 4,
 "nbformat_minor": 2
}
