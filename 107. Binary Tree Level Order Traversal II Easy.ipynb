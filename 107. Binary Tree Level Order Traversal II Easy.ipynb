{
 "cells": [
  {
   "cell_type": "markdown",
   "metadata": {},
   "source": [
    "# 107. Binary Tree Level Order Traversal II Easy\n",
    "\n",
    "https://leetcode.com/problems/binary-tree-level-order-traversal-ii/"
   ]
  },
  {
   "cell_type": "code",
   "execution_count": null,
   "metadata": {},
   "outputs": [],
   "source": []
  },
  {
   "cell_type": "code",
   "execution_count": 5,
   "metadata": {},
   "outputs": [
    {
     "name": "stdout",
     "output_type": "stream",
     "text": [
      "Python 3.6.8 :: Anaconda, Inc.\r\n"
     ]
    }
   ],
   "source": [
    "!python --version"
   ]
  },
  {
   "cell_type": "code",
   "execution_count": 72,
   "metadata": {},
   "outputs": [],
   "source": [
    "# 方法一 利用堆栈，从第一层开始，存储该层节点，存储该层节点的值\n",
    "# 然后清空该层节点，存储下一层\n",
    "# Success\n",
    "# Details\n",
    "# Runtime: 28 ms, faster than 60.05% of Python online submissions for Binary Tree Level Order Traversal II.\n",
    "# Memory Usage: 12.2 MB, less than 5.52% of Python online submissions for Binary Tree Level Order Traversal II.\n",
    "\n",
    "\n",
    "# Definition for a binary tree node.\n",
    "class TreeNode:\n",
    "    def __init__(self, x):\n",
    "        self.val = x\n",
    "        self.left = None\n",
    "        self.right = None\n",
    "\n",
    "\n",
    "class Solution(object):\n",
    "    def levelOrderBottom(self, root):\n",
    "        \"\"\"\n",
    "        :type root: TreeNode\n",
    "        :rtype: List[List[int]]\n",
    "        \"\"\"\n",
    "        res = [] \n",
    "        if root:\n",
    "            level = [root]  # 存储该层所有节点\n",
    "            while len(level):\n",
    "                res = [[node.val for node in level]] + res  # 存储该层所有节点的值\n",
    "                tmp = []\n",
    "                for node in level:\n",
    "                    if node.left:\n",
    "                        tmp.append(node.left)\n",
    "                    if node.right:\n",
    "                        tmp.append(node.right)\n",
    "                level = tmp\n",
    "        return res"
   ]
  },
  {
   "cell_type": "code",
   "execution_count": null,
   "metadata": {},
   "outputs": [],
   "source": [
    "# 方法二  与方法一思想一致，利用insert方法，直接倒叙输出（来自leetcode讨论区）\n",
    "    def levelOrderBottom(self, root):\n",
    "        if root is None:\n",
    "            return []\n",
    "        levels = [[root]]  # 记录该层节点\n",
    "        results = []\n",
    "        \n",
    "        while levels:\n",
    "            level = levels.pop()\n",
    "            \n",
    "            result_row = [node.val for node in level]  # 存储该层节点的值\n",
    "            results.insert(0, result_row)  # 在第一位插入该层节点的值———后续不用倒序输出\n",
    "            \n",
    "            next_level = []  # 判断是否还有下层\n",
    "            for node in level:\n",
    "                if node.left:\n",
    "                    next_level.append(node.left)\n",
    "                if node.right:\n",
    "                    next_level.append(node.right)\n",
    "\n",
    "            if len(next_level) > 0:  # 如果还有下层，记录下来、继续循环存储\n",
    "                levels.append(next_level)\n",
    "\n",
    "        return results\n"
   ]
  },
  {
   "cell_type": "code",
   "execution_count": null,
   "metadata": {},
   "outputs": [],
   "source": [
    "# 方法一 代码精简\n",
    "def levelOrderBottom(self, root):\n",
    "    if not root:\n",
    "        return []\n",
    "    level = [root]\n",
    "    stack = []\n",
    "    while level:\n",
    "        stack.append([node.val for node in level])\n",
    "        level = [node for each in level for node in (each.left, each.right) if node]\n",
    "        # 翻译\n",
    "        # for each in level:\n",
    "        #   for node in (each.left,each.right):\n",
    "        #       if node:\n",
    "        #           level.append(node)\n",
    "    return stack[::-1]"
   ]
  },
  {
   "cell_type": "code",
   "execution_count": 73,
   "metadata": {},
   "outputs": [],
   "source": [
    "\n",
    "root1, root1.left, root1.right,root1.left.left,root1.left.right,root1.right.left,root1.right.right = TreeNode(3), TreeNode(2), TreeNode(20), TreeNode(None), TreeNode(None), TreeNode(15), TreeNode(7)\n",
    "# root2, root2.left, root2.right = TreeNode(1), TreeNode(2), TreeNode(3)"
   ]
  },
  {
   "cell_type": "code",
   "execution_count": 74,
   "metadata": {},
   "outputs": [
    {
     "data": {
      "text/plain": [
       "[[None, None, 15, 7], [2, 20], [3]]"
      ]
     },
     "execution_count": 74,
     "metadata": {},
     "output_type": "execute_result"
    }
   ],
   "source": [
    "x = Solution()\n",
    "x.levelOrderBottom(root1)"
   ]
  },
  {
   "cell_type": "code",
   "execution_count": 16,
   "metadata": {},
   "outputs": [
    {
     "name": "stdout",
     "output_type": "stream",
     "text": [
      "1\n",
      "2\n",
      "None\n",
      "None\n",
      "3\n",
      "1\n",
      "2\n"
     ]
    }
   ],
   "source": [
    "def preOrder(root):# 前序遍历\n",
    "    if root == None:\n",
    "        return\n",
    "    print (root.val)\n",
    "    preOrder(root.left)\n",
    "    preOrder(root.right)\n",
    "    \n",
    "    \n",
    "preOrder(root1)\n",
    "\n",
    "\n",
    "# 层序遍历\n",
    "def levelOrder( root):\n",
    "    if root == None:\n",
    "        return\n",
    "    myQueue = []\n",
    "    node = root\n",
    "    myQueue.append(node)\n",
    "    while myQueue:\n",
    "        node = myQueue.pop(0)\n",
    "        print (node.val)\n",
    "        if node.left != None:\n",
    "            myQueue.append(node.left)\n",
    "        if node.right != None:\n",
    "            myQueue.append(node.right)"
   ]
  },
  {
   "cell_type": "code",
   "execution_count": null,
   "metadata": {},
   "outputs": [],
   "source": []
  },
  {
   "cell_type": "code",
   "execution_count": null,
   "metadata": {},
   "outputs": [],
   "source": []
  },
  {
   "cell_type": "code",
   "execution_count": null,
   "metadata": {},
   "outputs": [],
   "source": []
  },
  {
   "cell_type": "code",
   "execution_count": null,
   "metadata": {},
   "outputs": [],
   "source": []
  },
  {
   "cell_type": "code",
   "execution_count": null,
   "metadata": {},
   "outputs": [],
   "source": [
    "# 比较方法一中的细节"
   ]
  },
  {
   "cell_type": "code",
   "execution_count": 66,
   "metadata": {},
   "outputs": [
    {
     "data": {
      "text/plain": [
       "[[1]]"
      ]
     },
     "execution_count": 66,
     "metadata": {},
     "output_type": "execute_result"
    }
   ],
   "source": [
    "[[1]]"
   ]
  },
  {
   "cell_type": "code",
   "execution_count": 70,
   "metadata": {},
   "outputs": [
    {
     "data": {
      "text/plain": [
       "[[1]]"
      ]
     },
     "execution_count": 70,
     "metadata": {},
     "output_type": "execute_result"
    }
   ],
   "source": [
    "[[1]]+[]"
   ]
  },
  {
   "cell_type": "code",
   "execution_count": 71,
   "metadata": {},
   "outputs": [
    {
     "data": {
      "text/plain": [
       "[[1], []]"
      ]
     },
     "execution_count": 71,
     "metadata": {},
     "output_type": "execute_result"
    }
   ],
   "source": [
    "[[1]]+ [[]]"
   ]
  },
  {
   "cell_type": "code",
   "execution_count": null,
   "metadata": {},
   "outputs": [],
   "source": []
  },
  {
   "cell_type": "code",
   "execution_count": null,
   "metadata": {},
   "outputs": [],
   "source": []
  }
 ],
 "metadata": {
  "kernelspec": {
   "display_name": "Python 3",
   "language": "python",
   "name": "python3"
  },
  "language_info": {
   "codemirror_mode": {
    "name": "ipython",
    "version": 3
   },
   "file_extension": ".py",
   "mimetype": "text/x-python",
   "name": "python",
   "nbconvert_exporter": "python",
   "pygments_lexer": "ipython3",
   "version": "3.6.8"
  }
 },
 "nbformat": 4,
 "nbformat_minor": 2
}
