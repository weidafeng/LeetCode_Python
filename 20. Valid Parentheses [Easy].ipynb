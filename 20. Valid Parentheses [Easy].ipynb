{
 "cells": [
  {
   "cell_type": "markdown",
   "metadata": {},
   "source": [
    "# 20. Valid Parentheses  \n",
    "Easy\n",
    "\n",
    "https://leetcode.com/problems/valid-parentheses/\n",
    "\n",
    "Given a string containing just the characters '(', ')', '{', '}', '[' and ']', determine if the input string is valid.  \n",
    "\n",
    "An input string is valid if:  \n",
    "\n",
    "- Open brackets must be closed by the same type of brackets.  \n",
    "- Open brackets must be closed in the correct order.  \n",
    "- Note that an empty string is also considered valid.  \n",
    "\n",
    "## Example 1:\n",
    "\n",
    "Input: \"()\"\n",
    "Output: true\n",
    "## Example 2:\n",
    "\n",
    "Input: \"()[]{}\"\n",
    "Output: true\n",
    "## Example 3:\n",
    "\n",
    "Input: \"(]\"\n",
    "Output: false\n",
    "## Example 4:\n",
    "\n",
    "Input: \"([)]\"\n",
    "Output: false\n",
    "## Example 5:\n",
    "\n",
    "Input: \"{[]}\"\n",
    "Output: true"
   ]
  },
  {
   "cell_type": "code",
   "execution_count": null,
   "metadata": {},
   "outputs": [],
   "source": []
  },
  {
   "cell_type": "code",
   "execution_count": 1,
   "metadata": {},
   "outputs": [
    {
     "data": {
      "text/plain": [
       "True"
      ]
     },
     "execution_count": 1,
     "metadata": {},
     "output_type": "execute_result"
    }
   ],
   "source": [
    "# 方法一 逐个删去成对的括号，如果还有元素剩下，说明不匹配\n",
    "# 60 ms\n",
    "\n",
    "class Solution(object):\n",
    "    def isValid(self, s):\n",
    "        \"\"\"\n",
    "        :type s: str\n",
    "        :rtype: bool\n",
    "        \"\"\"\n",
    "        n = len(s)\n",
    "        if n == 0:\n",
    "            return True\n",
    "        \n",
    "        if n % 2 != 0:\n",
    "            return False\n",
    "            \n",
    "        while '()' in s or '{}' in s or '[]' in s:\n",
    "            s = s.replace('{}','').replace('()','').replace('[]','')\n",
    "#             s = s.replace('{}','')\n",
    "#             print(s)\n",
    "#             s = s.replace('[]','')\n",
    "#             print(s)\n",
    "#             s = s.replace('()','')\n",
    "#             print(s)\n",
    "        \n",
    "        if s == '':\n",
    "            return True\n",
    "        else:\n",
    "            return False \n",
    "s = Solution()\n",
    "s.isValid(\"()[]{}({[]})\")"
   ]
  },
  {
   "cell_type": "code",
   "execution_count": null,
   "metadata": {},
   "outputs": [],
   "source": [
    "# 方法一 精简代码\n",
    "def isValid(self, s):\n",
    "    while '[]' in s or '()' in s or '{}' in s:\n",
    "        s = s.replace('[]','').replace('()','').replace('{}','')\n",
    "    return not len(s)"
   ]
  },
  {
   "cell_type": "code",
   "execution_count": null,
   "metadata": {},
   "outputs": [],
   "source": []
  },
  {
   "cell_type": "code",
   "execution_count": 2,
   "metadata": {},
   "outputs": [
    {
     "name": "stdout",
     "output_type": "stream",
     "text": [
      "True\n",
      "dog\n",
      "3\n",
      "False\n",
      "[4, 'dog', True, 8.4]\n",
      "8.4\n",
      "True\n",
      "2\n",
      "[4, 'dog']\n"
     ]
    }
   ],
   "source": [
    "# 补充知识：栈的实现\n",
    "\n",
    "# Python里面实现栈，就是把list包装成一个类，再添加一些方法作为栈的基本操作。\n",
    "class Stack:\n",
    "    \"\"\"模拟栈\"\"\"\n",
    "    def __init__(self):\n",
    "        self.items = []\n",
    " \n",
    "    def isEmpty(self):\n",
    "        return self.items==[]\n",
    " \n",
    "    def push(self, item):\n",
    "        self.items.append(item)\n",
    " \n",
    "    def pop(self):\n",
    "        return self.items.pop() \n",
    " \n",
    "    def peek(self):\n",
    "        if not self.isEmpty():\n",
    "            return self.items[len(self.items)-1]\n",
    " \n",
    "    def size(self):\n",
    "        return len(self.items)\n",
    "    \n",
    "s=Stack()\n",
    "print(s.isEmpty())\n",
    "s.push(4)\n",
    "s.push('dog')\n",
    "print(s.peek())\n",
    "s.push(True)\n",
    "print(s.size())\n",
    "print(s.isEmpty())\n",
    "s.push(8.4)\n",
    "print(s.items)\n",
    "print(s.pop())\n",
    "print(s.pop())\n",
    "print(s.size())\n",
    "print(s.items)"
   ]
  },
  {
   "cell_type": "code",
   "execution_count": null,
   "metadata": {},
   "outputs": [],
   "source": []
  },
  {
   "cell_type": "code",
   "execution_count": null,
   "metadata": {},
   "outputs": [],
   "source": [
    "# 方法二 官方题解 用栈\n",
    "class Solution(object):\n",
    "    def isValid(self, s):\n",
    "        \"\"\"\n",
    "        :type s: str\n",
    "        :rtype: bool\n",
    "        \"\"\"\n",
    "\n",
    "        # The stack to keep track of opening brackets.\n",
    "        stack = []\n",
    "\n",
    "        # Hash map for keeping track of mappings. This keeps the code very clean.\n",
    "        # Also makes adding more types of parenthesis easier\n",
    "        mapping = {\")\": \"(\", \"}\": \"{\", \"]\": \"[\"}\n",
    "\n",
    "        # For every bracket in the expression.\n",
    "        for char in s:\n",
    "\n",
    "            # If the character is an closing bracket\n",
    "            if char in mapping:  # 也就是 if char in mapping.keys()\n",
    "\n",
    "                # Pop the topmost element from the stack, if it is non empty\n",
    "                # Otherwise assign a dummy value of '#' to the top_element variable\n",
    "                top_element = stack.pop() if stack else '#'\n",
    "\n",
    "                # The mapping for the opening bracket in our hash and the top\n",
    "                # element of the stack don't match, return False\n",
    "                if mapping[char] != top_element:\n",
    "                    return False\n",
    "            else:\n",
    "                # We have an opening bracket, simply push it onto the stack.\n",
    "                stack.append(char)\n",
    "\n",
    "        # In the end, if the stack is empty, then we have a valid expression.\n",
    "        # The stack won't be empty for cases like ((()\n",
    "        return not stack"
   ]
  },
  {
   "cell_type": "code",
   "execution_count": null,
   "metadata": {},
   "outputs": [],
   "source": [
    "# 方法二 修改自官方题解，把开括号入栈保存\n",
    "# 48 ms\n",
    "# python中没有C++的stack，但其操作均可用列表来实现，主要是利用了列表的pop()操作\n",
    "def isValid(s):\n",
    "    stack, paren_map = [], {')': '(', ']': '[', '}': '{'}\n",
    "    for c in s:\n",
    "        if c not in paren_map:  # 如果是开括号，则入栈\n",
    "            stack.append(c) \n",
    "        elif not stack or paren_map[c] != stack.pop(): # 如果是闭括号，且栈顶不是与之匹配的开括号，则错误  \n",
    "            return False\n",
    "    return not stack"
   ]
  },
  {
   "cell_type": "code",
   "execution_count": null,
   "metadata": {},
   "outputs": [],
   "source": [
    "# 方法三  把闭括号入栈保存\n",
    "# 40 ms\n",
    "\n",
    "class Solution(object):\n",
    "    def isValid(self, s):\n",
    "        \"\"\"\n",
    "        :type s: str\n",
    "        :rtype: bool\n",
    "        \"\"\"\n",
    "        stack = [None]\n",
    "        parmap = {')': '(', '}': '{', ']': '['}\n",
    "        for c in s:\n",
    "            #只把闭括号入栈\n",
    "            if c in parmap and parmap[c] == stack[-1]: #栈的性质：后进先出\n",
    "                stack.pop()\n",
    "            else: \n",
    "                stack.append(c)\n",
    "        return len(stack) == 1\n",
    "    \n",
    "s = Solution()\n",
    "s.isValid(\"()[]{}\")"
   ]
  },
  {
   "cell_type": "code",
   "execution_count": null,
   "metadata": {},
   "outputs": [],
   "source": []
  }
 ],
 "metadata": {
  "kernelspec": {
   "display_name": "Python 2",
   "language": "python",
   "name": "python2"
  },
  "language_info": {
   "codemirror_mode": {
    "name": "ipython",
    "version": 2
   },
   "file_extension": ".py",
   "mimetype": "text/x-python",
   "name": "python",
   "nbconvert_exporter": "python",
   "pygments_lexer": "ipython2",
   "version": "2.7.15"
  }
 },
 "nbformat": 4,
 "nbformat_minor": 2
}
