{
 "cells": [
  {
   "cell_type": "markdown",
   "metadata": {},
   "source": [
    "# 110. Balanced Binary Tree Easy\n",
    "\n",
    "https://leetcode.com/problems/balanced-binary-tree/"
   ]
  },
  {
   "cell_type": "code",
   "execution_count": null,
   "metadata": {},
   "outputs": [],
   "source": []
  },
  {
   "cell_type": "code",
   "execution_count": null,
   "metadata": {},
   "outputs": [],
   "source": []
  },
  {
   "cell_type": "code",
   "execution_count": null,
   "metadata": {},
   "outputs": [],
   "source": [
    "# Definition for a binary tree node.\n",
    "# class TreeNode(object):\n",
    "#     def __init__(self, x):\n",
    "#         self.val = x\n",
    "#         self.left = None\n",
    "#         self.right = None\n",
    "\n",
    "class Solution(object):\n",
    "    def isBalanced(self, root):\n",
    "        \"\"\"\n",
    "        :type root: TreeNode\n",
    "        :rtype: bool\n",
    "        \"\"\"\n",
    "\n",
    "        def get_height(root):\n",
    "            if not root:\n",
    "                return 0\n",
    "            left = get_height(root.left)\n",
    "            right = get_height(root.right)        \n",
    "            # if abs(left-right) > 1:\n",
    "            #     return False\n",
    "            return max(left,right) +1 \n",
    "        \n",
    "        if not root:\n",
    "            return True\n",
    "        # if root.left:  # 左子树的深度\n",
    "        #     left = get_height(root.left)\n",
    "        # else:\n",
    "        #     left = 0\n",
    "        \n",
    "        # if root.right:  # 右子树的深度\n",
    "        #     right = get_height(root.right)\n",
    "        # else:\n",
    "        #     right = 0\n",
    "        left = get_height(root.left)  # 左子树的深度\n",
    "        right = get_height(root.right) # 右子树的深度\n",
    "           \n",
    "        print(left,right)\n",
    "        if abs(left-right) > 1:\n",
    "            return False\n",
    "        return self.isBalanced(root.left) and self.isBalanced(root.right)"
   ]
  },
  {
   "cell_type": "code",
   "execution_count": null,
   "metadata": {},
   "outputs": [],
   "source": []
  },
  {
   "cell_type": "code",
   "execution_count": null,
   "metadata": {},
   "outputs": [],
   "source": []
  },
  {
   "cell_type": "code",
   "execution_count": null,
   "metadata": {},
   "outputs": [],
   "source": []
  },
  {
   "cell_type": "code",
   "execution_count": null,
   "metadata": {},
   "outputs": [],
   "source": []
  },
  {
   "cell_type": "code",
   "execution_count": null,
   "metadata": {},
   "outputs": [],
   "source": []
  },
  {
   "cell_type": "code",
   "execution_count": null,
   "metadata": {},
   "outputs": [],
   "source": [
    "\n",
    "\n",
    "# Definition for a binary tree node.\n",
    "# class TreeNode(object):\n",
    "#     def __init__(self, x):\n",
    "#         self.val = x\n",
    "#         self.left = None\n",
    "#         self.right = None\n",
    "\n",
    "class Solution(object):\n",
    "    def isBalanced(self, root):\n",
    "        \"\"\"\n",
    "        :type root: TreeNode\n",
    "        :rtype: bool\n",
    "        \"\"\"\n",
    "\n",
    "        def check(root):\n",
    "            if root is None:\n",
    "                return 0\n",
    "            left  = check(root.left)\n",
    "            right = check(root.right)\n",
    "            if left == -1 or right == -1 or abs(left - right) > 1:\n",
    "                return -1\n",
    "            return 1 + max(left, right)\n",
    "            \n",
    "        return check(root) != -1"
   ]
  }
 ],
 "metadata": {
  "kernelspec": {
   "display_name": "Python 3",
   "language": "python",
   "name": "python3"
  },
  "language_info": {
   "codemirror_mode": {
    "name": "ipython",
    "version": 3
   },
   "file_extension": ".py",
   "mimetype": "text/x-python",
   "name": "python",
   "nbconvert_exporter": "python",
   "pygments_lexer": "ipython3",
   "version": "3.6.5"
  }
 },
 "nbformat": 4,
 "nbformat_minor": 2
}
