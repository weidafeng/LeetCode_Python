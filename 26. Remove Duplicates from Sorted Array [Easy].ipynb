{
 "cells": [
  {
   "cell_type": "markdown",
   "metadata": {},
   "source": [
    "# 26. Remove Duplicates from Sorted Array  \n",
    "Easy\n",
    "\n",
    "https://leetcode.com/problems/remove-duplicates-from-sorted-array/  \n",
    "\n",
    "\n",
    "Given a sorted array nums, remove the duplicates in-place such that each element appear only once and return the new length.\n",
    "\n",
    "Do not allocate extra space for another array, you must do this by modifying the input array in-place with O(1) extra memory.\n",
    "\n",
    "## Example 1:\n",
    "\n",
    "Given nums = [1,1,2],\n",
    "\n",
    "Your function should return length = 2, with the first two elements of nums being 1 and 2 respectively.\n",
    "\n",
    "It doesn't matter what you leave beyond the returned length.  \n",
    "## Example 2:\n",
    "\n",
    "Given nums = [0,0,1,1,1,2,2,3,3,4],\n",
    "\n",
    "Your function should return length = 5, with the first five elements of nums being modified to 0, 1, 2, 3, and 4 respectively.\n",
    "\n",
    "It doesn't matter what values are set beyond the returned length.\n",
    "Clarification:\n",
    "\n",
    "Confused why the returned value is an integer but your answer is an array?\n",
    "\n",
    "Note that the input array is passed in by reference, which means modification to the input array will be known to the caller as well.\n",
    "\n",
    "> Internally you can think of this:\n",
    "\n",
    "> // nums is passed in by reference. (i.e., without making a copy)\n",
    "> int len = removeDuplicates(nums);\n",
    "> \n",
    "> // any modification to nums in your function would be known by the caller.\n",
    "> // using the length returned by your function, it prints the first len elements.\n",
    "> for (int i = 0; i < len; i++) {\n",
    ">     print(nums[i]);\n",
    "> }"
   ]
  },
  {
   "cell_type": "code",
   "execution_count": 1,
   "metadata": {},
   "outputs": [
    {
     "name": "stdout",
     "output_type": "stream",
     "text": [
      "3\n",
      "[0, 1, 2]\n"
     ]
    }
   ],
   "source": [
    "# 如果不要求in-place,利用集合set（），一行实现\n",
    "nums = [0,0,1,2]\n",
    "print(len((set(nums))))\n",
    "\n",
    "print(list(set(nums)))"
   ]
  },
  {
   "cell_type": "code",
   "execution_count": 2,
   "metadata": {},
   "outputs": [
    {
     "data": {
      "text/plain": [
       "[0, 1, 2, 3, 4, 2, 2, 3, 3, 4]"
      ]
     },
     "execution_count": 2,
     "metadata": {},
     "output_type": "execute_result"
    }
   ],
   "source": [
    "# 方法一 依次比较相邻两个数字是否相同，若不同，则计数指针+1、交换原数组次序（把不相同的依次移到前面）\n",
    "# 72 ms\n",
    "def removeDuplicates( nums):\n",
    "    \"\"\"\n",
    "    :type nums: List[int]\n",
    "    :rtype: int\n",
    "    \"\"\"\n",
    "    n = len(nums)\n",
    "    j = 1  #计数、定位指针\n",
    "    if  n ==1 or n ==0: #特殊情况\n",
    "        return n\n",
    "    for i in range(n-1):\n",
    "        if nums[i+1] != nums[i]:\n",
    "            nums[j] = nums[i+1]\n",
    "            j += 1        \n",
    "    return nums\n",
    "\n",
    "nums =  [0,0,1,1,1,2,2,3,3,4]\n",
    "removeDuplicates(nums)"
   ]
  },
  {
   "cell_type": "code",
   "execution_count": 3,
   "metadata": {},
   "outputs": [
    {
     "name": "stdout",
     "output_type": "stream",
     "text": [
      "0 0 [0, 0, 1, 1, 2, 3]\n",
      "1 1 [0, 0, 1, 1, 2, 3]\n",
      "2 1 [0, 1, 1, 1, 2, 3]\n",
      "3 2 [0, 1, 1, 1, 2, 3]\n",
      "4 2 [0, 1, 2, 1, 2, 3]\n",
      "5 2 [0, 1, 2, 3, 2, 3]\n"
     ]
    },
    {
     "data": {
      "text/plain": [
       "'\\n0 0 [0, 0, 1, 1, 2, 3]——比较第一个和最后一个元素\\n1 1 [0, 0, 1, 1, 2, 3]——比较第一个和第二个元素——相等——第一个位置用第二个元素赋值\\n2 1 [0, 1, 1, 1, 2, 3]——比较第二个和第三个元素——不相等——第二个位置用第三个元素赋值\\n3 2 [0, 1, 1, 1, 2, 3]——比较第三个和第四个元素——不相等——第三个位置用第四个元素赋值\\n4 2 [0, 1, 2, 1, 2, 3]\\n5 2 [0, 1, 2, 3, 2, 3]\\n'"
      ]
     },
     "execution_count": 3,
     "metadata": {},
     "output_type": "execute_result"
    }
   ],
   "source": [
    "# 方法二  总长度-相同元素个数\n",
    "# 96 ms\n",
    "def removeDuplicates( nums):\n",
    "    \"\"\"\n",
    "    :type nums: List[int]\n",
    "    :rtype: int\n",
    "    \"\"\"\n",
    "    n = len(nums)\n",
    "    if  n < 2: # 特殊情况\n",
    "        return n\n",
    "    j = 0 \n",
    "    for i in range(len(nums)):\n",
    "        if (nums[i-1] == nums[i]): \n",
    "            j += 1  #j表示相同元素的个数\n",
    "        nums[i-j] = nums[i]\n",
    "        print(i,j,nums)\n",
    "    if not(n-j):return 1 #特殊情况 [1,1,1]\n",
    "    return len(nums)-j #总长度-相同元素个数\n",
    "\n",
    "nums =  [0,0,1,1,2,3]\n",
    "removeDuplicates(nums)\n",
    "'''\n",
    "0 0 [0, 0, 1, 1, 2, 3]——比较第一个和最后一个元素\n",
    "1 1 [0, 0, 1, 1, 2, 3]——比较第一个和第二个元素——相等——第一个位置用第二个元素赋值\n",
    "2 1 [0, 1, 1, 1, 2, 3]——比较第二个和第三个元素——不相等——第二个位置用第三个元素赋值\n",
    "3 2 [0, 1, 1, 1, 2, 3]——比较第三个和第四个元素——不相等——第三个位置用第四个元素赋值\n",
    "4 2 [0, 1, 2, 1, 2, 3]\n",
    "5 2 [0, 1, 2, 3, 2, 3]\n",
    "'''"
   ]
  },
  {
   "cell_type": "code",
   "execution_count": 4,
   "metadata": {},
   "outputs": [
    {
     "data": {
      "text/plain": [
       "4"
      ]
     },
     "execution_count": 4,
     "metadata": {},
     "output_type": "execute_result"
    }
   ],
   "source": [
    "# 方法三 利用内置库\n",
    "# 100 ms\n",
    "from collections import OrderedDict\n",
    "def removeDuplicates(nums):\n",
    "    nums[:] = OrderedDict.fromkeys(nums).keys() # 以nums为key（value未指定，默认为None），生成一个字典，然后再获取该字典的key（因为字典的key是唯一的，所以新字典不包含重复项）\n",
    "#     print(nums) #生成的字典：OrderedDict([(0, None), (1, None), (2, None), (3, None)])\n",
    "    return len(nums)\n",
    "nums =  [0,0,1,1,2,3]\n",
    "removeDuplicates(nums)"
   ]
  },
  {
   "cell_type": "code",
   "execution_count": null,
   "metadata": {},
   "outputs": [],
   "source": []
  }
 ],
 "metadata": {
  "kernelspec": {
   "display_name": "Python 3",
   "language": "python",
   "name": "python3"
  },
  "language_info": {
   "codemirror_mode": {
    "name": "ipython",
    "version": 3
   },
   "file_extension": ".py",
   "mimetype": "text/x-python",
   "name": "python",
   "nbconvert_exporter": "python",
   "pygments_lexer": "ipython3",
   "version": "3.6.5"
  }
 },
 "nbformat": 4,
 "nbformat_minor": 2
}
