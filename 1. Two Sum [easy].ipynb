{
 "cells": [
  {
   "cell_type": "markdown",
   "metadata": {},
   "source": [
    "# 1. Two Sum\n",
    "https://leetcode.com/problems/two-sum/\n",
    "    \n",
    "Easy\n",
    "\n",
    "Given an array of integers, return indices of the two numbers such that they add up to a specific target.\n",
    "\n",
    "You may assume that each input would have exactly one solution, and you may not use the same element twice.\n",
    "\n",
    "Example:\n",
    "\n",
    "Given nums = [2, 7, 11, 15], target = 9,\n",
    "\n",
    "Because nums[0] + nums[1] = 2 + 7 = 9,\n",
    "return [0, 1].\n"
   ]
  },
  {
   "cell_type": "code",
   "execution_count": null,
   "metadata": {},
   "outputs": [],
   "source": []
  },
  {
   "cell_type": "code",
   "execution_count": 2,
   "metadata": {},
   "outputs": [],
   "source": [
    "# 方法一 直接迭代比较\n",
    "#\t1356 ms\n",
    "class Solution:\n",
    "    def twoSum(self, nums, target):\n",
    "        \"\"\"\n",
    "        :type nums: List[int]\n",
    "        :type target: int\n",
    "        :rtype: List[int]\n",
    "        \"\"\"\n",
    "#         sub = []\n",
    "#         n = len(nums)\n",
    "#         # nums = sorted(nums)\n",
    "#         for i in range(n):\n",
    "#             sub.append(target - nums[i])\n",
    "#         for a in range(n):\n",
    "#             if (sub[a] in nums):\n",
    "#                 # if (sub[a]!=nums[a]):  #“不能重复使用”：——不应该比较数值是否一样，而应该比较下标\n",
    "#                 #     return [a,nums.index(sub[a])]\n",
    "\n",
    " \n",
    "        sub = []\n",
    "        n = len(nums)\n",
    "        for i in range(n):\n",
    "            sub = target - nums[i]\n",
    "            if sub in nums:\n",
    "                j = nums.index(sub)\n",
    "                if i!=j:\n",
    "                    return [i,j]\n",
    "        \n"
   ]
  },
  {
   "cell_type": "code",
   "execution_count": 7,
   "metadata": {},
   "outputs": [
    {
     "name": "stdout",
     "output_type": "stream",
     "text": [
      "[0, 1]\n"
     ]
    }
   ],
   "source": [
    "solution = Solution()\n",
    "print(solution.twoSum([2, 7, 11, 15],9))\n",
    "# print(solution.twoSum([3,3],6))"
   ]
  },
  {
   "cell_type": "code",
   "execution_count": 10,
   "metadata": {},
   "outputs": [
    {
     "data": {
      "text/plain": [
       "(0, 1)"
      ]
     },
     "execution_count": 10,
     "metadata": {},
     "output_type": "execute_result"
    }
   ],
   "source": [
    "# 2019年3月25日 xyzrobotics 面试  Oleguer 提示（复杂度： O(nlog（n））\n",
    "\n",
    "def twoSum(nums,target):\n",
    "    i,j = 0,len(nums)-1\n",
    "    nums = sorted(nums)\n",
    "    while i<j and nums[i]+nums[j] != target:\n",
    "        if nums[i]+nums[j] < target:\n",
    "            i += 1\n",
    "        else:\n",
    "            j -= 1\n",
    "    if nums[i]+nums[j] == target:\n",
    "        return i,j\n",
    "    return False\n",
    "\n",
    "twoSum([2, 7, 11, 15],9)"
   ]
  },
  {
   "cell_type": "code",
   "execution_count": 9,
   "metadata": {},
   "outputs": [
    {
     "data": {
      "text/plain": [
       "(1, 0)"
      ]
     },
     "execution_count": 9,
     "metadata": {},
     "output_type": "execute_result"
    }
   ],
   "source": [
    "# 复杂度 O（n*n）\n",
    "\n",
    "def twoSum(nums,target):\n",
    "    for i in range(len(nums)):\n",
    "        for j in range(len(nums)-1):\n",
    "            if nums[i]+nums[-j] == target:   \n",
    "                return i,j\n",
    "    return False\n",
    "\n",
    "twoSum([2, 7, 11, 15],9)"
   ]
  },
  {
   "cell_type": "code",
   "execution_count": null,
   "metadata": {},
   "outputs": [],
   "source": []
  },
  {
   "cell_type": "code",
   "execution_count": 40,
   "metadata": {},
   "outputs": [
    {
     "name": "stdout",
     "output_type": "stream",
     "text": [
      "{14: 0}\n",
      "{9: 1, 14: 0}\n",
      "{9: 1, 14: 0, 15: 2}\n",
      "[2, 3]\n"
     ]
    }
   ],
   "source": [
    "# 方法二 思想与一一致，只不过用字典/哈希实现，效率提高很多\n",
    "#    20 ms\n",
    "#    使用in关键字在列表中查询的复杂度是O(n), 而集合和字典的查询复杂度是O(1)\n",
    "def twoSum (nums,target):\n",
    "    dict_ = {}\n",
    "    for index,num in enumerate(nums):\n",
    "        if num in dict_: #效率主要提高在这，利用哈希表查找\n",
    "            return [dict_[num],index] \n",
    "        else:\n",
    "            #把 target-num 存储到字典里，key是target-num，value是此时num对应的位置标号\n",
    "            dict_[target-num] = index\n",
    "#         print(dict_)\n",
    "            \n",
    "a = (2,7,1,15)\n",
    "t = 16\n",
    "print(twoSum(a,t))  # (1,2)\n",
    "# a = (3,3)\n",
    "# t = 6\n",
    "# print(twoSum(a,t))  # (1,2)\n"
   ]
  },
  {
   "cell_type": "code",
   "execution_count": null,
   "metadata": {},
   "outputs": [],
   "source": []
  },
  {
   "cell_type": "code",
   "execution_count": 43,
   "metadata": {},
   "outputs": [
    {
     "name": "stdout",
     "output_type": "stream",
     "text": [
      "[3, 4]\n"
     ]
    }
   ],
   "source": [
    "#方法三 这个是stack overflow 上找到的 ，思想和方法二一致，代码精简\n",
    "# \t28 ms\n",
    "\n",
    "def two_sum(nums,target):\n",
    "    dict_ = {}\n",
    "    for n,x in enumerate(nums,1):\n",
    "        try:\n",
    "            return [dict_[x], n]\n",
    "        except KeyError:\n",
    "            dict_.setdefault(target - x,n) #也即是方法二的if else：dict_[target-num] = index\n",
    "            #setdefault（serach_value,default) 字典的查找，如果找到了search_value,则返回其值，如果找不到，则设置为default）\n",
    "            \n",
    "a = (2,7,1,15)\n",
    "t = 16\n",
    "print(two_sum(a,t))  # (1,2)"
   ]
  },
  {
   "cell_type": "code",
   "execution_count": null,
   "metadata": {},
   "outputs": [],
   "source": []
  }
 ],
 "metadata": {
  "kernelspec": {
   "display_name": "Python 3",
   "language": "python",
   "name": "python3"
  },
  "language_info": {
   "codemirror_mode": {
    "name": "ipython",
    "version": 3
   },
   "file_extension": ".py",
   "mimetype": "text/x-python",
   "name": "python",
   "nbconvert_exporter": "python",
   "pygments_lexer": "ipython3",
   "version": "3.6.5"
  }
 },
 "nbformat": 4,
 "nbformat_minor": 2
}
