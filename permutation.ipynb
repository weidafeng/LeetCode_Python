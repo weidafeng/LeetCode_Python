{
 "cells": [
  {
   "cell_type": "code",
   "execution_count": null,
   "metadata": {},
   "outputs": [],
   "source": []
  },
  {
   "cell_type": "code",
   "execution_count": null,
   "metadata": {},
   "outputs": [],
   "source": []
  },
  {
   "cell_type": "markdown",
   "metadata": {},
   "source": [
    "# 最直接的方法：利用标准库"
   ]
  },
  {
   "cell_type": "code",
   "execution_count": 2,
   "metadata": {},
   "outputs": [
    {
     "name": "stdout",
     "output_type": "stream",
     "text": [
      "[('A', 'B', 'C', 'D'), ('A', 'B', 'D', 'C'), ('A', 'C', 'B', 'D'), ('A', 'C', 'D', 'B'), ('A', 'D', 'B', 'C'), ('A', 'D', 'C', 'B'), ('B', 'A', 'C', 'D'), ('B', 'A', 'D', 'C'), ('B', 'C', 'A', 'D'), ('B', 'C', 'D', 'A'), ('B', 'D', 'A', 'C'), ('B', 'D', 'C', 'A'), ('C', 'A', 'B', 'D'), ('C', 'A', 'D', 'B'), ('C', 'B', 'A', 'D'), ('C', 'B', 'D', 'A'), ('C', 'D', 'A', 'B'), ('C', 'D', 'B', 'A'), ('D', 'A', 'B', 'C'), ('D', 'A', 'C', 'B'), ('D', 'B', 'A', 'C'), ('D', 'B', 'C', 'A'), ('D', 'C', 'A', 'B'), ('D', 'C', 'B', 'A')] 24\n"
     ]
    }
   ],
   "source": [
    "from itertools import permutations\n",
    "result = list(permutations(\"ABCD\"))\n",
    "\n",
    "print(result,len(result))"
   ]
  },
  {
   "cell_type": "markdown",
   "metadata": {},
   "source": [
    "# 全排列思路  \n",
    "## 1、直接法\n",
    "要对`ABCD`四个字母全排列，需要先完成三个字母的全排列、再把最后一个插在前三个全排列结果的任意一个位置  \n",
    "需要先完成两个数的全排列、再把后两个数插在前两个的任意一个位置  \n",
    "需要先完成一个数的全排列、再插入后三个数  \n",
    "\n",
    "### 过程\n",
    "**第一步：**  \n",
    "选取root：A  \n",
    "待插入元素： B\n",
    "\n",
    "['A'] B  \n",
    "['B', 'A']  \n",
    "['A', 'B']  \n",
    "result [['B', 'A'], ['A', 'B']]  \n",
    "\n",
    "**第二次：**   \n",
    "选取root：['B', 'A'], ['A', 'B']   \n",
    "待插入元素： C  \n",
    "[['B', 'A'], ['A', 'B']] C  \n",
    "['C', 'B', 'A']  \n",
    "['B', 'C', 'A']  \n",
    "['B', 'A', 'C']  \n",
    "['C', 'A', 'B']  \n",
    "['A', 'C', 'B']  \n",
    "['A', 'B', 'C']  \n",
    "result [['C', 'B', 'A'], ['B', 'C', 'A'], ['B', 'A', 'C'], ['C', 'A', 'B'], ['A', 'C', 'B'], ['A', 'B', 'C']]  \n",
    " "
   ]
  },
  {
   "cell_type": "markdown",
   "metadata": {},
   "source": [
    "### 写一个插入函数  \n",
    "把元素`x`插入到列表`lst`的任意个位置"
   ]
  },
  {
   "cell_type": "code",
   "execution_count": 44,
   "metadata": {},
   "outputs": [
    {
     "name": "stdout",
     "output_type": "stream",
     "text": [
      "[['x', 'A', 'B', 'C', 'D'], ['A', 'x', 'B', 'C', 'D'], ['A', 'B', 'x', 'C', 'D'], ['A', 'B', 'C', 'x', 'D'], ['A', 'B', 'C', 'D', 'x']]\n"
     ]
    }
   ],
   "source": [
    "import copy\n",
    "\n",
    "lst = \"ABCD\"\n",
    "lst = list(lst)  # 转化成列表，可以使用insert方法\n",
    "n = len(lst)  # 列表长度\n",
    "\n",
    "result = []\n",
    "for i in range(n+1):  # 插入到每个能插的位置\n",
    "    lst.insert(i,\"x\")   \n",
    "    result.append(lst)\n",
    "    result = copy.deepcopy(result)  # 列表需要深拷贝，否则只是复制原列表的地址（原列表修改，该列表跟着修改）\n",
    "#     print(result)\n",
    "    del lst[i]  # 删除刚刚该插入的元素、继续往下个位置插\n",
    "print(result)\n",
    "    "
   ]
  },
  {
   "cell_type": "markdown",
   "metadata": {},
   "source": [
    "或者不使用深拷贝，使用tuple元组，生成一个不可修改的新对象"
   ]
  },
  {
   "cell_type": "code",
   "execution_count": 2,
   "metadata": {},
   "outputs": [
    {
     "name": "stdout",
     "output_type": "stream",
     "text": [
      "[('x', 'A', 'B', 'C', 'D'), ('A', 'x', 'B', 'C', 'D'), ('A', 'B', 'x', 'C', 'D'), ('A', 'B', 'C', 'x', 'D'), ('A', 'B', 'C', 'D', 'x')]\n"
     ]
    }
   ],
   "source": [
    "\n",
    "lst = \"ABCD\"\n",
    "lst = list(lst)  # 转化成列表，可以使用insert方法\n",
    "n = len(lst)  # 列表长度\n",
    "\n",
    "result = []\n",
    "for i in range(n+1):  # 插入到每个能插的位置\n",
    "    lst.insert(i,\"x\")   \n",
    "    result.append(tuple(lst))  # 保存结果时应该生成一个新对象，例如tuple元组\n",
    "#     print(result)\n",
    "    del lst[i]  # 删除刚刚该插入的元素、继续往下个位置插\n",
    "print(result)\n",
    "    "
   ]
  },
  {
   "cell_type": "code",
   "execution_count": 52,
   "metadata": {
    "scrolled": true
   },
   "outputs": [
    {
     "name": "stdout",
     "output_type": "stream",
     "text": [
      "['A'] B\n",
      "['B', 'A']\n",
      "['A', 'B']\n",
      "result [['B', 'A'], ['A', 'B']]\n",
      "[['B', 'A'], ['A', 'B']] C\n",
      "['C', 'B', 'A']\n",
      "['B', 'C', 'A']\n",
      "['B', 'A', 'C']\n",
      "['C', 'A', 'B']\n",
      "['A', 'C', 'B']\n",
      "['A', 'B', 'C']\n",
      "result [['C', 'B', 'A'], ['B', 'C', 'A'], ['B', 'A', 'C'], ['C', 'A', 'B'], ['A', 'C', 'B'], ['A', 'B', 'C']]\n"
     ]
    },
    {
     "data": {
      "text/plain": [
       "([['C', 'B', 'A'],\n",
       "  ['B', 'C', 'A'],\n",
       "  ['B', 'A', 'C'],\n",
       "  ['C', 'A', 'B'],\n",
       "  ['A', 'C', 'B'],\n",
       "  ['A', 'B', 'C']],\n",
       " 6)"
      ]
     },
     "execution_count": 52,
     "metadata": {},
     "output_type": "execute_result"
    }
   ],
   "source": [
    "import copy\n",
    "\n",
    "def insert_elem(root,elem):\n",
    "    root = list(root)\n",
    "    print(root,elem)\n",
    "    n = len(root)  # 列表长度\n",
    "    result = [] \n",
    "    \n",
    "    \n",
    "    if n == 1:  # 特殊情况，如果n=1，此时只有一个元素，root[0]是个str，而非list，不能用list.insert()\n",
    "        for i in range(n+1):  # 插入到每个能插的位置\n",
    "            root.insert(i,elem)  \n",
    "            print(root)\n",
    "            result.append(root)\n",
    "            result = copy.deepcopy(result)  # 列表需要深拷贝\n",
    "        #     print(result)\n",
    "            del root[i]  # 删除刚刚该插入的元素、继续往下个位置插 \n",
    "            \n",
    "    else:\n",
    "        for j in range(len(root)): #遍历上次得到的每个结果\n",
    "            for i in range(len(root[j])+1):  # 插入到每个能插的位置\n",
    "#                 print(\"i,j:\",i,j)\n",
    "                root[j].insert(i,elem)  \n",
    "                print(root[j])\n",
    "                result.append(root[j])\n",
    "                result = copy.deepcopy(result)  # 列表需要深拷贝\n",
    "            #     print(result)\n",
    "                del root[j][i]  # 删除刚刚该插入的元素、继续往下个位置插\n",
    "    print(\"result\",result)\n",
    "    return result\n",
    "\n",
    "        \n",
    "def permutation(lst):\n",
    "    root = lst[0] # 第一个元素为初始根\n",
    "    for i in range(1,len(lst)):\n",
    "        root = insert_elem(root,lst[i])\n",
    "    return root,len(root)\n",
    "\n",
    "permutation(\"ABC\")"
   ]
  },
  {
   "cell_type": "code",
   "execution_count": 98,
   "metadata": {},
   "outputs": [
    {
     "name": "stdout",
     "output_type": "stream",
     "text": [
      "['1'] 2\n",
      "['2', '1']\n",
      "['1', '2']\n",
      "result [['2', '1'], ['1', '2']]\n",
      "[['2', '1'], ['1', '2']] 3\n",
      "['3', '2', '1']\n",
      "['2', '3', '1']\n",
      "['2', '1', '3']\n",
      "['3', '1', '2']\n",
      "['1', '3', '2']\n",
      "['1', '2', '3']\n",
      "result [['3', '2', '1'], ['2', '3', '1'], ['2', '1', '3'], ['3', '1', '2'], ['1', '3', '2'], ['1', '2', '3']]\n"
     ]
    }
   ],
   "source": [
    "result = permutation(\"123\")"
   ]
  },
  {
   "cell_type": "code",
   "execution_count": null,
   "metadata": {},
   "outputs": [],
   "source": []
  },
  {
   "cell_type": "code",
   "execution_count": null,
   "metadata": {},
   "outputs": [],
   "source": []
  },
  {
   "cell_type": "markdown",
   "metadata": {},
   "source": [
    "## 方法二 递归  \n",
    "\n"
   ]
  },
  {
   "cell_type": "code",
   "execution_count": 96,
   "metadata": {},
   "outputs": [
    {
     "name": "stdout",
     "output_type": "stream",
     "text": [
      "[['A', 'B', 'C'], ['B', 'A', 'C'], ['C', 'B', 'A'], ['A', 'C', 'B']]\n",
      "\n",
      "注意：\n",
      "两两交换考虑不完全——如，漏掉CAB\\BCA\n",
      "\n"
     ]
    }
   ],
   "source": [
    "import copy\n",
    "def permutation2(lst):\n",
    "    lst = list(lst)\n",
    "    lst_raw = copy.deepcopy(lst)\n",
    "    result = []\n",
    "    for i in range(len(lst)):\n",
    "        for j in range(len(lst)):\n",
    "            lst[i],lst[j] = lst[j], lst[i]  # 交换第i、j 两个元素\n",
    "            if lst not in result:  # 如果不重复,存储结果\n",
    "#                 print(lst)\n",
    "                result.append(lst)  \n",
    "                result = copy.deepcopy(result)\n",
    "#             print(\"lst \",lst)\n",
    "#                 print(result)\n",
    "            lst[i],lst[j] = lst[j], lst[i]  # 复原\n",
    "#         print(lst)\n",
    "    return result\n",
    "x = permutation2(\"ABC\")\n",
    "\n",
    "'''\n",
    "注意：\n",
    "两两交换考虑不完全——如，漏掉CAB\\BCA\n",
    "'''\n",
    "print(x)\n",
    "print(__doc__)"
   ]
  },
  {
   "cell_type": "code",
   "execution_count": null,
   "metadata": {},
   "outputs": [],
   "source": []
  },
  {
   "cell_type": "code",
   "execution_count": 3,
   "metadata": {},
   "outputs": [
    {
     "name": "stdout",
     "output_type": "stream",
     "text": [
      "lst  ['A', 'B', 'C']\n",
      "lst  ['B', 'A', 'C']\n",
      "lst  ['C', 'B', 'A']\n",
      "lst  ['B', 'A', 'C']\n",
      "lst  ['A', 'B', 'C']\n",
      "lst  ['A', 'C', 'B']\n",
      "lst  ['C', 'B', 'A']\n",
      "lst  ['A', 'C', 'B']\n",
      "lst  ['A', 'B', 'C']\n"
     ]
    },
    {
     "data": {
      "text/plain": [
       "[]"
      ]
     },
     "execution_count": 3,
     "metadata": {},
     "output_type": "execute_result"
    }
   ],
   "source": [
    "import copy\n",
    "def permutation2(lst):\n",
    "    lst = list(lst)\n",
    "    lst_raw = copy.deepcopy(lst)\n",
    "    result = []\n",
    "    for i in range(len(lst)):\n",
    "        for j in range(len(lst)):\n",
    "            lst[i],lst[j] = lst[j], lst[i]  # 交换第i、j 两个元素\n",
    "            '''\n",
    "            if lst not in result:  # 如果不重复\n",
    "#                 print(lst)\n",
    "                result.append(lst)\n",
    "                result = copy.deepcopy(result)\n",
    "            '''\n",
    "            print(\"lst \",lst)\n",
    "#                 print(result)\n",
    "            lst[i],lst[j] = lst[j], lst[i]  # 复原\n",
    "#         print(lst)\n",
    "    return result\n",
    "permutation2(\"ABC\")"
   ]
  },
  {
   "cell_type": "markdown",
   "metadata": {},
   "source": [
    "## 递归法"
   ]
  },
  {
   "cell_type": "code",
   "execution_count": 5,
   "metadata": {},
   "outputs": [
    {
     "name": "stdout",
     "output_type": "stream",
     "text": [
      "[1, 2, 3, 4]\n",
      "[1, 2, 4, 3]\n",
      "[1, 3, 2, 4]\n",
      "[1, 3, 4, 2]\n",
      "[1, 4, 3, 2]\n",
      "[1, 4, 2, 3]\n",
      "[2, 1, 3, 4]\n",
      "[2, 1, 4, 3]\n",
      "[2, 3, 1, 4]\n",
      "[2, 3, 4, 1]\n",
      "[2, 4, 3, 1]\n",
      "[2, 4, 1, 3]\n",
      "[3, 2, 1, 4]\n",
      "[3, 2, 4, 1]\n",
      "[3, 1, 2, 4]\n",
      "[3, 1, 4, 2]\n",
      "[3, 4, 1, 2]\n",
      "[3, 4, 2, 1]\n",
      "[4, 2, 3, 1]\n",
      "[4, 2, 1, 3]\n",
      "[4, 3, 2, 1]\n",
      "[4, 3, 1, 2]\n",
      "[4, 1, 3, 2]\n",
      "[4, 1, 2, 3]\n",
      "24\n"
     ]
    }
   ],
   "source": [
    "count = 0\n",
    "def permutation(arr,position, end):\n",
    "    global count\n",
    "    if position < end: # 如果 此时指向的元素不是最后一个元素\n",
    "        for index in range(position, end):  # 从头到尾遍历\n",
    "            arr[position], arr[index]  = arr[index], arr[position]   # 把当前位置的元素与后续元素逐个交换（包括当前元素本身——不变），此步依次得到当前位置的各种可能取值\n",
    "            permutation(arr, position+1, end) # 确定当前位置取值后，递归、依次确定后续位置取值\n",
    "            arr[position], arr[index]  = arr[index], arr[position]   # 还原为原数组，继续考虑下一个位置的各种情况\n",
    "\n",
    "    else:  # 只有迭代到最后一个元素，此时只有一种情况，才输出\n",
    "        count += 1\n",
    "\n",
    "        print(arr)\n",
    "        \n",
    "n = 4\n",
    "arr = [i for i in range(1,n+1)]\n",
    "permutation(arr, 0, len(arr))\n",
    "print(count)\n",
    "\n"
   ]
  },
  {
   "cell_type": "code",
   "execution_count": 112,
   "metadata": {},
   "outputs": [],
   "source": []
  },
  {
   "cell_type": "code",
   "execution_count": 1,
   "metadata": {},
   "outputs": [
    {
     "name": "stdout",
     "output_type": "stream",
     "text": [
      "12345678\n"
     ]
    }
   ],
   "source": [
    "lst = \"\"\n",
    "n = 8\n",
    "for i in range(1,n+1):\n",
    "    lst += str(i)\n",
    "print(lst)\n"
   ]
  },
  {
   "cell_type": "markdown",
   "metadata": {},
   "source": [
    "# join()：    \n",
    "连接字符串数组。\n",
    "\n",
    "将字符串、元组、列表中的元素以指定的字符(分隔符)连接生成一个新的字符串  \n",
    "\n",
    "## 语法： \n",
    "'sep'.join(seq)  \n",
    "以sep作为分隔符，将seq所有的元素合并成一个新的字符串\n",
    "\n",
    "返回值：返回一个以分隔符sep连接各个元素后生成的字符串"
   ]
  },
  {
   "cell_type": "code",
   "execution_count": 132,
   "metadata": {},
   "outputs": [],
   "source": [
    "result= [['3', '2', '1'],\n",
    " ['2', '3', '1'],\n",
    " ['2', '1', '3'],\n",
    " ['3', '1', '2'],\n",
    " ['1', '3', '2'],\n",
    " ['1', '2', '3']]"
   ]
  },
  {
   "cell_type": "code",
   "execution_count": 133,
   "metadata": {},
   "outputs": [
    {
     "data": {
      "text/plain": [
       "[['3', '2', '1'],\n",
       " ['2', '3', '1'],\n",
       " ['2', '1', '3'],\n",
       " ['3', '1', '2'],\n",
       " ['1', '3', '2'],\n",
       " ['1', '2', '3']]"
      ]
     },
     "execution_count": 133,
     "metadata": {},
     "output_type": "execute_result"
    }
   ],
   "source": [
    "result"
   ]
  },
  {
   "cell_type": "code",
   "execution_count": 118,
   "metadata": {},
   "outputs": [
    {
     "data": {
      "text/plain": [
       "'321'"
      ]
     },
     "execution_count": 118,
     "metadata": {},
     "output_type": "execute_result"
    }
   ],
   "source": [
    "str1 = ''.join(result[0])\n",
    "str1"
   ]
  },
  {
   "cell_type": "code",
   "execution_count": 134,
   "metadata": {},
   "outputs": [],
   "source": [
    "result = [int(\"\".join(i)) for i in result]"
   ]
  },
  {
   "cell_type": "code",
   "execution_count": 138,
   "metadata": {},
   "outputs": [
    {
     "data": {
      "text/plain": [
       "[123, 132, 213, 231, 312, 321]"
      ]
     },
     "execution_count": 138,
     "metadata": {},
     "output_type": "execute_result"
    }
   ],
   "source": [
    "result"
   ]
  },
  {
   "cell_type": "code",
   "execution_count": 136,
   "metadata": {},
   "outputs": [],
   "source": [
    "result.sort()"
   ]
  },
  {
   "cell_type": "code",
   "execution_count": 137,
   "metadata": {},
   "outputs": [
    {
     "data": {
      "text/plain": [
       "[123, 132, 213, 231, 312, 321]"
      ]
     },
     "execution_count": 137,
     "metadata": {},
     "output_type": "execute_result"
    }
   ],
   "source": [
    "result"
   ]
  },
  {
   "cell_type": "code",
   "execution_count": null,
   "metadata": {},
   "outputs": [],
   "source": [
    "sorted(result)"
   ]
  }
 ],
 "metadata": {
  "kernelspec": {
   "display_name": "Python 3",
   "language": "python",
   "name": "python3"
  },
  "language_info": {
   "codemirror_mode": {
    "name": "ipython",
    "version": 3
   },
   "file_extension": ".py",
   "mimetype": "text/x-python",
   "name": "python",
   "nbconvert_exporter": "python",
   "pygments_lexer": "ipython3",
   "version": "3.6.8"
  }
 },
 "nbformat": 4,
 "nbformat_minor": 2
}
