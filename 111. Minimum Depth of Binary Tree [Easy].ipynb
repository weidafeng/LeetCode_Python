{
 "cells": [
  {
   "cell_type": "markdown",
   "metadata": {},
   "source": [
    "# 111. Minimum Depth of Binary Tree  Easy\n",
    "\n",
    "https://leetcode.com/problems/minimum-depth-of-binary-tree/submissions/"
   ]
  },
  {
   "cell_type": "code",
   "execution_count": null,
   "metadata": {},
   "outputs": [],
   "source": []
  },
  {
   "cell_type": "code",
   "execution_count": null,
   "metadata": {},
   "outputs": [],
   "source": []
  },
  {
   "cell_type": "code",
   "execution_count": null,
   "metadata": {},
   "outputs": [],
   "source": []
  },
  {
   "cell_type": "code",
   "execution_count": null,
   "metadata": {},
   "outputs": [],
   "source": [
    "# 方法一 求最短深度，也就是求最小层数\n",
    "# Success\n",
    "# Details \n",
    "# Runtime: 76 ms, faster than 6.33% of Python online submissions for Minimum Depth of Binary Tree.\n",
    "# Memory Usage: 14.7 MB, less than 5.35% of Python online submissions for Minimum Depth of Binary Tree.\n",
    "\n",
    "# Definition for a binary tree node.\n",
    "# class TreeNode(object):\n",
    "#     def __init__(self, x):\n",
    "#         self.val = x\n",
    "#         self.left = None\n",
    "#         self.right = None\n",
    "\n",
    "# 求最短深度，也就是最浅层数\n",
    "class Solution(object):\n",
    "    def minDepth(self, root):\n",
    "        \"\"\"\n",
    "        :type root: TreeNode\n",
    "        :rtype: int\n",
    "        \"\"\"\n",
    "        if not root:\n",
    "            return 0\n",
    "        deque = [root] # 存储各层节点（只存储一层）\n",
    "        depth = 0\n",
    "        while len(deque) : \n",
    "            depth += 1 \n",
    "            for i in range(len(deque)):\n",
    "#                 print(i,depth,deque)\n",
    "                if not deque[0].left and not deque[0].right: # 如果该节点下面不存在子树了，则得到最短层数，返回\n",
    "                    return depth\n",
    "                if deque[0].left: # 如果左子树存在，则记录到deque中\n",
    "                    deque.append(deque[0].left)\n",
    "                if deque[0].right: # 如果右子树存在，则记录到deque中\n",
    "                    deque.append(deque[0].right)\n",
    "                del deque[0]  # 不管该节点下面有没有子树，都删去（已经存储了其子树），继续比较同层的下一个节点\n",
    "            \n",
    "        return depth"
   ]
  },
  {
   "cell_type": "code",
   "execution_count": null,
   "metadata": {},
   "outputs": [],
   "source": [
    "# Runtime: 36 ms, faster than 79.94% of Python online submissions for Minimum Depth of Binary Tree.\n",
    "# Memory Usage: 14.6 MB, less than 5.35% of Python online submissions for Minimum Depth of Binary Tree.\n",
    "\n",
    "# 方法一 优化，以空间换时间（借助临时变量tmp存储当层节点，不需要像上面一样每次del deque[0]）\n",
    "# 求最短深度，也就是最浅层数\n",
    "class Solution(object):\n",
    "    def minDepth(self, root):\n",
    "        \"\"\"\n",
    "        :type root: TreeNode\n",
    "        :rtype: int\n",
    "        \"\"\"\n",
    "        if not root:\n",
    "            return 0\n",
    "        deque = [root] # 存储各层节点（只存储一层）\n",
    "        depth = 0\n",
    "        \n",
    "        while deque:\n",
    "            depth += 1\n",
    "            tmp = [] # 临时变量，存储当层节点\n",
    "            for i in deque:\n",
    "                if not i.left and not i.right:\n",
    "                    return depth\n",
    "                if i.left:\n",
    "                    tmp.append(i.left)\n",
    "                if i.right:\n",
    "                    tmp.append(i.right)\n",
    "                    \n",
    "            deque = tmp #存储当层节点\n",
    "        return depth\n",
    "\n",
    "        "
   ]
  },
  {
   "cell_type": "code",
   "execution_count": null,
   "metadata": {},
   "outputs": [],
   "source": [
    "# 方法三 递归法\n",
    "# Runtime: 56 ms, faster than 6.33% of Python online submissions for Minimum Depth of Binary Tree.\n",
    "# Memory Usage: 14.8 MB, less than 5.35% of Python online submissions for Minimum Depth of Binary \n",
    "\n",
    "class Solution(object):\n",
    "    def minDepth(self, root):\n",
    "        if root == None:\n",
    "            return 0\n",
    "        if root.left==None and root.right==None:\n",
    "            return 1\n",
    "        \n",
    "        l,r = 9999,9999 # 都初始化为一个很大的值，避免样例只有左子树或右子树———l或r无值\n",
    "        if root.left!=None:\n",
    "            l = self.minDepth(root.left)\n",
    "            \n",
    "        if root.right!=None:\n",
    "            r = self.minDepth(root.right)\n",
    "        \n",
    "        return min(l,r)+1"
   ]
  },
  {
   "cell_type": "markdown",
   "metadata": {},
   "source": [
    "# TODO: 没看懂递归方法"
   ]
  },
  {
   "cell_type": "code",
   "execution_count": null,
   "metadata": {},
   "outputs": [],
   "source": [
    "# 递归法\n",
    "# Runtime: 40 ms, faster than 43.93% of Python online submissions for Minimum Depth of Binary Tree.\n",
    "\n",
    "class Solution(object):\n",
    "    def minDepth(self, root):\n",
    "        if root is None:\n",
    "            return 0\n",
    "        left = self.minDepth(root.left)\n",
    "        # print(\"left:\",left)\n",
    "        right = self.minDepth(root.right)\n",
    "        # print(\"right:\",right)\n",
    "        if left and right:\n",
    "            return min(left, right) + 1\n",
    "        return max(left, right) + 1"
   ]
  }
 ],
 "metadata": {
  "kernelspec": {
   "display_name": "Python 3",
   "language": "python",
   "name": "python3"
  },
  "language_info": {
   "codemirror_mode": {
    "name": "ipython",
    "version": 3
   },
   "file_extension": ".py",
   "mimetype": "text/x-python",
   "name": "python",
   "nbconvert_exporter": "python",
   "pygments_lexer": "ipython3",
   "version": "3.6.5"
  }
 },
 "nbformat": 4,
 "nbformat_minor": 2
}
